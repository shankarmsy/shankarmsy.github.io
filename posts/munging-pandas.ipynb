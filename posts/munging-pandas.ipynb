{
 "metadata": {
  "name": "",
  "signature": "sha256:e541905b27dd44a9a0920c4998e6566ff45908d5900134aa316d4c90b6e42740"
 },
 "nbformat": 3,
 "nbformat_minor": 0,
 "worksheets": [
  {
   "cells": [
    {
     "cell_type": "markdown",
     "metadata": {},
     "source": [
      "Pandas is a Python library for doing data analysis. It's really fast and lets you do exploratory work incredibly quickly.\n",
      "\n",
      "In this post I will demonstrate some advanced data munging/wrangling concepts with the awesome Pandas. I intend to code more and write less but will add help text as much as possible. Check out the pandas help documentation to learn more.\n",
      "\n",
      "OK, let's get started.\n",
      "<!-- TEASER_END -->\n",
      "\n",
      "For basics of Pandas, refer to my earlier post [Dive-in to Pandas](/posts/dive-in-to-pandas.html)."
     ]
    },
    {
     "cell_type": "code",
     "collapsed": false,
     "input": [
      "#Importing required Python packages\n",
      "%matplotlib inline\n",
      "import matplotlib.pyplot as plt\n",
      "import numpy as np\n",
      "from pprint import pprint\n",
      "import pandas as pd\n",
      "import zipfile\n",
      "import requests\n",
      "import StringIO\n",
      "import datetime\n",
      "import seaborn\n",
      "from datetime import datetime\n",
      "\n",
      "np.random.seed(sum(map(ord, \"aesthetics\")))\n",
      "seaborn.set_context('notebook')\n",
      "\n",
      "pd.set_option('display.mpl_style', 'default') # Make the graphs a bit prettier\n",
      "plt.rcParams['figure.figsize'] = (15, 5) \n",
      "\n",
      "# Set some Pandas options\n",
      "pd.set_option('display.notebook_repr_html', False)\n",
      "pd.set_option('display.max_columns', 20)\n",
      "pd.set_option('display.max_rows', 25)"
     ],
     "language": "python",
     "metadata": {},
     "outputs": [],
     "prompt_number": 11
    },
    {
     "cell_type": "code",
     "collapsed": false,
     "input": [
      "#Let's read in a sample crime database from Sacramento for our analysis.\n",
      "crime=pd.read_csv('SacramentocrimeJanuary2006.csv', parse_dates='True', index_col='cdatetime')"
     ],
     "language": "python",
     "metadata": {},
     "outputs": [],
     "prompt_number": 8
    },
    {
     "cell_type": "code",
     "collapsed": false,
     "input": [
      "crime.head()"
     ],
     "language": "python",
     "metadata": {},
     "outputs": [
      {
       "metadata": {},
       "output_type": "pyout",
       "prompt_number": 10,
       "text": [
        "                         address  district        beat  grid  \\\n",
        "cdatetime                                                      \n",
        "1/1/06 0:00   3108 OCCIDENTAL DR         3  3C          1115   \n",
        "1/1/06 0:00  2082 EXPEDITION WAY         5  5A          1512   \n",
        "1/1/06 0:00           4 PALEN CT         2  2A           212   \n",
        "1/1/06 0:00       22 BECKFORD CT         6  6C          1443   \n",
        "1/1/06 0:00     3421 AUBURN BLVD         2  2A           508   \n",
        "\n",
        "                                crimedescr  ucr_ncic_code   latitude  \\\n",
        "cdatetime                                                              \n",
        "1/1/06 0:00  10851(A)VC TAKE VEH W/O OWNER           2404  38.550420   \n",
        "1/1/06 0:00     459 PC  BURGLARY RESIDENCE           2204  38.473501   \n",
        "1/1/06 0:00  10851(A)VC TAKE VEH W/O OWNER           2404  38.657846   \n",
        "1/1/06 0:00   476 PC PASS FICTICIOUS CHECK           2501  38.506774   \n",
        "1/1/06 0:00   459 PC  BURGLARY-UNSPECIFIED           2299  38.637448   \n",
        "\n",
        "              longitude  \n",
        "cdatetime                \n",
        "1/1/06 0:00 -121.391416  \n",
        "1/1/06 0:00 -121.490186  \n",
        "1/1/06 0:00 -121.462101  \n",
        "1/1/06 0:00 -121.426951  \n",
        "1/1/06 0:00 -121.384613  "
       ]
      }
     ],
     "prompt_number": 10
    },
    {
     "cell_type": "code",
     "collapsed": false,
     "input": [
      "#Quick Histogram of crimes in different districts.\n",
      "crime.district.hist(bins=20)\n",
      "plt.show()"
     ],
     "language": "python",
     "metadata": {},
     "outputs": [
      {
       "metadata": {},
       "output_type": "display_data",
       "png": "[encoded data removed]",
       "text": [
        "<matplotlib.figure.Figure at 0x7fd914429cd0>"
       ]
      }
     ],
     "prompt_number": 15
    },
    {
     "cell_type": "code",
     "collapsed": false,
     "input": [
      "#Let's recapture the datetime as a different field so we could play with it (it's currently set as the index)\n",
      "crime['date']=crime.index\n",
      "\n",
      "#Check data type - note that its not in any particular format\n",
      "crime.date.dtype\n",
      "\n",
      "#We can convert this field to datetime easily\n",
      "pd.to_datetime(crime.date)"
     ],
     "language": "python",
     "metadata": {},
     "outputs": [
      {
       "metadata": {},
       "output_type": "pyout",
       "prompt_number": 29,
       "text": [
        "cdatetime\n",
        "1/1/06 0:00   2006-01-01\n",
        "1/1/06 0:00   2006-01-01\n",
        "1/1/06 0:00   2006-01-01\n",
        "1/1/06 0:00   2006-01-01\n",
        "1/1/06 0:00   2006-01-01\n",
        "1/1/06 0:00   2006-01-01\n",
        "1/1/06 0:00   2006-01-01\n",
        "1/1/06 0:00   2006-01-01\n",
        "1/1/06 0:00   2006-01-01\n",
        "1/1/06 0:00   2006-01-01\n",
        "...\n",
        "1/31/06 23:00   2006-01-31 23:00:00\n",
        "1/31/06 23:00   2006-01-31 23:00:00\n",
        "1/31/06 23:00   2006-01-31 23:00:00\n",
        "1/31/06 23:11   2006-01-31 23:11:00\n",
        "1/31/06 23:27   2006-01-31 23:27:00\n",
        "1/31/06 23:31   2006-01-31 23:31:00\n",
        "1/31/06 23:36   2006-01-31 23:36:00\n",
        "1/31/06 23:40   2006-01-31 23:40:00\n",
        "1/31/06 23:41   2006-01-31 23:41:00\n",
        "1/31/06 23:45   2006-01-31 23:45:00\n",
        "1/31/06 23:50   2006-01-31 23:50:00\n",
        "Name: date, Length: 7584, dtype: datetime64[ns]"
       ]
      }
     ],
     "prompt_number": 29
    },
    {
     "cell_type": "code",
     "collapsed": false,
     "input": [
      "crime[crime.date.isnull()]"
     ],
     "language": "python",
     "metadata": {},
     "outputs": [
      {
       "metadata": {},
       "output_type": "pyout",
       "prompt_number": 31,
       "text": [
        "Empty DataFrame\n",
        "Columns: [address, district, beat, grid, crimedescr, ucr_ncic_code, latitude, longitude, date]\n",
        "Index: []"
       ]
      }
     ],
     "prompt_number": 31
    },
    {
     "cell_type": "code",
     "collapsed": false,
     "input": [
      "#Merge and Concat\n",
      "\n",
      "#Let's create two simple dataframes and try to merge them\n",
      "df1=pd.DataFrame(dict(id=range(10), score=np.random.randint(1,11, size=10)))\n",
      "df2=pd.DataFrame(dict(id=range(15), precision=np.random.randint(6,20,size=15)))\n",
      "\n",
      "print df1.describe(), df2.describe()\n",
      "\n",
      "#So df1 and df2 are just a bunch of random integers. df2 is slightly bigger with some overlap to df1.\n",
      "\n",
      "#Merge performs an inner join so returns only matching indexes, exactly 10 in our case.\n",
      "df3 = pd.merge(df1,df2) #we can make this outer join with how='outer'\n",
      "\n",
      "print df3"
     ],
     "language": "python",
     "metadata": {},
     "outputs": [
      {
       "output_type": "stream",
       "stream": "stdout",
       "text": [
        "             id     score\n",
        "count  10.00000  10.00000\n",
        "mean    4.50000   4.80000\n",
        "std     3.02765   2.20101\n",
        "min     0.00000   1.00000\n",
        "25%     2.25000   3.25000\n",
        "50%     4.50000   5.00000\n",
        "75%     6.75000   6.00000\n",
        "max     9.00000   9.00000               id  precision\n",
        "count  15.000000  15.000000\n",
        "mean    7.000000  13.133333\n",
        "std     4.472136   3.758166\n",
        "min     0.000000   7.000000\n",
        "25%     3.500000  11.500000\n",
        "50%     7.000000  13.000000\n",
        "75%    10.500000  15.500000\n",
        "max    14.000000  19.000000\n",
        "   id  score  precision\n",
        "0   0      3         13\n",
        "1   1      6         15\n",
        "2   2      4         11\n",
        "3   3      6         13\n",
        "4   4      5         18\n",
        "5   5      6          8\n",
        "6   6      5         12\n",
        "7   7      1          7\n",
        "8   8      3         17\n",
        "9   9      9         12\n"
       ]
      }
     ],
     "prompt_number": 48
    },
    {
     "cell_type": "code",
     "collapsed": false,
     "input": [
      "#While concat just appends rows (or cols if axis=1)\n",
      "df4=pd.concat([df1,df2])\n",
      "\n",
      "print df4"
     ],
     "language": "python",
     "metadata": {},
     "outputs": [
      {
       "output_type": "stream",
       "stream": "stdout",
       "text": [
        "    id  precision  score\n",
        "0    0        NaN      3\n",
        "1    1        NaN      6\n",
        "2    2        NaN      4\n",
        "3    3        NaN      6\n",
        "4    4        NaN      5\n",
        "5    5        NaN      6\n",
        "6    6        NaN      5\n",
        "7    7        NaN      1\n",
        "8    8        NaN      3\n",
        "9    9        NaN      9\n",
        "0    0         13    NaN\n",
        "1    1         15    NaN\n",
        "2    2         11    NaN\n",
        "3    3         13    NaN\n",
        "4    4         18    NaN\n",
        "5    5          8    NaN\n",
        "6    6         12    NaN\n",
        "7    7          7    NaN\n",
        "8    8         17    NaN\n",
        "9    9         12    NaN\n",
        "10  10         19    NaN\n",
        "11  11         15    NaN\n",
        "12  12         16    NaN\n",
        "13  13         14    NaN\n",
        "14  14          7    NaN\n"
       ]
      }
     ],
     "prompt_number": 49
    },
    {
     "cell_type": "code",
     "collapsed": false,
     "input": [
      "#Column wise concat\n",
      "print pd.concat([df1,df2[:10]['precision']],axis=1)\n",
      "\n",
      "#We can convert this to an inner join with a join = 'inner' parameter"
     ],
     "language": "python",
     "metadata": {},
     "outputs": [
      {
       "output_type": "stream",
       "stream": "stdout",
       "text": [
        "   id  score  precision\n",
        "0   0      3         13\n",
        "1   1      6         15\n",
        "2   2      4         11\n",
        "3   3      6         13\n",
        "4   4      5         18\n",
        "5   5      6          8\n",
        "6   6      5         12\n",
        "7   7      1          7\n",
        "8   8      3         17\n",
        "9   9      9         12\n"
       ]
      }
     ],
     "prompt_number": 56
    },
    {
     "cell_type": "code",
     "collapsed": false,
     "input": [
      "#We can create hierarchical indexes by specifying keys\n",
      "df2['recall']=np.random.random(15)\n",
      "df5=pd.concat([df1,df2[:10]], join='inner', keys=['id1','id2'],axis=1)\n",
      "\n",
      "df5 #Hierarchical indexes can be referenced as df5.id2.precision and so on."
     ],
     "language": "python",
     "metadata": {},
     "outputs": [
      {
       "metadata": {},
       "output_type": "pyout",
       "prompt_number": 75,
       "text": [
        "   id1         id2                     \n",
        "    id  score   id  precision    recall\n",
        "0    0      3    0         13  0.911068\n",
        "1    1      6    1         15  0.571435\n",
        "2    2      4    2         11  0.492971\n",
        "3    3      6    3         13  0.112970\n",
        "4    4      5    4         18  0.515867\n",
        "5    5      6    5          8  0.592116\n",
        "6    6      5    6         12  0.219727\n",
        "7    7      1    7          7  0.434970\n",
        "8    8      3    8         17  0.787740\n",
        "9    9      9    9         12  0.299421"
       ]
      }
     ],
     "prompt_number": 75
    },
    {
     "cell_type": "code",
     "collapsed": false,
     "input": [
      "#Now, let's try to find burglaries in sacramento using the str.contains functions\n",
      "burglaries=crime[crime.crimedescr.str.contains('BURGLARY', 'burglary')][:10]\n",
      "print burglaries.head()\n",
      "\n",
      "#Let's find out how many crimes occurred by weekday\n",
      "burglaries.index=pd.to_datetime(burglaries.index)\n",
      "burglaries['weekday']=burglaries.index.weekday #capture weekday\n",
      "burglaries.groupby('weekday')['district'].hist(bins=20)\n",
      "plt.suptitle('Burglaries occuring by Weekday in Sacramento', fontsize=14)\n",
      "plt.show()"
     ],
     "language": "python",
     "metadata": {},
     "outputs": [
      {
       "output_type": "stream",
       "stream": "stdout",
       "text": [
        "                         address  district        beat  grid  \\\n",
        "cdatetime                                                      \n",
        "1/1/06 0:00  2082 EXPEDITION WAY         5  5A          1512   \n",
        "1/1/06 0:00     3421 AUBURN BLVD         2  2A           508   \n",
        "1/1/06 0:00        2217 16TH AVE         4  4A           957   \n",
        "1/1/06 0:00     3421 AUBURN BLVD         2  2A           508   \n",
        "1/1/06 0:01     5551 REXLEIGH CT         5  5C          1661   \n",
        "\n",
        "                               crimedescr  ucr_ncic_code   latitude  \\\n",
        "cdatetime                                                             \n",
        "1/1/06 0:00    459 PC  BURGLARY RESIDENCE           2204  38.473501   \n",
        "1/1/06 0:00  459 PC  BURGLARY-UNSPECIFIED           2299  38.637448   \n",
        "1/1/06 0:00      459 PC  BURGLARY VEHICLE           2299  38.537173   \n",
        "1/1/06 0:00     459 PC  BURGLARY BUSINESS           2203  38.637448   \n",
        "1/1/06 0:01      459 PC  BURGLARY VEHICLE           2299  38.446592   \n",
        "\n",
        "              longitude         date  \n",
        "cdatetime                             \n",
        "1/1/06 0:00 -121.490186  1/1/06 0:00  \n",
        "1/1/06 0:00 -121.384613  1/1/06 0:00  \n",
        "1/1/06 0:00 -121.487577  1/1/06 0:00  \n",
        "1/1/06 0:00 -121.384613  1/1/06 0:00  \n",
        "1/1/06 0:01 -121.442378  1/1/06 0:01  \n"
       ]
      },
      {
       "metadata": {},
       "output_type": "display_data",
       "png": "[encoded data removed]",
       "text": [
        "<matplotlib.figure.Figure at 0x7fd9136d0490>"
       ]
      }
     ],
     "prompt_number": 152
    },
    {
     "cell_type": "code",
     "collapsed": false,
     "input": [
      "#Let's now read in a different CSV file containing residential/commerical Insurance details from Florida\n",
      "ins=pd.read_csv('FL_insurance_sample.csv',parse_dates='True', index_col=None)\n",
      "ins.set_index(['county','policyID'], drop=False, inplace=True) \n",
      "#setting index seperately and retaining the col so we can play with it\n",
      "ins.head()"
     ],
     "language": "python",
     "metadata": {},
     "outputs": [
      {
       "metadata": {},
       "output_type": "pyout",
       "prompt_number": 182,
       "text": [
        "                      policyID statecode       county  eq_site_limit  \\\n",
        "county      policyID                                                   \n",
        "CLAY COUNTY 119736      119736        FL  CLAY COUNTY       498960.0   \n",
        "            448094      448094        FL  CLAY COUNTY      1322376.3   \n",
        "            206893      206893        FL  CLAY COUNTY       190724.4   \n",
        "            333743      333743        FL  CLAY COUNTY            0.0   \n",
        "            172534      172534        FL  CLAY COUNTY            0.0   \n",
        "\n",
        "                      hu_site_limit  fl_site_limit  fr_site_limit    tiv_2011  \\\n",
        "county      policyID                                                            \n",
        "CLAY COUNTY 119736        498960.00       498960.0       498960.0   498960.00   \n",
        "            448094       1322376.30      1322376.3      1322376.3  1322376.30   \n",
        "            206893        190724.40       190724.4       190724.4   190724.40   \n",
        "            333743         79520.76            0.0            0.0    79520.76   \n",
        "            172534        254281.50            0.0       254281.5   254281.50   \n",
        "\n",
        "                        tiv_2012  eq_site_deductible  hu_site_deductible  \\\n",
        "county      policyID                                                       \n",
        "CLAY COUNTY 119736     792148.90                   0              9979.2   \n",
        "            448094    1438163.57                   0                 0.0   \n",
        "            206893     192476.78                   0                 0.0   \n",
        "            333743      86854.48                   0                 0.0   \n",
        "            172534     246144.49                   0                 0.0   \n",
        "\n",
        "                      fl_site_deductible  fr_site_deductible  point_latitude  \\\n",
        "county      policyID                                                           \n",
        "CLAY COUNTY 119736                     0                   0       30.102261   \n",
        "            448094                     0                   0       30.063936   \n",
        "            206893                     0                   0       30.089579   \n",
        "            333743                     0                   0       30.063236   \n",
        "            172534                     0                   0       30.060614   \n",
        "\n",
        "                      point_longitude         line construction  \\\n",
        "county      policyID                                              \n",
        "CLAY COUNTY 119736         -81.711777  Residential      Masonry   \n",
        "            448094         -81.707664  Residential      Masonry   \n",
        "            206893         -81.700455  Residential         Wood   \n",
        "            333743         -81.707703  Residential         Wood   \n",
        "            172534         -81.702675  Residential         Wood   \n",
        "\n",
        "                      point_granularity  \n",
        "county      policyID                     \n",
        "CLAY COUNTY 119736                    1  \n",
        "            448094                    3  \n",
        "            206893                    1  \n",
        "            333743                    3  \n",
        "            172534                    1  "
       ]
      }
     ],
     "prompt_number": 182
    },
    {
     "cell_type": "code",
     "collapsed": false,
     "input": [
      "#Stack displays by cols instead of rows\n",
      "ins.stack()"
     ],
     "language": "python",
     "metadata": {},
     "outputs": [
      {
       "metadata": {},
       "output_type": "pyout",
       "prompt_number": 180,
       "text": [
        "county       policyID                    \n",
        "CLAY COUNTY  119736    statecode                   FL\n",
        "                       eq_site_limit           498960\n",
        "                       hu_site_limit           498960\n",
        "                       fl_site_limit           498960\n",
        "                       fr_site_limit           498960\n",
        "                       tiv_2011                498960\n",
        "                       tiv_2012              792148.9\n",
        "                       eq_site_deductible           0\n",
        "                       hu_site_deductible      9979.2\n",
        "                       fl_site_deductible           0\n",
        "...\n",
        "PINELLAS COUNTY  398149    tiv_2011                 373488.3\n",
        "                           tiv_2012                 596003.7\n",
        "                           eq_site_deductible              0\n",
        "                           hu_site_deductible              0\n",
        "                           fl_site_deductible              0\n",
        "                           fr_site_deductible              0\n",
        "                           point_latitude           28.06444\n",
        "                           point_longitude         -82.77459\n",
        "                           line                  Residential\n",
        "                           construction              Masonry\n",
        "                           point_granularity               1\n",
        "Length: 586144, dtype: object"
       ]
      }
     ],
     "prompt_number": 180
    },
    {
     "cell_type": "code",
     "collapsed": false,
     "input": [
      "#It's easy to create pivot tables. We can also use ins.pivot but cannot specify hierarchical indexes and use\n",
      "#aggregation functions such as below.\n",
      "ins.pivot_table(rows='county',columns='line',values='eq_site_limit', aggfunc=sum)"
     ],
     "language": "python",
     "metadata": {},
     "outputs": [
      {
       "metadata": {},
       "output_type": "pyout",
       "prompt_number": 194,
       "text": [
        "line                 Commercial  Residential\n",
        "county                                      \n",
        "ALACHUA COUNTY     3.249922e+08   99142554.6\n",
        "BAKER COUNTY       2.476577e+06     378068.4\n",
        "BAY COUNTY         5.988847e+08   41356479.6\n",
        "BRADFORD COUNTY    3.483000e+07    2445573.6\n",
        "BREVARD COUNTY     2.399631e+08   37744344.9\n",
        "BROWARD COUNTY     1.639098e+09  125713440.0\n",
        "CALHOUN COUNTY     0.000000e+00     827662.5\n",
        "CHARLOTTE COUNTY   1.556845e+08   31873591.8\n",
        "CITRUS COUNTY      2.686367e+08   27245415.6\n",
        "CLAY COUNTY        3.324845e+06   13818491.1\n",
        "COLLIER COUNTY     3.773078e+08   31509111.6\n",
        "COLUMBIA COUNTY    1.849905e+06    4706864.1\n",
        "...                         ...          ...\n",
        "SANTA ROSA COUNTY  1.915291e+08   52968218.4\n",
        "SARASOTA COUNTY    4.544602e+08   55764873.9\n",
        "SEMINOLE COUNTY    2.382608e+08   66281730.3\n",
        "ST  JOHNS COUNTY   2.631974e+08   37636201.8\n",
        "SUMTER COUNTY      0.000000e+00    6679728.0\n",
        "SUWANNEE COUNTY    4.354253e+07   13221386.1\n",
        "TAYLOR COUNTY      2.279104e+07    9770446.8\n",
        "UNION COUNTY                NaN     810488.7\n",
        "VOLUSIA COUNTY     1.674162e+08   60949216.8\n",
        "WAKULLA COUNTY     3.833100e+06    7965052.2\n",
        "WALTON COUNTY      3.784400e+07   16741737.9\n",
        "WASHINGTON COUNTY  0.000000e+00    1067338.8\n",
        "\n",
        "[67 rows x 2 columns]"
       ]
      }
     ],
     "prompt_number": 194
    },
    {
     "cell_type": "code",
     "collapsed": false,
     "input": [
      "#Crosstab simply gives the group frequencies\n",
      "pd.crosstab(ins.line, ins.construction)"
     ],
     "language": "python",
     "metadata": {},
     "outputs": [
      {
       "metadata": {},
       "output_type": "pyout",
       "prompt_number": 195,
       "text": [
        "construction  Masonry  Reinforced Concrete  Reinforced Masonry  Steel Frame  \\\n",
        "line                                                                          \n",
        "Commercial          0                 1299                4225          272   \n",
        "Residential      9257                    0                   0            0   \n",
        "\n",
        "construction   Wood  \n",
        "line                 \n",
        "Commercial        0  \n",
        "Residential   21581  "
       ]
      }
     ],
     "prompt_number": 195
    },
    {
     "cell_type": "code",
     "collapsed": false,
     "input": [
      "#Mapping columns to different values/labels is done through the map function\n",
      "ins.line.unique()\n",
      "ins['lineno']=ins.line.map({'Residential':'1', 'Commercial':'2'})\n",
      "ins.lineno.unique()"
     ],
     "language": "python",
     "metadata": {},
     "outputs": [
      {
       "metadata": {},
       "output_type": "pyout",
       "prompt_number": 199,
       "text": [
        "array(['1', '2'], dtype=object)"
       ]
      }
     ],
     "prompt_number": 199
    },
    {
     "cell_type": "code",
     "collapsed": false,
     "input": [
      "#We can also simply replace\n",
      "ins.lineno.replace({'1':'Res', '2':'Comm'})"
     ],
     "language": "python",
     "metadata": {},
     "outputs": [
      {
       "metadata": {},
       "output_type": "pyout",
       "prompt_number": 200,
       "text": [
        "county       policyID\n",
        "CLAY COUNTY  119736       Res\n",
        "             448094       Res\n",
        "             206893       Res\n",
        "             333743       Res\n",
        "             172534       Res\n",
        "             785275       Res\n",
        "             995932      Comm\n",
        "             223488       Res\n",
        "             433512       Res\n",
        "             142071       Res\n",
        "...\n",
        "PINELLAS COUNTY  592170      Res\n",
        "                 827844      Res\n",
        "                 876385      Res\n",
        "                 167630      Res\n",
        "                 241496      Res\n",
        "                 780814      Res\n",
        "                 404309      Res\n",
        "                 465875      Res\n",
        "                 791209      Res\n",
        "                 322627      Res\n",
        "                 398149      Res\n",
        "Name: lineno, Length: 36634, dtype: object"
       ]
      }
     ],
     "prompt_number": 200
    },
    {
     "cell_type": "code",
     "collapsed": false,
     "input": [
      " #Creating a design matrix is very simple (DM is basically 1s and 0s for different values of a col represented as multiple\n",
      "#columns). For instance\n",
      "pd.get_dummies(ins.construction).head()"
     ],
     "language": "python",
     "metadata": {},
     "outputs": [
      {
       "metadata": {},
       "output_type": "pyout",
       "prompt_number": 202,
       "text": [
        "                      Masonry  Reinforced Concrete  Reinforced Masonry  \\\n",
        "county      policyID                                                     \n",
        "CLAY COUNTY 119736          1                    0                   0   \n",
        "            448094          1                    0                   0   \n",
        "            206893          0                    0                   0   \n",
        "            333743          0                    0                   0   \n",
        "            172534          0                    0                   0   \n",
        "\n",
        "                      Steel Frame  Wood  \n",
        "county      policyID                     \n",
        "CLAY COUNTY 119736              0     0  \n",
        "            448094              0     0  \n",
        "            206893              0     1  \n",
        "            333743              0     1  \n",
        "            172534              0     1  "
       ]
      }
     ],
     "prompt_number": 202
    },
    {
     "cell_type": "code",
     "collapsed": false,
     "input": [
      "#We can also cut a column into multiple buckets..similar to grouping\n",
      "ins['site_buckets']=pd.cut(ins.eq_site_limit, [-1.0, 100000.0, 500000.0, 10000000.0], 3, labels=['B1','B2','B3'])\n",
      "ins[['eq_site_limit', 'site_buckets']].head()\n",
      "#pd.qcut cuts by quantiles (percentages)"
     ],
     "language": "python",
     "metadata": {},
     "outputs": [
      {
       "metadata": {},
       "output_type": "pyout",
       "prompt_number": 254,
       "text": [
        "                      eq_site_limit site_buckets\n",
        "county      policyID                            \n",
        "CLAY COUNTY 119736         498960.0           B2\n",
        "            448094        1322376.3           B3\n",
        "            206893         190724.4           B2\n",
        "            333743              0.0           B1\n",
        "            172534              0.0           B1"
       ]
      }
     ],
     "prompt_number": 254
    },
    {
     "cell_type": "code",
     "collapsed": false,
     "input": [
      "#Sorting by county (asc) and policyID (desc)\n",
      "ins.sort(['county','policyID'],ascending=[1,0]).head()"
     ],
     "language": "python",
     "metadata": {},
     "outputs": [
      {
       "metadata": {},
       "output_type": "pyout",
       "prompt_number": 259,
       "text": [
        "                         policyID statecode          county  eq_site_limit  \\\n",
        "county         policyID                                                      \n",
        "ALACHUA COUNTY 999597      999597        FL  ALACHUA COUNTY              0   \n",
        "               999293      999293        FL  ALACHUA COUNTY           2700   \n",
        "               998177      998177        FL  ALACHUA COUNTY            450   \n",
        "               997366      997366        FL  ALACHUA COUNTY              0   \n",
        "               996781      996781        FL  ALACHUA COUNTY            810   \n",
        "\n",
        "                         hu_site_limit  fl_site_limit  fr_site_limit  \\\n",
        "county         policyID                                                \n",
        "ALACHUA COUNTY 999597       3130306.73              0              0   \n",
        "               999293          2700.00           2700           2700   \n",
        "               998177           450.00            450            450   \n",
        "               997366        107966.70              0              0   \n",
        "               996781           810.00            810            810   \n",
        "\n",
        "                           tiv_2011    tiv_2012  eq_site_deductible  \\\n",
        "county         policyID                                               \n",
        "ALACHUA COUNTY 999597    3130306.73  3891146.56                   0   \n",
        "               999293       2700.00     3691.70                   0   \n",
        "               998177        450.00      542.40                   0   \n",
        "               997366     107966.70   137551.08                   0   \n",
        "               996781        810.00      735.35                   0   \n",
        "\n",
        "                         hu_site_deductible  fl_site_deductible  \\\n",
        "county         policyID                                           \n",
        "ALACHUA COUNTY 999597                   0.0                   0   \n",
        "               999293                  54.0                   0   \n",
        "               998177                   9.0                   0   \n",
        "               997366                   0.0                   0   \n",
        "               996781                  16.2                   0   \n",
        "\n",
        "                         fr_site_deductible  point_latitude  point_longitude  \\\n",
        "county         policyID                                                        \n",
        "ALACHUA COUNTY 999597                     0       29.621651       -82.378632   \n",
        "               999293                     0       29.669180       -82.308040   \n",
        "               998177                     0       29.672756       -82.439331   \n",
        "               997366                     0       29.682240       -82.387540   \n",
        "               996781                     0       29.669120       -82.341230   \n",
        "\n",
        "                                line        construction  point_granularity  \\\n",
        "county         policyID                                                       \n",
        "ALACHUA COUNTY 999597     Commercial  Reinforced Masonry                  1   \n",
        "               999293    Residential                Wood                  1   \n",
        "               998177    Residential                Wood                  1   \n",
        "               997366    Residential                Wood                  1   \n",
        "               996781    Residential                Wood                  3   \n",
        "\n",
        "                        lineno site_buckets  \n",
        "county         policyID                      \n",
        "ALACHUA COUNTY 999597        2           B1  \n",
        "               999293        1           B1  \n",
        "               998177        1           B1  \n",
        "               997366        1           B1  \n",
        "               996781        1           B1  "
       ]
      }
     ],
     "prompt_number": 259
    },
    {
     "cell_type": "code",
     "collapsed": false,
     "input": [
      "#Random Sort - permutations\n",
      "sort=np.random.permutation(len(ins))\n",
      "ins.take(sort).head()"
     ],
     "language": "python",
     "metadata": {},
     "outputs": [
      {
       "metadata": {},
       "output_type": "pyout",
       "prompt_number": 266,
       "text": [
        "                            policyID statecode             county  \\\n",
        "county            policyID                                          \n",
        "ORANGE COUNTY     622266      622266        FL      ORANGE COUNTY   \n",
        "DUVAL COUNTY      158604      158604        FL       DUVAL COUNTY   \n",
        "MIAMI DADE COUNTY 154173      154173        FL  MIAMI DADE COUNTY   \n",
        "ST  JOHNS COUNTY  312502      312502        FL   ST  JOHNS COUNTY   \n",
        "DUVAL COUNTY      394483      394483        FL       DUVAL COUNTY   \n",
        "\n",
        "                            eq_site_limit  hu_site_limit  fl_site_limit  \\\n",
        "county            policyID                                                \n",
        "ORANGE COUNTY     622266                0   4.194000e+08              0   \n",
        "DUVAL COUNTY      158604                0   1.411931e+05              0   \n",
        "MIAMI DADE COUNTY 154173                0   5.553381e+05              0   \n",
        "ST  JOHNS COUNTY  312502            18315   1.831500e+04          18315   \n",
        "DUVAL COUNTY      394483                0   5.742139e+05              0   \n",
        "\n",
        "                            fr_site_limit      tiv_2011      tiv_2012  \\\n",
        "county            policyID                                              \n",
        "ORANGE COUNTY     622266                0  4.194000e+08  3.960000e+08   \n",
        "DUVAL COUNTY      158604                0  1.411931e+05  2.208260e+05   \n",
        "MIAMI DADE COUNTY 154173                0  5.553381e+05  8.225912e+05   \n",
        "ST  JOHNS COUNTY  312502            18315  1.831500e+04  2.250855e+04   \n",
        "DUVAL COUNTY      394483                0  5.742139e+05  8.161187e+05   \n",
        "\n",
        "                            eq_site_deductible  hu_site_deductible  \\\n",
        "county            policyID                                           \n",
        "ORANGE COUNTY     622266                     0                 0.0   \n",
        "DUVAL COUNTY      158604                     0                 0.0   \n",
        "MIAMI DADE COUNTY 154173                     0                 0.0   \n",
        "ST  JOHNS COUNTY  312502                     0               366.3   \n",
        "DUVAL COUNTY      394483                     0                 0.0   \n",
        "\n",
        "                            fl_site_deductible  fr_site_deductible  \\\n",
        "county            policyID                                           \n",
        "ORANGE COUNTY     622266                     0                   0   \n",
        "DUVAL COUNTY      158604                     0                   0   \n",
        "MIAMI DADE COUNTY 154173                     0                   0   \n",
        "ST  JOHNS COUNTY  312502                     0                   0   \n",
        "DUVAL COUNTY      394483                     0                   0   \n",
        "\n",
        "                            point_latitude  point_longitude         line  \\\n",
        "county            policyID                                                 \n",
        "ORANGE COUNTY     622266         28.377000       -81.558700   Commercial   \n",
        "DUVAL COUNTY      158604         30.246492       -81.764511  Residential   \n",
        "MIAMI DADE COUNTY 154173         25.754580       -80.296220  Residential   \n",
        "ST  JOHNS COUNTY  312502         30.117205       -81.604431  Residential   \n",
        "DUVAL COUNTY      394483         30.158780       -81.598960  Residential   \n",
        "\n",
        "                           construction  point_granularity lineno site_buckets  \n",
        "county            policyID                                                      \n",
        "ORANGE COUNTY     622266    Steel Frame                  4      2           B1  \n",
        "DUVAL COUNTY      158604           Wood                  1      1           B1  \n",
        "MIAMI DADE COUNTY 154173        Masonry                  3      1           B1  \n",
        "ST  JOHNS COUNTY  312502           Wood                  1      1           B1  \n",
        "DUVAL COUNTY      394483        Masonry                  1      1           B1  "
       ]
      }
     ],
     "prompt_number": 266
    },
    {
     "cell_type": "code",
     "collapsed": false,
     "input": [
      "#Group By and it's relatives - Split Apply Combine\n",
      "\n",
      "#Let's convert Policy ID to string first so its not included in any numerical operations\n",
      "ins.policyID=ins.policyID.astype('str')\n",
      "\n",
      "#Group By Construction type and sum quantities (aggregate)\n",
      "ins.groupby(ins.construction).agg(sum)\n",
      "\n",
      "#Convenience function available for common agg type\n",
      "ins.groupby(ins.construction).mean()"
     ],
     "language": "python",
     "metadata": {},
     "outputs": [
      {
       "metadata": {},
       "output_type": "pyout",
       "prompt_number": 298,
       "text": [
        "                       eq_site_limit  hu_site_limit    fl_site_limit  \\\n",
        "construction                                                           \n",
        "Masonry                193878.508772   8.496695e+05    145441.406633   \n",
        "Reinforced Concrete   4015452.193995   1.601223e+07   3313604.618938   \n",
        "Reinforced Masonry     712295.683030   3.709712e+06    652968.647361   \n",
        "Steel Frame          59778529.411765   1.090228e+08  57188051.470588   \n",
        "Wood                    23953.954233   9.261205e+04     17715.800510   \n",
        "\n",
        "                       fr_site_limit      tiv_2011      tiv_2012  \\\n",
        "construction                                                       \n",
        "Masonry                270188.807011  8.608683e+05  1.041986e+06   \n",
        "Reinforced Concrete   6748500.692841  1.665118e+07  2.021243e+07   \n",
        "Reinforced Masonry    1526479.014249  3.824857e+06  4.621373e+06   \n",
        "Steel Frame          65920036.764706  1.169841e+08  1.334925e+08   \n",
        "Wood                    30746.678231  9.371507e+04  1.134930e+05   \n",
        "\n",
        "                     eq_site_deductible  hu_site_deductible  \\\n",
        "construction                                                  \n",
        "Masonry                      102.921130         3607.542811   \n",
        "Reinforced Concrete         4659.850115        55441.015012   \n",
        "Reinforced Masonry          1011.101538        17593.810296   \n",
        "Steel Frame                62130.272426       252545.330515   \n",
        "Wood                          16.356888          435.125583   \n",
        "\n",
        "                     fl_site_deductible  fr_site_deductible  point_latitude  \\\n",
        "construction                                                                  \n",
        "Masonry                      218.946851            3.402830       27.912242   \n",
        "Reinforced Concrete          346.420323            0.000000       27.724533   \n",
        "Reinforced Masonry           762.449964          213.017751       27.691648   \n",
        "Steel Frame                 3308.833456            0.000000       27.509396   \n",
        "Wood                          20.952973            1.793244       28.269267   \n",
        "\n",
        "                     point_longitude  point_granularity  \n",
        "construction                                             \n",
        "Masonry                   -81.718078           1.516474  \n",
        "Reinforced Concrete       -81.567918           1.501925  \n",
        "Reinforced Masonry        -81.503285           1.479527  \n",
        "Steel Frame               -81.437564           1.628676  \n",
        "Wood                      -82.087569           1.734396  "
       ]
      }
     ],
     "prompt_number": 298
    },
    {
     "cell_type": "code",
     "collapsed": false,
     "input": [
      "#Change labels as necessary to indicate aggregation\n",
      "ins.groupby(ins.construction).mean().add_prefix('avg_')"
     ],
     "language": "python",
     "metadata": {},
     "outputs": [
      {
       "metadata": {},
       "output_type": "pyout",
       "prompt_number": 299,
       "text": [
        "                     avg_eq_site_limit  avg_hu_site_limit  avg_fl_site_limit  \\\n",
        "construction                                                                   \n",
        "Masonry                  193878.508772       8.496695e+05      145441.406633   \n",
        "Reinforced Concrete     4015452.193995       1.601223e+07     3313604.618938   \n",
        "Reinforced Masonry       712295.683030       3.709712e+06      652968.647361   \n",
        "Steel Frame            59778529.411765       1.090228e+08    57188051.470588   \n",
        "Wood                      23953.954233       9.261205e+04       17715.800510   \n",
        "\n",
        "                     avg_fr_site_limit  avg_tiv_2011  avg_tiv_2012  \\\n",
        "construction                                                         \n",
        "Masonry                  270188.807011  8.608683e+05  1.041986e+06   \n",
        "Reinforced Concrete     6748500.692841  1.665118e+07  2.021243e+07   \n",
        "Reinforced Masonry      1526479.014249  3.824857e+06  4.621373e+06   \n",
        "Steel Frame            65920036.764706  1.169841e+08  1.334925e+08   \n",
        "Wood                      30746.678231  9.371507e+04  1.134930e+05   \n",
        "\n",
        "                     avg_eq_site_deductible  avg_hu_site_deductible  \\\n",
        "construction                                                          \n",
        "Masonry                          102.921130             3607.542811   \n",
        "Reinforced Concrete             4659.850115            55441.015012   \n",
        "Reinforced Masonry              1011.101538            17593.810296   \n",
        "Steel Frame                    62130.272426           252545.330515   \n",
        "Wood                              16.356888              435.125583   \n",
        "\n",
        "                     avg_fl_site_deductible  avg_fr_site_deductible  \\\n",
        "construction                                                          \n",
        "Masonry                          218.946851                3.402830   \n",
        "Reinforced Concrete              346.420323                0.000000   \n",
        "Reinforced Masonry               762.449964              213.017751   \n",
        "Steel Frame                     3308.833456                0.000000   \n",
        "Wood                              20.952973                1.793244   \n",
        "\n",
        "                     avg_point_latitude  avg_point_longitude  \\\n",
        "construction                                                   \n",
        "Masonry                       27.912242           -81.718078   \n",
        "Reinforced Concrete           27.724533           -81.567918   \n",
        "Reinforced Masonry            27.691648           -81.503285   \n",
        "Steel Frame                   27.509396           -81.437564   \n",
        "Wood                          28.269267           -82.087569   \n",
        "\n",
        "                     avg_point_granularity  \n",
        "construction                                \n",
        "Masonry                           1.516474  \n",
        "Reinforced Concrete               1.501925  \n",
        "Reinforced Masonry                1.479527  \n",
        "Steel Frame                       1.628676  \n",
        "Wood                              1.734396  "
       ]
      }
     ],
     "prompt_number": 299
    },
    {
     "cell_type": "code",
     "collapsed": false,
     "input": [
      "#We can also define custom aggregation\n",
      "ins.groupby(ins.construction).transform(lambda x: x-x.mean()/x.std()).add_suffix('_norm').head()"
     ],
     "language": "python",
     "metadata": {},
     "outputs": [
      {
       "metadata": {},
       "output_type": "pyout",
       "prompt_number": 301,
       "text": [
        "                      eq_site_limit_norm  hu_site_limit_norm  \\\n",
        "county      policyID                                           \n",
        "CLAY COUNTY 119736         498959.506785       498957.883794   \n",
        "            448094        1322375.806785      1322374.183794   \n",
        "            206893         190724.031858       190723.410099   \n",
        "            333743             -0.368142        79519.770099   \n",
        "            172534             -0.368142       254280.510099   \n",
        "\n",
        "                      fl_site_limit_norm  fr_site_limit_norm   tiv_2011_norm  \\\n",
        "county      policyID                                                           \n",
        "CLAY COUNTY 119736         498959.597407        498959.41114   498957.797895   \n",
        "            448094        1322375.897407       1322375.71114  1322374.097895   \n",
        "            206893         190724.075007        190723.94993   190723.398041   \n",
        "            333743             -0.324993            -0.45007    79519.758041   \n",
        "            172534             -0.324993        254281.04993   254280.498041   \n",
        "\n",
        "                       tiv_2012_norm  eq_site_deductible_norm  \\\n",
        "county      policyID                                            \n",
        "CLAY COUNTY 119736     792146.947494                -0.060878   \n",
        "            448094    1438161.617494                -0.060878   \n",
        "            206893     192475.825423                -0.047723   \n",
        "            333743      86853.525423                -0.047723   \n",
        "            172534     246143.535423                -0.047723   \n",
        "\n",
        "                      hu_site_deductible_norm  fl_site_deductible_norm  \\\n",
        "county      policyID                                                     \n",
        "CLAY COUNTY 119736                9978.918554                -0.026253   \n",
        "            448094                  -0.281446                -0.026253   \n",
        "            206893                  -0.193938                -0.032017   \n",
        "            333743                  -0.193938                -0.032017   \n",
        "            172534                  -0.193938                -0.032017   \n",
        "\n",
        "                      fr_site_deductible_norm  point_latitude_norm  \\\n",
        "county      policyID                                                 \n",
        "CLAY COUNTY 119736                  -0.028769            12.545728   \n",
        "            448094                  -0.028769            12.507403   \n",
        "            206893                  -0.033160            13.092729   \n",
        "            333743                  -0.033160            13.066386   \n",
        "            172534                  -0.033160            13.063764   \n",
        "\n",
        "                      point_longitude_norm  point_granularity_norm  \n",
        "county      policyID                                                \n",
        "CLAY COUNTY 119736              -29.815643               -0.536889  \n",
        "            448094              -29.811530                1.463111  \n",
        "            206893              -39.692517               -0.544931  \n",
        "            333743              -39.699765                1.455069  \n",
        "            172534              -39.694737               -0.544931  "
       ]
      }
     ],
     "prompt_number": 301
    },
    {
     "cell_type": "code",
     "collapsed": false,
     "input": [
      "#InList\n",
      "ins[ins.construction.isin(['Wood','Masonry'])].head()"
     ],
     "language": "python",
     "metadata": {},
     "outputs": [
      {
       "metadata": {},
       "output_type": "pyout",
       "prompt_number": 317,
       "text": [
        "                     policyID statecode       county  eq_site_limit  \\\n",
        "county      policyID                                                  \n",
        "CLAY COUNTY 119736     119736        FL  CLAY COUNTY       498960.0   \n",
        "            448094     448094        FL  CLAY COUNTY      1322376.3   \n",
        "            206893     206893        FL  CLAY COUNTY       190724.4   \n",
        "            333743     333743        FL  CLAY COUNTY            0.0   \n",
        "            172534     172534        FL  CLAY COUNTY            0.0   \n",
        "\n",
        "                      hu_site_limit  fl_site_limit  fr_site_limit    tiv_2011  \\\n",
        "county      policyID                                                            \n",
        "CLAY COUNTY 119736        498960.00       498960.0       498960.0   498960.00   \n",
        "            448094       1322376.30      1322376.3      1322376.3  1322376.30   \n",
        "            206893        190724.40       190724.4       190724.4   190724.40   \n",
        "            333743         79520.76            0.0            0.0    79520.76   \n",
        "            172534        254281.50            0.0       254281.5   254281.50   \n",
        "\n",
        "                        tiv_2012  eq_site_deductible  hu_site_deductible  \\\n",
        "county      policyID                                                       \n",
        "CLAY COUNTY 119736     792148.90                   0              9979.2   \n",
        "            448094    1438163.57                   0                 0.0   \n",
        "            206893     192476.78                   0                 0.0   \n",
        "            333743      86854.48                   0                 0.0   \n",
        "            172534     246144.49                   0                 0.0   \n",
        "\n",
        "                      fl_site_deductible  fr_site_deductible  point_latitude  \\\n",
        "county      policyID                                                           \n",
        "CLAY COUNTY 119736                     0                   0       30.102261   \n",
        "            448094                     0                   0       30.063936   \n",
        "            206893                     0                   0       30.089579   \n",
        "            333743                     0                   0       30.063236   \n",
        "            172534                     0                   0       30.060614   \n",
        "\n",
        "                      point_longitude         line construction  \\\n",
        "county      policyID                                              \n",
        "CLAY COUNTY 119736         -81.711777  Residential      Masonry   \n",
        "            448094         -81.707664  Residential      Masonry   \n",
        "            206893         -81.700455  Residential         Wood   \n",
        "            333743         -81.707703  Residential         Wood   \n",
        "            172534         -81.702675  Residential         Wood   \n",
        "\n",
        "                      point_granularity lineno site_buckets  \n",
        "county      policyID                                         \n",
        "CLAY COUNTY 119736                    1      1           B2  \n",
        "            448094                    3      1           B3  \n",
        "            206893                    1      1           B2  \n",
        "            333743                    3      1           B1  \n",
        "            172534                    1      1           B1  "
       ]
      }
     ],
     "prompt_number": 317
    },
    {
     "cell_type": "code",
     "collapsed": false,
     "input": [
      "#Simple column renaming\n",
      "ins.rename(columns = {'eq_site_deductible':'eq_site_deductible'}).head()"
     ],
     "language": "python",
     "metadata": {},
     "outputs": [
      {
       "metadata": {},
       "output_type": "pyout",
       "prompt_number": 319,
       "text": [
        "                     policyID statecode       county  eq_site_limit  \\\n",
        "county      policyID                                                  \n",
        "CLAY COUNTY 119736     119736        FL  CLAY COUNTY       498960.0   \n",
        "            448094     448094        FL  CLAY COUNTY      1322376.3   \n",
        "            206893     206893        FL  CLAY COUNTY       190724.4   \n",
        "            333743     333743        FL  CLAY COUNTY            0.0   \n",
        "            172534     172534        FL  CLAY COUNTY            0.0   \n",
        "\n",
        "                      hu_site_limit  fl_site_limit  fr_site_limit    tiv_2011  \\\n",
        "county      policyID                                                            \n",
        "CLAY COUNTY 119736        498960.00       498960.0       498960.0   498960.00   \n",
        "            448094       1322376.30      1322376.3      1322376.3  1322376.30   \n",
        "            206893        190724.40       190724.4       190724.4   190724.40   \n",
        "            333743         79520.76            0.0            0.0    79520.76   \n",
        "            172534        254281.50            0.0       254281.5   254281.50   \n",
        "\n",
        "                        tiv_2012  eq_site_deductible  hu_site_deductible  \\\n",
        "county      policyID                                                       \n",
        "CLAY COUNTY 119736     792148.90                   0              9979.2   \n",
        "            448094    1438163.57                   0                 0.0   \n",
        "            206893     192476.78                   0                 0.0   \n",
        "            333743      86854.48                   0                 0.0   \n",
        "            172534     246144.49                   0                 0.0   \n",
        "\n",
        "                      fl_site_deductible  fr_site_deductible  point_latitude  \\\n",
        "county      policyID                                                           \n",
        "CLAY COUNTY 119736                     0                   0       30.102261   \n",
        "            448094                     0                   0       30.063936   \n",
        "            206893                     0                   0       30.089579   \n",
        "            333743                     0                   0       30.063236   \n",
        "            172534                     0                   0       30.060614   \n",
        "\n",
        "                      point_longitude         line construction  \\\n",
        "county      policyID                                              \n",
        "CLAY COUNTY 119736         -81.711777  Residential      Masonry   \n",
        "            448094         -81.707664  Residential      Masonry   \n",
        "            206893         -81.700455  Residential         Wood   \n",
        "            333743         -81.707703  Residential         Wood   \n",
        "            172534         -81.702675  Residential         Wood   \n",
        "\n",
        "                      point_granularity lineno site_buckets  \n",
        "county      policyID                                         \n",
        "CLAY COUNTY 119736                    1      1           B2  \n",
        "            448094                    3      1           B3  \n",
        "            206893                    1      1           B2  \n",
        "            333743                    3      1           B1  \n",
        "            172534                    1      1           B1  "
       ]
      }
     ],
     "prompt_number": 319
    },
    {
     "cell_type": "code",
     "collapsed": false,
     "input": [
      "#Formula renaming\n",
      "ins.rename(columns=lambda x: x.replace(' ',''), inplace=True)\n",
      "ins.head()"
     ],
     "language": "python",
     "metadata": {},
     "outputs": [
      {
       "metadata": {},
       "output_type": "pyout",
       "prompt_number": 322,
       "text": [
        "                     policyID statecode       county  eq_site_limit  \\\n",
        "county      policyID                                                  \n",
        "CLAY COUNTY 119736     119736        FL  CLAY COUNTY       498960.0   \n",
        "            448094     448094        FL  CLAY COUNTY      1322376.3   \n",
        "            206893     206893        FL  CLAY COUNTY       190724.4   \n",
        "            333743     333743        FL  CLAY COUNTY            0.0   \n",
        "            172534     172534        FL  CLAY COUNTY            0.0   \n",
        "\n",
        "                      hu_site_limit  fl_site_limit  fr_site_limit    tiv_2011  \\\n",
        "county      policyID                                                            \n",
        "CLAY COUNTY 119736        498960.00       498960.0       498960.0   498960.00   \n",
        "            448094       1322376.30      1322376.3      1322376.3  1322376.30   \n",
        "            206893        190724.40       190724.4       190724.4   190724.40   \n",
        "            333743         79520.76            0.0            0.0    79520.76   \n",
        "            172534        254281.50            0.0       254281.5   254281.50   \n",
        "\n",
        "                        tiv_2012  eq_site_deductible  hu_site_deductible  \\\n",
        "county      policyID                                                       \n",
        "CLAY COUNTY 119736     792148.90                   0              9979.2   \n",
        "            448094    1438163.57                   0                 0.0   \n",
        "            206893     192476.78                   0                 0.0   \n",
        "            333743      86854.48                   0                 0.0   \n",
        "            172534     246144.49                   0                 0.0   \n",
        "\n",
        "                      fl_site_deductible  fr_site_deductible  point_latitude  \\\n",
        "county      policyID                                                           \n",
        "CLAY COUNTY 119736                     0                   0       30.102261   \n",
        "            448094                     0                   0       30.063936   \n",
        "            206893                     0                   0       30.089579   \n",
        "            333743                     0                   0       30.063236   \n",
        "            172534                     0                   0       30.060614   \n",
        "\n",
        "                      point_longitude         line construction  \\\n",
        "county      policyID                                              \n",
        "CLAY COUNTY 119736         -81.711777  Residential      Masonry   \n",
        "            448094         -81.707664  Residential      Masonry   \n",
        "            206893         -81.700455  Residential         Wood   \n",
        "            333743         -81.707703  Residential         Wood   \n",
        "            172534         -81.702675  Residential         Wood   \n",
        "\n",
        "                      point_granularity lineno site_buckets  \n",
        "county      policyID                                         \n",
        "CLAY COUNTY 119736                    1      1           B2  \n",
        "            448094                    3      1           B3  \n",
        "            206893                    1      1           B2  \n",
        "            333743                    3      1           B1  \n",
        "            172534                    1      1           B1  "
       ]
      }
     ],
     "prompt_number": 322
    },
    {
     "cell_type": "code",
     "collapsed": false,
     "input": [
      "#lower-case all DataFrame column names\n",
      "ins.columns = map(str.lower, ins.columns)"
     ],
     "language": "python",
     "metadata": {},
     "outputs": [],
     "prompt_number": 323
    },
    {
     "cell_type": "code",
     "collapsed": false,
     "input": [
      "#Lower-case everything in a DataFrame column\n",
      "ins.construction = ins.construction.str.lower()\n",
      "ins.construction.head()"
     ],
     "language": "python",
     "metadata": {},
     "outputs": [
      {
       "metadata": {},
       "output_type": "pyout",
       "prompt_number": 332,
       "text": [
        "county       policyID\n",
        "CLAY COUNTY  119736      masonry\n",
        "             448094      masonry\n",
        "             206893         wood\n",
        "             333743         wood\n",
        "             172534         wood\n",
        "Name: construction, dtype: object"
       ]
      }
     ],
     "prompt_number": 332
    },
    {
     "cell_type": "code",
     "collapsed": false,
     "input": [
      "#Sort dataframe by multiple columns\n",
      "ins = ins.sort(['construction','line'],ascending=[1,1])\n",
      "ins.head(3)"
     ],
     "language": "python",
     "metadata": {},
     "outputs": [
      {
       "metadata": {},
       "output_type": "pyout",
       "prompt_number": 336,
       "text": [
        "                     policyid statecode       county  eq_site_limit  \\\n",
        "county      policyID                                                  \n",
        "CLAY COUNTY 119736     119736        FL  CLAY COUNTY       498960.0   \n",
        "            448094     448094        FL  CLAY COUNTY      1322376.3   \n",
        "            785275     785275        FL  CLAY COUNTY            0.0   \n",
        "\n",
        "                      hu_site_limit  fl_site_limit  fr_site_limit    tiv_2011  \\\n",
        "county      policyID                                                            \n",
        "CLAY COUNTY 119736        498960.00       498960.0       498960.0   498960.00   \n",
        "            448094       1322376.30      1322376.3      1322376.3  1322376.30   \n",
        "            785275        515035.62            0.0            0.0   515035.62   \n",
        "\n",
        "                        tiv_2012  eq_site_deductible  hu_site_deductible  \\\n",
        "county      policyID                                                       \n",
        "CLAY COUNTY 119736     792148.90                   0              9979.2   \n",
        "            448094    1438163.57                   0                 0.0   \n",
        "            785275     884419.17                   0                 0.0   \n",
        "\n",
        "                      fl_site_deductible  fr_site_deductible  point_latitude  \\\n",
        "county      policyID                                                           \n",
        "CLAY COUNTY 119736                     0                   0       30.102261   \n",
        "            448094                     0                   0       30.063936   \n",
        "            785275                     0                   0       30.063236   \n",
        "\n",
        "                      point_longitude         line construction  \\\n",
        "county      policyID                                              \n",
        "CLAY COUNTY 119736         -81.711777  Residential      masonry   \n",
        "            448094         -81.707664  Residential      masonry   \n",
        "            785275         -81.707703  Residential      masonry   \n",
        "\n",
        "                      point_granularity lineno site_buckets  \n",
        "county      policyID                                         \n",
        "CLAY COUNTY 119736                    1      1           B2  \n",
        "            448094                    3      1           B3  \n",
        "            785275                    3      1           B1  "
       ]
      }
     ],
     "prompt_number": 336
    },
    {
     "cell_type": "code",
     "collapsed": false,
     "input": [
      "#select from DataFrame using multiple keys of a hierarchical index\n",
      "ins.xs(('CLAY COUNTY', 119736), level=('county', 'policyID'))"
     ],
     "language": "python",
     "metadata": {},
     "outputs": [
      {
       "metadata": {},
       "output_type": "pyout",
       "prompt_number": 341,
       "text": [
        "                     policyid statecode       county  eq_site_limit  \\\n",
        "county      policyID                                                  \n",
        "CLAY COUNTY 119736     119736        FL  CLAY COUNTY         498960   \n",
        "\n",
        "                      hu_site_limit  fl_site_limit  fr_site_limit  tiv_2011  \\\n",
        "county      policyID                                                          \n",
        "CLAY COUNTY 119736           498960         498960         498960    498960   \n",
        "\n",
        "                      tiv_2012  eq_site_deductible  hu_site_deductible  \\\n",
        "county      policyID                                                     \n",
        "CLAY COUNTY 119736    792148.9                   0              9979.2   \n",
        "\n",
        "                      fl_site_deductible  fr_site_deductible  point_latitude  \\\n",
        "county      policyID                                                           \n",
        "CLAY COUNTY 119736                     0                   0       30.102261   \n",
        "\n",
        "                      point_longitude         line construction  \\\n",
        "county      policyID                                              \n",
        "CLAY COUNTY 119736         -81.711777  Residential      masonry   \n",
        "\n",
        "                      point_granularity lineno site_buckets  \n",
        "county      policyID                                         \n",
        "CLAY COUNTY 119736                    1      1           B2  "
       ]
      }
     ],
     "prompt_number": 341
    },
    {
     "cell_type": "code",
     "collapsed": false,
     "input": [
      "#Change all NaNs to None - one of the methods of handling NULL, there are several\n",
      "ins = ins.where((pd.notnull(ins)), None)"
     ],
     "language": "python",
     "metadata": {},
     "outputs": []
    },
    {
     "cell_type": "code",
     "collapsed": false,
     "input": [
      "#Slice values in a DataFrame column (aka Series)\n",
      "ins.line.str[0:2].head(3)"
     ],
     "language": "python",
     "metadata": {},
     "outputs": [
      {
       "metadata": {},
       "output_type": "pyout",
       "prompt_number": 343,
       "text": [
        "county       policyID\n",
        "CLAY COUNTY  119736      Re\n",
        "             448094      Re\n",
        "             785275      Re\n",
        "Name: line, dtype: object"
       ]
      }
     ],
     "prompt_number": 343
    },
    {
     "cell_type": "code",
     "collapsed": false,
     "input": [
      "#Get quick count of rows in a DataFrame\n",
      "len(ins.index)"
     ],
     "language": "python",
     "metadata": {},
     "outputs": [
      {
       "metadata": {},
       "output_type": "pyout",
       "prompt_number": 344,
       "text": [
        "36634"
       ]
      }
     ],
     "prompt_number": 344
    },
    {
     "cell_type": "code",
     "collapsed": false,
     "input": [
      "#change data type of DataFrame column\n",
      "ins.construction = ins.construction.astype(str)"
     ],
     "language": "python",
     "metadata": {},
     "outputs": [],
     "prompt_number": 347
    },
    {
     "cell_type": "code",
     "collapsed": false,
     "input": [
      "# Get rid of non-numeric values throughout a DataFrame:\n",
      "for col in ins.columns.values:\n",
      "  ins[col] = ins[col].replace('[^0-9]+.-', '', regex=True)"
     ],
     "language": "python",
     "metadata": {},
     "outputs": [],
     "prompt_number": 348
    },
    {
     "cell_type": "code",
     "collapsed": false,
     "input": [
      "#Clean up missing values in multiple DataFrame columns\n",
      "ins = ins.fillna({\n",
      "    'line': 'missing',\n",
      "    'construction': 'missing',\n",
      "    'eq_site_limit': '0.0',\n",
      "})"
     ],
     "language": "python",
     "metadata": {},
     "outputs": [],
     "prompt_number": 350
    },
    {
     "cell_type": "code",
     "collapsed": false,
     "input": [
      "#Doing calculations with DataFrame columns that have missing values\n",
      "#In example below, swap in 0 for df['col1'] cells that contain null\n",
      "ins['eq_new_limit'] = np.where(pd.isnull(ins['eq_site_limit']),0,ins['eq_site_limit']) + ins['fr_site_limit']\n",
      "ins.head(3)"
     ],
     "language": "python",
     "metadata": {},
     "outputs": [
      {
       "metadata": {},
       "output_type": "pyout",
       "prompt_number": 353,
       "text": [
        "                     policyid statecode       county  eq_site_limit  \\\n",
        "county      policyID                                                  \n",
        "CLAY COUNTY 119736     119736        FL  CLAY COUNTY       498960.0   \n",
        "            448094     448094        FL  CLAY COUNTY      1322376.3   \n",
        "            785275     785275        FL  CLAY COUNTY            0.0   \n",
        "\n",
        "                      hu_site_limit  fl_site_limit  fr_site_limit    tiv_2011  \\\n",
        "county      policyID                                                            \n",
        "CLAY COUNTY 119736        498960.00       498960.0       498960.0   498960.00   \n",
        "            448094       1322376.30      1322376.3      1322376.3  1322376.30   \n",
        "            785275        515035.62            0.0            0.0   515035.62   \n",
        "\n",
        "                        tiv_2012  eq_site_deductible         ...          \\\n",
        "county      policyID                                         ...           \n",
        "CLAY COUNTY 119736     792148.90                   0         ...           \n",
        "            448094    1438163.57                   0         ...           \n",
        "            785275     884419.17                   0         ...           \n",
        "\n",
        "                      fl_site_deductible  fr_site_deductible  point_latitude  \\\n",
        "county      policyID                                                           \n",
        "CLAY COUNTY 119736                     0                   0       30.102261   \n",
        "            448094                     0                   0       30.063936   \n",
        "            785275                     0                   0       30.063236   \n",
        "\n",
        "                      point_longitude         line construction  \\\n",
        "county      policyID                                              \n",
        "CLAY COUNTY 119736         -81.711777  Residential      masonry   \n",
        "            448094         -81.707664  Residential      masonry   \n",
        "            785275         -81.707703  Residential      masonry   \n",
        "\n",
        "                     point_granularity  lineno site_buckets eq_new_limit  \n",
        "county      policyID                                                      \n",
        "CLAY COUNTY 119736                   1       1           B2     997920.0  \n",
        "            448094                   3       1           B3    2644752.6  \n",
        "            785275                   3       1           B1          0.0  \n",
        "\n",
        "[3 rows x 21 columns]"
       ]
      }
     ],
     "prompt_number": 353
    },
    {
     "cell_type": "code",
     "collapsed": false,
     "input": [
      "#Delete a column, Copy a DF\n",
      "ins1=ins.copy()\n",
      "del ins1['policyid'], ins1['county']\n",
      "\n",
      "#Reset indexes, that is get back hierarchical indexes as columns\n",
      "ins1.reset_index(inplace=True)\n",
      "ins1.head(3)"
     ],
     "language": "python",
     "metadata": {},
     "outputs": [
      {
       "metadata": {},
       "output_type": "pyout",
       "prompt_number": 400,
       "text": [
        "        county  policyID statecode  eq_site_limit  hu_site_limit  \\\n",
        "0  CLAY COUNTY    119736        FL       498960.0      498960.00   \n",
        "1  CLAY COUNTY    448094        FL      1322376.3     1322376.30   \n",
        "2  CLAY COUNTY    785275        FL            0.0      515035.62   \n",
        "\n",
        "   fl_site_limit  fr_site_limit    tiv_2011    tiv_2012  eq_site_deductible  \\\n",
        "0       498960.0       498960.0   498960.00   792148.90                   0   \n",
        "1      1322376.3      1322376.3  1322376.30  1438163.57                   0   \n",
        "2            0.0            0.0   515035.62   884419.17                   0   \n",
        "\n",
        "          ...          fl_site_deductible  fr_site_deductible  point_latitude  \\\n",
        "0         ...                           0                   0       30.102261   \n",
        "1         ...                           0                   0       30.063936   \n",
        "2         ...                           0                   0       30.063236   \n",
        "\n",
        "   point_longitude         line construction point_granularity  lineno  \\\n",
        "0       -81.711777  Residential      masonry                 1       1   \n",
        "1       -81.707664  Residential      masonry                 3       1   \n",
        "2       -81.707703  Residential      masonry                 3       1   \n",
        "\n",
        "  site_buckets eq_new_limit  \n",
        "0           B2     997920.0  \n",
        "1           B3    2644752.6  \n",
        "2           B1          0.0  \n",
        "\n",
        "[3 rows x 21 columns]"
       ]
      }
     ],
     "prompt_number": 400
    }
   ],
   "metadata": {}
  }
 ]
}