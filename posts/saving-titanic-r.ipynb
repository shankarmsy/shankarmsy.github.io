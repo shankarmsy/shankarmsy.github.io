{
 "metadata": {
  "name": "",
  "signature": "sha256:ded3af2762074009c04d1b31417e29630f9b8e686667f4cb1275508ecd3b876c"
 },
 "nbformat": 3,
 "nbformat_minor": 0,
 "worksheets": [
  {
   "cells": [
    {
     "cell_type": "markdown",
     "metadata": {},
     "source": [
      "The following is an illustration of one of my approaches to solving the Titanic Survival prediction challenge hosted by Kaggle. Below is an excerpt from the competition page.\n",
      "\n",
      ">The sinking of the RMS Titanic is one of the most infamous shipwrecks in history.  On April 15, 1912, during her maiden voyage, the Titanic sank after colliding with an iceberg, killing 1502 out of 2224 passengers and crew. This sensational tragedy shocked the international community and led to better safety regulations for ships.\n",
      "\n",
      "<!-- TEASER_END -->  \n",
      ">One of the reasons that the shipwreck led to such loss of life was that there were not enough lifeboats for the passengers and crew. Although there was some element of luck involved in surviving the sinking, some groups of people were more likely to survive than others, such as women, children, and the upper-class.  \n",
      ">\n",
      ">In this challenge, we ask you to complete the analysis of what sorts of people were likely to survive. In particular, we ask you to apply the tools of machine learning to predict which passengers survived the tragedy.\n",
      "\n",
      "*Disclaimer*  \n",
      "This pursuit infuses my own ideas with others I've had the privilege to learn from. I write to further my learning.\n",
      "\n",
      "To get started, download the data files from Kaggle's website [here](http://www.kaggle.com/c/titanic-gettingStarted/data). You will see two CSV files, train and test. Download them to your working directory."
     ]
    },
    {
     "cell_type": "markdown",
     "metadata": {},
     "source": [
      "OK let's now take a look at the column descriptions provided for the dataset.\n",
      "\n",
      "    VARIABLE DESCRIPTIONS:\n",
      "    survival        Survival\n",
      "                    (0 = No; 1 = Yes)\n",
      "    pclass          Passenger Class\n",
      "                    (1 = 1st; 2 = 2nd; 3 = 3rd)\n",
      "    name            Name\n",
      "    sex             Sex\n",
      "    age             Age\n",
      "    sibsp           Number of Siblings/Spouses Aboard\n",
      "    parch           Number of Parents/Children Aboard\n",
      "    ticket          Ticket Number\n",
      "    fare            Passenger Fare\n",
      "    cabin           Cabin\n",
      "    embarked        Port of Embarkation\n",
      "                    (C = Cherbourg; Q = Queenstown; S = Southampton)\n",
      "\n",
      "    SPECIAL NOTES:\n",
      "    Pclass is a proxy for socio-economic status (SES)\n",
      "     1st ~ Upper; 2nd ~ Middle; 3rd ~ Lower\n",
      "\n",
      "    Age is in Years; Fractional if Age less than One (1)\n",
      "     If the Age is Estimated, it is in the form xx.5\n",
      "\n",
      "    With respect to the family relation variables (i.e. sibsp and parch)\n",
      "    some relations were ignored.  The following are the definitions used\n",
      "    for sibsp and parch.\n",
      "\n",
      "    Sibling:  Brother, Sister, Stepbrother, or Stepsister of Passenger Aboard Titanic\n",
      "    Spouse:   Husband or Wife of Passenger Aboard Titanic (Mistresses and Fiances Ignored)\n",
      "    Parent:   Mother or Father of Passenger Aboard Titanic\n",
      "    Child:    Son, Daughter, Stepson, or Stepdaughter of Passenger Aboard Titanic\n",
      "\n",
      "    Other family relatives excluded from this study include cousins,\n",
      "    nephews/nieces, aunts/uncles, and in-laws.  Some children travelled\n",
      "    only with a nanny, therefore parch=0 for them.  As well, some\n",
      "    travelled with very close friends or neighbors in a village, however,\n",
      "    the definitions do not support such relations.\n",
      "Bottomline, we have some information about passengers traveling aboard the Titanic and we need to predict if train a model\n",
      "that can predict if one survived or not based on data similar to that provided in the dataset. Without further ado, let's get started."
     ]
    },
    {
     "cell_type": "code",
     "collapsed": false,
     "input": [
      "#Load the R Magic so we can execute R scripts within this notebook\n",
      "%load_ext rmagic"
     ],
     "language": "python",
     "metadata": {},
     "outputs": [],
     "prompt_number": 1
    },
    {
     "cell_type": "code",
     "collapsed": false,
     "input": [
      "%%R\n",
      "#Note that every code block in this notebook will need to have the above line to enable IPython to understand we're coding R.\n",
      "\n",
      "#I've downloaded the train and test CSV files to my work directory. You should too unless you cloned this repo.\n",
      "#While downloading the CSV files in R, let's do some data handling so it saves us the headache later on.\n",
      "\n",
      "#Define a read function so we don't need to do it twice. Column types specifies data types for each column and missing\n",
      "#types specify different types of null values possible.\n",
      "read_better <- function(file.name, column.types, missing.types) {\n",
      "  read.csv( file.name, \n",
      "            colClasses=column.types,\n",
      "            na.strings=missing.types )\n",
      "}\n",
      "\n",
      "#Let's now define the column types\n",
      "column.types=c('integer',   # PassengerId\n",
      "               'factor',    # Survived \n",
      "               'factor',    # Pclass\n",
      "               'character', # Name\n",
      "               'factor',    # Sex\n",
      "               'numeric',   # Age\n",
      "               'integer',   # SibSp\n",
      "               'integer',   # Parch\n",
      "               'character', # Ticket\n",
      "               'numeric',   # Fare\n",
      "               'character', # Cabin\n",
      "               'factor')    # Embarked\n",
      "#Different types of null values\n",
      "missing.types=c('NA','') \n",
      "\n",
      "#Alright,let's read train\n",
      "orig_train<-read_better('train.csv', column.types, missing.types)\n",
      "\n",
      "#For test, the Survived column (2nd col) doesn't exist, let's remove that type before reading.\n",
      "orig_test<-read_better('test.csv', column.types[-2], missing.types)\n",
      "\n",
      "#Let's make copies so we never have to read again\n",
      "train<-orig_train\n",
      "test<-orig_test\n",
      "\n",
      "#Quickly print a summary of train\n",
      "summary(train)"
     ],
     "language": "python",
     "metadata": {},
     "outputs": [
      {
       "metadata": {},
       "output_type": "display_data",
       "text": [
        "  PassengerId    Survived Pclass      Name               Sex     \n",
        " Min.   :  1.0   0:549    1:216   Length:891         female:314  \n",
        " 1st Qu.:223.5   1:342    2:184   Class :character   male  :577  \n",
        " Median :446.0            3:491   Mode  :character               \n",
        " Mean   :446.0                                                   \n",
        " 3rd Qu.:668.5                                                   \n",
        " Max.   :891.0                                                   \n",
        "                                                                 \n",
        "      Age            SibSp           Parch           Ticket         \n",
        " Min.   : 0.42   Min.   :0.000   Min.   :0.0000   Length:891        \n",
        " 1st Qu.:20.12   1st Qu.:0.000   1st Qu.:0.0000   Class :character  \n",
        " Median :28.00   Median :0.000   Median :0.0000   Mode  :character  \n",
        " Mean   :29.70   Mean   :0.523   Mean   :0.3816                     \n",
        " 3rd Qu.:38.00   3rd Qu.:1.000   3rd Qu.:0.0000                     \n",
        " Max.   :80.00   Max.   :8.000   Max.   :6.0000                     \n",
        " NA's   :177                                                        \n",
        "      Fare           Cabin           Embarked  \n",
        " Min.   :  0.00   Length:891         C   :168  \n",
        " 1st Qu.:  7.91   Class :character   Q   : 77  \n",
        " Median : 14.45   Mode  :character   S   :644  \n",
        " Mean   : 32.20                      NA's:  2  \n",
        " 3rd Qu.: 31.00                                \n",
        " Max.   :512.33                                \n",
        "                                               \n"
       ]
      }
     ],
     "prompt_number": 2
    },
    {
     "cell_type": "markdown",
     "metadata": {},
     "source": [
      "###Data Munging\n",
      "Munging is essentially cleansing the data so it's ready for our super sophisticated Machine Learning algorithms :-)\n",
      "\n",
      "Ideally I'd like to use Pandas which is an awesome tool for these types of things but considering Pandas itself was inspired from R, we will try the whole thing in R this time. I'll create a seperate notebook later to do it all in sklearn/pandas.\n",
      "\n",
      "Alright let's get started. The first step of any Data Cleansing process is Visualization. Why is that? I asked the question myself but how would you cleanse something when you don't know what it is? And what better way to understand data than by looking at in colourful visualizations. Let's go and create some."
     ]
    },
    {
     "cell_type": "code",
     "collapsed": false,
     "input": [
      "%%R\n",
      "#I loved the look of this R package that provides the missing map which can give you a super quick peek into the dataset.\n",
      "#You'll need the Amelia package for this visualization.\n",
      "\n",
      "#install.packages(\"Amelia\")\n",
      "require(Amelia)\n",
      "missmap(train, main=\"Titanic - Missing Data Map\", col=c(\"forestgreen\",\"lightskyblue2\"), legend=FALSE)"
     ],
     "language": "python",
     "metadata": {},
     "outputs": [
      {
       "metadata": {},
       "output_type": "display_data",
       "text": [
        "Loading required package: Amelia\n",
        "Loading required package: Rcpp\n",
        "## \n",
        "## Amelia II: Multiple Imputation\n",
        "## (Version 1.7.3, built: 2014-11-14)\n",
        "## Copyright (C) 2005-2014 James Honaker, Gary King and Matthew Blackwell\n",
        "## Refer to http://gking.harvard.edu/amelia/ for more information\n",
        "## \n"
       ]
      },
      {
       "metadata": {},
       "output_type": "display_data",
       "png": "[encoded data removed]"
      }
     ],
     "prompt_number": 3
    },
    {
     "cell_type": "markdown",
     "metadata": {},
     "source": [
      "It's obvious looking at this map that the most values missing are in the Cabin and Age columns. Cabin basically refers to the cabin# of each passenger and considering how many values are missing, we could as well just drop it. Age however is critical and we need a better mechanism to handle. There is also one missing Embarked value."
     ]
    },
    {
     "cell_type": "code",
     "collapsed": false,
     "input": [
      "%%R\n",
      "#OK let's plot a series of visualizations that can hopefully explain the data better\"\n",
      "\n",
      "#Proportion of Survivors\n",
      "barplot(prop.table(table(train$Survived)), names.arg=c('Didn\\'t Survive', 'Survived'), main=\"Proportion of Survivors\",\n",
      "       col=c('mistyrose','lightseagreen'))\n",
      "\n",
      "#Clearly more people died than survived."
     ],
     "language": "python",
     "metadata": {},
     "outputs": [
      {
       "metadata": {},
       "output_type": "display_data",
       "png": "[encoded data removed]"
      }
     ],
     "prompt_number": 4
    },
    {
     "cell_type": "code",
     "collapsed": false,
     "input": [
      "%%R\n",
      "#Proportion of Survivors by Gender\n",
      "barplot(prop.table(table(train$Sex, train$Survived), 1), names.arg=c('Didn\\'t Survive', 'Survived'), \n",
      "        main=\"Proportion of Survivors by Gender\", legend=TRUE, col=c('darksalmon','paleturquoise'))\n",
      "\n",
      "#More Females survived than Males. This is understandable considering the ladies and children first approach for survival."
     ],
     "language": "python",
     "metadata": {},
     "outputs": [
      {
       "metadata": {},
       "output_type": "display_data",
       "png": "[encoded data removed]"
      }
     ],
     "prompt_number": 5
    },
    {
     "cell_type": "code",
     "collapsed": false,
     "input": [
      "%%R\n",
      "#Proportion of Survivors by Class of Travel - let's do a mosaicplot this time for fun.\n",
      "mosaicplot(prop.table(table(train$Pclass, train$Survived), 1), main=\"Proportion of Survivors by Pclass\", \n",
      "           xlab='Pclass', ylab='Survived ?',col=c('darkturquoise','mediumspringgreen'))\n",
      "\n",
      "#Looks like those traveling in upper class (3) were more lucky than the rest. We'll keep this in mind."
     ],
     "language": "python",
     "metadata": {},
     "outputs": [
      {
       "metadata": {},
       "output_type": "display_data",
       "png": "[encoded data removed]"
      }
     ],
     "prompt_number": 6
    },
    {
     "cell_type": "code",
     "collapsed": false,
     "input": [
      "%%R\n",
      "#OK let's do a quick plot by Age - remember that we need to fill in missing values for this column.\n",
      "boxplot(train$Age~train$Survived,main=\"Proportion of Survivors by Age\", col=c('darkseagreen4','salmon4'), xlab=\"Survived ?\",\n",
      "       ylab=\"Age\")\n",
      "\n",
      "#OK that was a helpful plot, it clearly tells us that there were more survivors in the 20-35 Age bracket, young legs perhaps?"
     ],
     "language": "python",
     "metadata": {},
     "outputs": [
      {
       "metadata": {},
       "output_type": "display_data",
       "png": "[encoded data removed]"
      }
     ],
     "prompt_number": 7
    },
    {
     "cell_type": "code",
     "collapsed": false,
     "input": [
      "%%R\n",
      "#OK let's get down to business. We'll look at how many values are missing for Age.\n",
      "summary(train$Age)\n",
      "\n",
      "#177 is a lot considering our dataset is really small. Let's try to find a meaningful way to fill these up.\n",
      "\n",
      "#The determining factors so far has been Gender and Pclass. Can we find out how many Age values are missing by Gender?\n",
      "barplot(table(train$Sex[which(is.na(train$Age))]),main=\"Proportion of Missing Ages by Gender\", \n",
      "        col=c('lightsteelblue','bisque3'), xlab=\"Gender\", ylab=\"Missing Ages\")\n",
      "\n",
      "#OK that's clearly tilted in favor of males. We're a sloppy bunch, aren't we?"
     ],
     "language": "python",
     "metadata": {},
     "outputs": [
      {
       "metadata": {},
       "output_type": "display_data",
       "png": "[encoded data removed]"
      }
     ],
     "prompt_number": 8
    },
    {
     "cell_type": "code",
     "collapsed": false,
     "input": [
      "%%R\n",
      "#How about missing Age values by Pclass?\n",
      "barplot(table(train$Pclass[which(is.na(train$Age))]),main=\"Proportion of Missing Ages by Pclass\", \n",
      "        col=c('mediumseagreen','rosybrown4','mediumslateblue'), xlab=\"Pclass\", ylab=\"Missing Ages\")\n",
      "\n",
      "#There's our most important highlight yet. Most of the ages we're missing are in Pclass 3. So this goes to show, we will\n",
      "#probably be better off taking the median of ages for each Pclass and gender and filling the null values with it. That\n",
      "#should be better than simply filling all with overall median."
     ],
     "language": "python",
     "metadata": {},
     "outputs": [
      {
       "metadata": {},
       "output_type": "display_data",
       "png": "[encoded data removed]"
      }
     ],
     "prompt_number": 9
    },
    {
     "cell_type": "code",
     "collapsed": false,
     "input": [
      "%%R\n",
      "#Let's go ahead and do the honors. Note that we could do all of this with a single sophisticated function but I am\n",
      "#choosing to keep things simple at the moment.\n",
      "\n",
      "#Before we make any changes to Train, let's combine Train and Test temporarily to a new dataset. Since any change we need\n",
      "#to make to Train needs to be made to Test as well, we can do the changes only once and split the datasets again later.\n",
      "\n",
      "#We'll first add the Survived Column to the Test set since it doesn't exist and init to NULL values since we won't use it.\n",
      "test$Survived<-rep(0,nrow(test))\n",
      "titanic<-rbind(train,test)\n",
      "\n",
      "#na.rm basically calculates mean for all non-null values. We then plug the medi\n",
      "titanic$Age[which(titanic$Pclass==3 & titanic$Sex==\"female\" & is.na(titanic$Age))]<-\n",
      "        median(titanic$Age[which(titanic$Pclass==3 & titanic$Sex==\"female\")],na.rm=TRUE)\n",
      "titanic$Age[which(titanic$Pclass==2 & titanic$Sex==\"female\" & is.na(titanic$Age))]<-\n",
      "        median(titanic$Age[which(titanic$Pclass==3 & titanic$Sex==\"female\")],na.rm=TRUE)\n",
      "titanic$Age[which(titanic$Pclass==1 & titanic$Sex==\"female\" & is.na(titanic$Age))]<-\n",
      "        median(titanic$Age[which(titanic$Pclass==3 & titanic$Sex==\"female\")],na.rm=TRUE)\n",
      "titanic$Age[which(titanic$Pclass==3 & titanic$Sex==\"male\" & is.na(titanic$Age))]<-\n",
      "        median(titanic$Age[which(titanic$Pclass==3 & titanic$Sex==\"female\")],na.rm=TRUE)\n",
      "titanic$Age[which(titanic$Pclass==2 & titanic$Sex==\"male\" & is.na(titanic$Age))]<-\n",
      "        median(titanic$Age[which(titanic$Pclass==3 & titanic$Sex==\"female\")],na.rm=TRUE)\n",
      "titanic$Age[which(titanic$Pclass==1 & titanic$Sex==\"male\" & is.na(titanic$Age))]<-\n",
      "        median(titanic$Age[which(titanic$Pclass==3 & titanic$Sex==\"female\")],na.rm=TRUE)\n",
      "\n",
      "#Let's do a quick summary of the Age column to make sure there are no nulls remaining\n",
      "\n",
      "summary(titanic$Age)"
     ],
     "language": "python",
     "metadata": {},
     "outputs": [
      {
       "metadata": {},
       "output_type": "display_data",
       "text": [
        "   Min. 1st Qu.  Median    Mean 3rd Qu.    Max. \n",
        "   0.17   22.00   24.00   28.30   35.00   80.00 \n"
       ]
      }
     ],
     "prompt_number": 10
    },
    {
     "cell_type": "code",
     "collapsed": false,
     "input": [
      "%%R\n",
      "#Let's turn our attention to the Embarked Column\n",
      "summary(titanic$Embarked)\n",
      "\n",
      "#There are just 2 missing values and S seems to be the majority so let's plug in S\n",
      "titanic$Embarked[which(is.na(titanic$Embarked))] <- 'S'\n",
      "\n",
      "summary(titanic$Embarked)"
     ],
     "language": "python",
     "metadata": {},
     "outputs": [
      {
       "metadata": {},
       "output_type": "display_data",
       "text": [
        "  C   Q   S \n",
        "270 123 916 \n"
       ]
      }
     ],
     "prompt_number": 11
    },
    {
     "cell_type": "code",
     "collapsed": false,
     "input": [
      "%%R\n",
      "#Let's remove the Cabin column which contains way too many NULLs and will probably not give anything new considering\n",
      "#we already have the port of embarcation.\n",
      "titanic$Cabin<-NULL"
     ],
     "language": "python",
     "metadata": {},
     "outputs": [],
     "prompt_number": 12
    },
    {
     "cell_type": "markdown",
     "metadata": {},
     "source": [
      "####Feature Engineering\n",
      "Feature Engineering refers to manufacturing new features based on the idea that they may replace existing ones because they are easier for the machine learning algorithms to digest or extend the value of existing feature(s) because they're more relevant for the predictions we're trying to make. Let's see what new features we can add to the Titanic dataset."
     ]
    },
    {
     "cell_type": "code",
     "collapsed": false,
     "input": [
      "%%R\n",
      "#OK we all know that they tried to save the women and children first aboard the titanic. We have gender which identifies\n",
      "#women but no identifier for children. Let's call all passengers with Age < 18 children shall we?\n",
      "titanic$Child<-0\n",
      "titanic$Child[which(titanic$Age<18)]<-1"
     ],
     "language": "python",
     "metadata": {},
     "outputs": [],
     "prompt_number": 13
    },
    {
     "cell_type": "code",
     "collapsed": false,
     "input": [
      "%%R\n",
      "#We have a column called fare which is a numeric value of the actual fare that was paid for the trip. This column as such\n",
      "#might not be very useful but what if we can break it down to different buckets - say <20, 20-40, 40-60, 60+. Recall that\n",
      "#we had noticed a curious fact with respect to the range 20-35, let's make sure that is covered in a single bucket.\n",
      "titanic$FareGroup<-'40+'\n",
      "titanic$FareGroup[which(titanic$Fare<10)] <- '<10'\n",
      "titanic$FareGroup[which(titanic$Fare>=10 & titanic$Fare<20)] <- '10-20'\n",
      "titanic$FareGroup[which(titanic$Fare>=20 & titanic$Fare<40)] <- '20-40'\n",
      "\n",
      "titanic$FareGroup<-as.factor(titanic$FareGroup)\n",
      "\n",
      "barplot(table(titanic$FareGroup),col='tomato1',main='Fare Groups')"
     ],
     "language": "python",
     "metadata": {},
     "outputs": [
      {
       "metadata": {},
       "output_type": "display_data",
       "png": "[encoded data removed]"
      }
     ],
     "prompt_number": 14
    },
    {
     "cell_type": "code",
     "collapsed": false,
     "input": [
      "%%R\n",
      "#Name is another clear candidate that might not be of great value to us. What could a name contribute to predicting if he/she\n",
      "#actually survived? Well, it may not directly but it could contain things that influence the prediction. Let's print a few \n",
      "#names to see.\n",
      "tail(titanic$Name)\n",
      "\n",
      "#We can see that the names seem to be in similar format and have a title in between the surname and first name. Can we \n",
      "#extract the Titles from the names?"
     ],
     "language": "python",
     "metadata": {},
     "outputs": [
      {
       "metadata": {},
       "output_type": "display_data",
       "text": [
        "[1] \"Henriksson, Miss. Jenny Lovisa\" \"Spector, Mr. Woolf\"            \n",
        "[3] \"Oliva y Ocana, Dona. Fermina\"   \"Saether, Mr. Simon Sivertsen\"  \n",
        "[5] \"Ware, Mr. Frederick\"            \"Peter, Master. Michael J\"      \n"
       ]
      }
     ],
     "prompt_number": 15
    },
    {
     "cell_type": "code",
     "collapsed": false,
     "input": [
      "%%R\n",
      "#We could use the strsplit function to split based on , and . then capture the middle items which should be the title. The\n",
      "#sapply function helps to perform this for the entire dataframe. function keyword is just like lambda in python. We will\n",
      "#also remove any extra whitespaces.\n",
      "titanic$Title<-sapply(titanic$Name, FUN=function(x) {strsplit(x, split='[,.]')[[1]][2]})\n",
      "titanic$Title<-sub(' ','',titanic$Title)\n",
      "head(titanic$Title)"
     ],
     "language": "python",
     "metadata": {},
     "outputs": [
      {
       "metadata": {},
       "output_type": "display_data",
       "text": [
        "[1] \"Mr\"   \"Mrs\"  \"Miss\" \"Mrs\"  \"Mr\"   \"Mr\"  \n"
       ]
      }
     ],
     "prompt_number": 16
    },
    {
     "cell_type": "code",
     "collapsed": false,
     "input": [
      "%%R\n",
      "#Let's take a look at the different values of Title and see if further grouping is necessary.\n",
      "#To be safe, we'll perform any analysis only on the training set. Let's temporarily split Train.\n",
      "temp <- titanic[1:nrow(train),]\n",
      "table(temp$Title)\n",
      "\n",
      "#OK there's obviously only a few titles that are most prominent namely Mr, Miss, Mrs and Master. Perhaps we can group the\n",
      "#other titles further?"
     ],
     "language": "python",
     "metadata": {},
     "outputs": [
      {
       "metadata": {},
       "output_type": "display_data",
       "text": [
        "\n",
        "        Capt          Col          Don           Dr     Jonkheer         Lady \n",
        "           1            2            1            7            1            1 \n",
        "       Major       Master         Miss         Mlle          Mme           Mr \n",
        "           2           40          182            2            1          517 \n",
        "         Mrs           Ms          Rev          Sir the Countess \n",
        "         125            1            6            1            1 \n"
       ]
      }
     ],
     "prompt_number": 17
    },
    {
     "cell_type": "code",
     "collapsed": false,
     "input": [
      "%%R\n",
      "#Looking at wikipedia definitions, the following grouping makes reasonable sense because of similar definitions.\n",
      "#Note it's definitely possible to nitpick these groupings, feel free to make your own judgement call.\n",
      "titanic$Title[titanic$Title %in% c('Dona','Ms','Lady','the Countess','Jonkheer')] <- 'Mrs'\n",
      "titanic$Title[titanic$Title %in% c('Col','Dr','Rev')] <- 'Noble'\n",
      "titanic$Title[titanic$Title %in% c('Mme','Mile','Mlle')] <- 'Miss'\n",
      "titanic$Title[titanic$Title %in% c('Capt','Don','Major','Sir')] <- 'Mr'\n",
      "\n",
      "titanic$Title<-as.factor(titanic$Title)\n",
      "\n",
      "table(titanic$Title)"
     ],
     "language": "python",
     "metadata": {},
     "outputs": [
      {
       "metadata": {},
       "output_type": "display_data",
       "text": [
        "\n",
        "Master   Miss     Mr    Mrs  Noble \n",
        "    61    263    762    203     20 \n"
       ]
      }
     ],
     "prompt_number": 18
    },
    {
     "cell_type": "code",
     "collapsed": false,
     "input": [
      "%%R\n",
      "#OK so we split the Titles out, but what about Surnames? Surnames could indicate families traveling together, maybe \n",
      "#many of them tried to stick together trying to escape? Let's capture the surnames.\n",
      "titanic$Surname<-sapply(titanic$Name, FUN=function(x) {strsplit(x, split='[,.]')[[1]][1]})\n",
      "titanic$Surname<-sub(' ','',titanic$Surname)\n",
      "head(titanic$Surname)"
     ],
     "language": "python",
     "metadata": {},
     "outputs": [
      {
       "metadata": {},
       "output_type": "display_data",
       "text": [
        "[1] \"Braund\"    \"Cumings\"   \"Heikkinen\" \"Futrelle\"  \"Allen\"     \"Moran\"    \n"
       ]
      }
     ],
     "prompt_number": 19
    },
    {
     "cell_type": "code",
     "collapsed": false,
     "input": [
      "%%R\n",
      "#Very quickly let's get a quick rundown of the families\n",
      "temp <- titanic[1:nrow(train),]\n",
      "fams<-data.frame(table(temp$Surname))\n",
      "print(summary(fams$Freq))\n",
      "#There we we have it. Looks like a lot of the passengers don't share a Surname with each other since the Median is 1\n",
      "#but there are families as well with upto 9 members (in the training set). So we were on the right track.\n",
      "hist(fams$Freq, ylim=c(0,50), col='darkcyan')\n",
      "\n",
      "#The histogram tells us there are a lot of ones and about 50 odd families with sizes 2 and 3, the remaining few have\n",
      "#large families. Perhaps there's a bigger question, how do we which of them are families? There could be multiple passengers\n",
      "#with the same surname traveling different groups, which would negate our purpose."
     ],
     "language": "python",
     "metadata": {},
     "outputs": [
      {
       "metadata": {},
       "output_type": "display_data",
       "text": [
        "   Min. 1st Qu.  Median    Mean 3rd Qu.    Max. \n",
        "  1.000   1.000   1.000   1.336   1.000   9.000 \n"
       ]
      },
      {
       "metadata": {},
       "output_type": "display_data",
       "png": "[encoded data removed]"
      }
     ],
     "prompt_number": 20
    },
    {
     "cell_type": "code",
     "collapsed": false,
     "input": [
      "%%R\n",
      "#To simplify this, let's use the variables we haven't explored so far, SibSp (No. of Siblings and Spouses) and Parch (No.\n",
      "#Parents and Children). Summing these up (+1 for self) should gives us the family size of each passenger. Making an\n",
      "#assumption that these attributes were entered correctly, we could then surmise that passengers with the same surname and \n",
      "#family size belong to same families. Of course, there're still loopholes if we want to nitpick but I am stopping here.\n",
      "titanic$FamSize<-titanic$SibSp + titanic$Parch + 1\n",
      "\n",
      "#Club FamilySize with Surname to create a new Family ID \n",
      "titanic$FamID<-paste(titanic$Surname,as.character(titanic$FamSize),sep='')\n",
      "\n",
      "#We'll call all passengers with Family Size = 1 as traveling Solo.\n",
      "titanic$FamID[which(titanic$FamSize==1)]<-'Solo'\n",
      "titanic$FamID<-as.factor(titanic$FamID)\n",
      "\n",
      "#Finally let's remove some columns we won't use for model building.\n",
      "#Name and Ticket are unique for each passenger (we assume) and couldn't possible add any relevance to our prediction. Even\n",
      "#if multiple passengers had the same name, it shouldn't really help us decide if one or more survived.\n",
      "titanic$Name<-NULL\n",
      "titanic$Ticket<-NULL\n",
      "\n",
      "head(titanic)"
     ],
     "language": "python",
     "metadata": {},
     "outputs": [
      {
       "metadata": {},
       "output_type": "display_data",
       "text": [
        "  PassengerId Survived Pclass    Sex Age SibSp Parch    Fare Embarked Child\n",
        "1           1        0      3   male  22     1     0  7.2500        S     0\n",
        "2           2        1      1 female  38     1     0 71.2833        C     0\n",
        "3           3        1      3 female  26     0     0  7.9250        S     0\n",
        "4           4        1      1 female  35     1     0 53.1000        S     0\n",
        "5           5        0      3   male  35     0     0  8.0500        S     0\n",
        "6           6        0      3   male  22     0     0  8.4583        Q     0\n",
        "  FareGroup Title   Surname FamSize     FamID\n",
        "1       <10    Mr    Braund       2   Braund2\n",
        "2       40+   Mrs   Cumings       2  Cumings2\n",
        "3       <10  Miss Heikkinen       1      Solo\n",
        "4       40+   Mrs  Futrelle       2 Futrelle2\n",
        "5       <10    Mr     Allen       1      Solo\n",
        "6       <10    Mr     Moran       1      Solo\n"
       ]
      }
     ],
     "prompt_number": 21
    },
    {
     "cell_type": "code",
     "collapsed": false,
     "input": [
      "%%R\n",
      "#Great we're through. We'll now get back our Train and Test sets from Titanic.\n",
      "train<-titanic[1:nrow(train),]\n",
      "temp=nrow(train)+1\n",
      "kaggletest<-titanic[temp:nrow(titanic),]\n",
      "\n",
      "print(nrow(train))\n",
      "print(nrow(kaggletest))\n",
      "print(nrow(titanic))"
     ],
     "language": "python",
     "metadata": {},
     "outputs": [
      {
       "metadata": {},
       "output_type": "display_data",
       "text": [
        "[1] 891\n",
        "[1] 418\n",
        "[1] 1309\n"
       ]
      }
     ],
     "prompt_number": 22
    },
    {
     "cell_type": "markdown",
     "metadata": {},
     "source": [
      "###Model Fitting and Evaluation\n",
      "I want to use this opportunity and challenge to try out different models in R and see how they stack up against each other. We'll run through one at a time, fit the parameters and submit to Kaggle. We'll then wrap things up by comparing the different approaches. I think this is a great chance to learn tuning models in R.\n",
      "\n",
      "First up, before we start training and running cross-validation, I would like to try simple, plain-old logistic regression. We'll not be training but simply fitting a model and checking how the different parameters we've created contribute to the predictions.\n",
      "\n",
      "Before we get started we need to split the \"train.csv\" file we're holding in the train dataframe to train/test sets. The reason we do this is so we have a baseline to run our model against before the submission to Kaggle. It enables a good approximation on how well the model can generalize.   \n",
      "\n",
      "We'll be using the *caret* package for the rest of this approach. The caret package has several functions that attempt to streamline the model building and evaluation process. One of them is the createDataPartition function which can be used to create a stratified random sample of the data into training and test sets."
     ]
    },
    {
     "cell_type": "code",
     "collapsed": false,
     "input": [
      "%%R\n",
      "#75/25 Train/Test Split\n",
      "#install.packages('caret')\n",
      "#Setting a random seed. We will be using this throughout to make sure our results are consistently comparable.\n",
      "library(caret)\n",
      "set.seed(35) \n",
      "trainrows<-createDataPartition(train$Survived, p = 0.8, list=FALSE)\n",
      "train.set<-train[trainrows,]\n",
      "test.set<-train[-trainrows,]\n",
      "\n",
      "print(nrow(train.set))\n",
      "print(nrow(test.set))\n",
      "      \n",
      "#Remember, from this point on Test does NOT refer to the test.csv file. I will call out explicitly when it does and it won't\n",
      "#until the very end when we submit predictions to Kaggle for each model."
     ],
     "language": "python",
     "metadata": {},
     "outputs": [
      {
       "metadata": {},
       "output_type": "display_data",
       "text": [
        "Loading required package: lattice\n",
        "Loading required package: ggplot2\n",
        "[1] 714\n",
        "[1] 177\n"
       ]
      }
     ],
     "prompt_number": 23
    },
    {
     "cell_type": "markdown",
     "metadata": {},
     "source": [
      "####Logistic Regression\n",
      "Before we start training models with caret, I would like to first explore simple logistic regression through the glm() method. glm (Generalized Linear Models) is easy-to-use and lets us several types of linear models, logistic regression being one of them. Let's begin"
     ]
    },
    {
     "cell_type": "code",
     "collapsed": false,
     "input": [
      "%%R\n",
      "#To start with I am not including any of the features we manufactured. Let's see how the raw features perform.\n",
      "\n",
      "Titan.logit.1 <- glm(Survived ~ Sex + Pclass + Age + SibSp + Parch + Embarked + Fare, \n",
      "                       data = train.set, family=binomial(\"logit\"))\n",
      "print(Titan.logit.1)"
     ],
     "language": "python",
     "metadata": {},
     "outputs": [
      {
       "metadata": {},
       "output_type": "display_data",
       "text": [
        "\n",
        "Call:  glm(formula = Survived ~ Sex + Pclass + Age + SibSp + Parch + \n",
        "    Embarked + Fare, family = binomial(\"logit\"), data = train.set)\n",
        "\n",
        "Coefficients:\n",
        "(Intercept)      Sexmale      Pclass2      Pclass3          Age        SibSp  \n",
        "   4.034633    -2.640662    -1.101916    -2.263913    -0.038039    -0.263821  \n",
        "      Parch    EmbarkedQ    EmbarkedS         Fare  \n",
        "  -0.112988    -0.001405    -0.455287     0.002163  \n",
        "\n",
        "Degrees of Freedom: 713 Total (i.e. Null);  704 Residual\n",
        "Null Deviance:\t    950.9 \n",
        "Residual Deviance: 633.3 \tAIC: 653.3\n"
       ]
      }
     ],
     "prompt_number": 24
    },
    {
     "cell_type": "markdown",
     "metadata": {},
     "source": [
      "Couple of observations on the results above. The factors we're interested in are Deviance and Degrees of Freedom. The null observations are based on how well we can predict survival given a \"null\" model, which works only based on a constant, mean of means or a \"grand mean\". The null deviance is expected to be high. While the residual deviance tells us how much the inclusion of features has brought down the null deviance. So for instance, in our first run, the null deviance was **950.9** and the residual deviance was **633.3**. So including the raw features (after the data munging process) brought down the deviance by **~327** points with a 713-704=**9** change in degrees of freedom. If you're interested like I am, google to learn more about these topics. The coefficients are the parameters (theta) for each of the features and the Intercept is the theta0 term.\n",
      "\n",
      "Let's run the extractor function, anova(), which gives us the result of analysis. I am using the chi-square or \"goodness of fit\" statistic. Lower the value the better."
     ]
    },
    {
     "cell_type": "code",
     "collapsed": false,
     "input": [
      "%%R\n",
      "anova(Titan.logit.1, test=\"Chisq\")"
     ],
     "language": "python",
     "metadata": {},
     "outputs": [
      {
       "metadata": {},
       "output_type": "display_data",
       "text": [
        "Analysis of Deviance Table\n",
        "\n",
        "Model: binomial, link: logit\n",
        "\n",
        "Response: Survived\n",
        "\n",
        "Terms added sequentially (first to last)\n",
        "\n",
        "\n",
        "         Df Deviance Resid. Df Resid. Dev  Pr(>Chi)    \n",
        "NULL                       713     950.86              \n",
        "Sex       1  206.206       712     744.66 < 2.2e-16 ***\n",
        "Pclass    2   77.642       710     667.02 < 2.2e-16 ***\n",
        "Age       1   18.755       709     648.26 1.486e-05 ***\n",
        "SibSp     1    8.977       708     639.29  0.002734 ** \n",
        "Parch     1    0.640       707     638.65  0.423776    \n",
        "Embarked  2    4.625       705     634.02  0.098991 .  \n",
        "Fare      1    0.723       704     633.30  0.395187    \n",
        "---\n",
        "Signif. codes:  0 \u2018***\u2019 0.001 \u2018**\u2019 0.01 \u2018*\u2019 0.05 \u2018.\u2019 0.1 \u2018 \u2019 1\n"
       ]
      }
     ],
     "prompt_number": 25
    },
    {
     "cell_type": "markdown",
     "metadata": {},
     "source": [
      "Looking at the individual deviances, we see that Sex and Pclass accounted for the biggest reductions while Age and SibSp seem to be contributing somewhat. Embarked and Fare are on the lower end while the contribution of Parch is negligible. Let's now make some changes, include our new features and remove Fare and Parch."
     ]
    },
    {
     "cell_type": "code",
     "collapsed": false,
     "input": [
      "%%R\n",
      "Titan.logit.2 <- glm(Survived ~ Sex + Pclass + Age + SibSp + Embarked + FareGroup + FamID + Title + FamSize, \n",
      "                       data = train.set, family=binomial(\"logit\"))\n",
      "print(Titan.logit.2)"
     ],
     "language": "python",
     "metadata": {},
     "outputs": [
      {
       "metadata": {},
       "output_type": "display_data",
       "text": [
        "\n",
        "Call:  glm(formula = Survived ~ Sex + Pclass + Age + SibSp + Embarked + \n",
        "    FareGroup + FamID + Title + FamSize, family = binomial(\"logit\"), \n",
        "    data = train.set)\n",
        "\n",
        "Coefficients:\n",
        "              (Intercept)                    Sexmale  \n",
        "                3.022e+01                 -2.932e+01  \n",
        "                  Pclass2                    Pclass3  \n",
        "               -1.165e+00                 -1.093e+00  \n",
        "                      Age                      SibSp  \n",
        "               -2.415e-02                  2.153e-01  \n",
        "                EmbarkedQ                  EmbarkedS  \n",
        "                2.933e-01                 -2.709e-01  \n",
        "           FareGroup10-20             FareGroup20-40  \n",
        "                5.610e-01                  1.247e+00  \n",
        "             FareGroup40+              FamIDAbelson2  \n",
        "                1.058e+00                 -1.144e-01  \n",
        "                FamIDAks2              FamIDAllison4  \n",
        "                4.504e+15                 -2.955e+01  \n",
        "    FamIDAndersen-Jensen2            FamIDAndersson7  \n",
        "                2.559e+01                 -2.594e+00  \n",
        "            FamIDAndrews2             FamIDAppleton3  \n",
        "                2.591e+01                  2.754e+01  \n",
        "     FamIDArnold-Franchi2              FamIDAsplund7  \n",
        "               -2.780e+01                 -9.996e-01  \n",
        "          FamIDBackstrom2            FamIDBackstrom4  \n",
        "               -2.342e+01                  2.432e+01  \n",
        "            FamIDBaclini4              FamIDBarbara2  \n",
        "                2.514e+01                 -2.695e+01  \n",
        "             FamIDBaxter2                FamIDBeane2  \n",
        "               -6.829e-01                  3.796e+01  \n",
        "             FamIDBecker4             FamIDBeckwith3  \n",
        "                4.504e+15                  2.686e+01  \n",
        "             FamIDBishop2               FamIDBoulos3  \n",
        "                1.901e+01                 -2.693e+01  \n",
        "             FamIDBourke3             FamIDBowerman2  \n",
        "               -2.735e+01                  2.270e+01  \n",
        "              FamIDBrown3                FamIDBryhl2  \n",
        "                6.636e-01                 -4.504e+15  \n",
        "           FamIDCaldwell3                FamIDCaram2  \n",
        "                2.510e+01                 -3.145e+01  \n",
        "            FamIDCardeza2               FamIDCarter2  \n",
        "                2.719e+01                 -2.599e+01  \n",
        "             FamIDCarter4            FamIDCavendish2  \n",
        "                1.396e+01                 -2.490e+01  \n",
        "           FamIDChambers2              FamIDChristy3  \n",
        "                2.565e+01                  2.697e+01  \n",
        "       FamIDChronopoulos2               FamIDClarke2  \n",
        "               -2.292e+01                  2.775e+01  \n",
        "            FamIDCollyer3              FamIDCompton3  \n",
        "                1.118e+00                  2.399e+01  \n",
        "             FamIDCoutts3                FamIDCribb2  \n",
        "                2.256e+01                 -7.634e+01  \n",
        "             FamIDCrosby3              FamIDCumings2  \n",
        "                8.250e-01                  2.315e+01  \n",
        "             FamIDDanbom3             FamIDDavidson2  \n",
        "               -2.789e+01                 -4.445e+01  \n",
        "             FamIDDavies3              FamIDDavison2  \n",
        "                7.337e-01                  2.443e+01  \n",
        "               FamIDDean4             FamIDdelCarlo2  \n",
        "                7.449e-01                 -2.444e+01  \n",
        "      FamIDdeMessemaeker2                 FamIDDick2  \n",
        "                2.064e+01                  2.697e+01  \n",
        "              FamIDDodge3               FamIDDoling2  \n",
        "                2.502e+01                  4.261e+01  \n",
        "            FamIDDouglas2           FamIDDuffGordon2  \n",
        "               -2.482e+01                  2.711e+01  \n",
        "        FamIDDurany More2                FamIDElias3  \n",
        "                2.638e+01                 -2.680e+01  \n",
        "             FamIDEustis2           FamIDFaunthorpe2  \n",
        "                4.504e+15                  2.679e+01  \n",
        "               FamIDFord5              FamIDFortune6  \n",
        "               -1.731e+01                 -6.254e-01  \n",
        "         FamIDFrauenthal2           FamIDFrauenthal3  \n",
        "                2.072e+01                  2.958e+01  \n",
        "          FamIDFrolicher3     FamIDFrolicher-Stehli3  \n",
        "                2.450e+01                  2.806e+01  \n",
        "           FamIDFutrelle2                 FamIDGale2  \n",
        "               -6.513e-01                 -2.397e+01  \n",
        "              FamIDGiles2           FamIDGoldenberg2  \n",
        "               -2.348e+01                  2.839e+01  \n",
        "          FamIDGoldsmith3              FamIDGoodwin8  \n",
        "                2.487e+01                 -3.330e+01  \n",
        "             FamIDGraham2           FamIDGreenfield2  \n",
        "                2.441e+01                  2.620e+01  \n",
        "         FamIDGustafsson3              FamIDHagland2  \n",
        "               -4.187e+01                 -1.861e+01  \n",
        "         FamIDHamalainen3               FamIDHansen2  \n",
        "                2.591e+01                 -2.340e+01  \n",
        "             FamIDHansen3               FamIDHarder2  \n",
        "               -5.239e+01                  2.766e+01  \n",
        "             FamIDHarper2               FamIDHarris2  \n",
        "                2.961e+00                 -5.547e-01  \n",
        "               FamIDHart3                 FamIDHays3  \n",
        "                1.289e+00                  2.229e+01  \n",
        "             FamIDHerman4              FamIDHickman3  \n",
        "                2.614e+01                 -3.538e+01  \n",
        "            FamIDHippach2             FamIDHirvonen2  \n",
        "                5.357e+01                  2.910e+01  \n",
        "            FamIDHocking4                 FamIDHold2  \n",
        "               -2.375e+01                 -2.059e+01  \n",
        "          FamIDHolverson2                 FamIDHoyt2  \n",
        "               -2.258e+01                  1.834e+01  \n",
        "         FamIDIlmakangas2            FamIDJacobsohn2  \n",
        "               -2.598e+01                 -1.966e+01  \n",
        "          FamIDJacobsohn4               FamIDJensen2  \n",
        "                2.239e+01                 -2.301e+01  \n",
        "            FamIDJohnson3             FamIDJohnston4  \n",
        "                2.611e+01                 -2.985e+01  \n",
        "            FamIDJussila2               FamIDKantor2  \n",
        "               -2.704e+01                  1.565e-01  \n",
        "             FamIDKenyon2              FamIDKiernan2  \n",
        "                2.598e+01                 -1.207e+03  \n",
        "            FamIDKimball2                 FamIDKink3  \n",
        "                2.856e+01                 -2.513e+01  \n",
        "      FamIDKink-Heilmann3               FamIDKlasen3  \n",
        "                2.618e+01                 -2.429e+01  \n",
        "           FamIDLahtinen3              FamIDLaroche4  \n",
        "               -2.831e+01                  8.050e-01  \n",
        "            FamIDLefebre5               FamIDLennon2  \n",
        "               -2.767e+01                 -4.504e+15  \n",
        "            FamIDLindell2            FamIDLindqvist2  \n",
        "               -2.437e+01                  2.823e+01  \n",
        "              FamIDLines2                 FamIDLobb2  \n",
        "                2.471e+01                 -2.340e+01  \n",
        "              FamIDLouch2               FamIDMadill2  \n",
        "                2.383e+01                  2.414e+01  \n",
        "             FamIDMallet3               FamIDMarvin2  \n",
        "                7.140e-01                 -2.524e+01  \n",
        "              FamIDMcCoy3              FamIDMcNamee2  \n",
        "                3.043e+01                 -2.358e+01  \n",
        "              FamIDMeyer2              FamIDMinahan2  \n",
        "               -1.188e+00                  2.485e+01  \n",
        "            FamIDMinahan3                 FamIDMoor2  \n",
        "               -2.357e+01                  2.595e+01  \n",
        "              FamIDMoran2             FamIDMoubarek3  \n",
        "                3.095e-01                  1.393e+01  \n",
        "             FamIDMurphy2                FamIDNakid3  \n",
        "                2.723e+01                  2.852e+01  \n",
        "             FamIDNasser2               FamIDNatsch2  \n",
        "               -2.532e-01                 -2.146e+01  \n",
        "           FamIDNavratil3               FamIDNewell2  \n",
        "                2.643e+01                  2.878e+01  \n",
        "             FamIDNewell3               FamIDNewsom3  \n",
        "               -2.082e+01                  2.493e+01  \n",
        "           FamIDNicholls3        FamIDNicola-Yarred2  \n",
        "               -1.773e+01                  2.645e+01  \n",
        "            FamIDO'Brien2                FamIDOlsen2  \n",
        "                2.950e+01                 -2.216e+01  \n",
        "            FamIDPalsson5               FamIDPanula6  \n",
        "               -4.936e+01                 -2.862e+01  \n",
        "            FamIDParrish2                FamIDPears2  \n",
        "                3.472e+01                 -9.049e-01  \n",
        "FamIDPenascoy Castellana2              FamIDPersson2  \n",
        "               -1.369e+00                  3.023e+01  \n",
        "              FamIDPeter3            FamIDPetterson2  \n",
        "                2.598e+01                 -2.278e+01  \n",
        "             FamIDPotter2                FamIDQuick3  \n",
        "                2.398e+01                  2.556e+01  \n",
        "             FamIDRenouf4                 FamIDRice6  \n",
        "                2.379e+01                 -2.202e+01  \n",
        "           FamIDRichards3             FamIDRichards6  \n",
        "                2.988e+01                  2.444e+01  \n",
        "             FamIDRobert2               FamIDRobins2  \n",
        "                2.393e+01                 -2.787e+01  \n",
        "            FamIDRosblom3              FamIDRyerson5  \n",
        "               -1.694e+01                  2.468e+01  \n",
        "              FamIDSage11               FamIDSamaan3  \n",
        "               -2.948e+01                 -2.481e+01  \n",
        "          FamIDSandstrom3              FamIDShelley2  \n",
        "                2.597e+01                  2.361e+01  \n",
        "             FamIDSilven3               FamIDSilvey2  \n",
        "                2.797e+01                 -4.461e-01  \n",
        "              FamIDSkoog6                  FamIDSolo  \n",
        "               -2.788e+01                  1.459e+00  \n",
        "            FamIDSpencer2           FamIDStephenson2  \n",
        "                2.281e+01                  2.347e+01  \n",
        "              FamIDStrom2                FamIDStrom3  \n",
        "               -2.698e+01                 -2.850e+01  \n",
        "            FamIDTaussig3               FamIDTaylor2  \n",
        "                2.470e+01                  2.732e+01  \n",
        "             FamIDThayer3               FamIDThomas2  \n",
        "                2.664e+01                  2.664e+01  \n",
        "       FamIDThorneycroft2               FamIDTurpin2  \n",
        "                6.012e-01                 -2.782e+01  \n",
        "        FamIDvanBilliard3         FamIDVanderPlanke2  \n",
        "               -2.289e+01                 -4.026e+02  \n",
        "       FamIDVanderPlanke3              FamIDVanImpe3  \n",
        "               -2.312e+05                 -2.825e+01  \n",
        "             FamIDWarren2                FamIDWeisz2  \n",
        "                2.370e+01                  2.415e+01  \n",
        "              FamIDWells3                 FamIDWest4  \n",
        "                2.545e+01                  1.068e+00  \n",
        "              FamIDWhite2                 FamIDWick3  \n",
        "               -2.411e+01                  2.541e+01  \n",
        "            FamIDWidener3             FamIDWilliams2  \n",
        "               -2.544e+01                 -2.437e+01  \n",
        "             FamIDZabour2                  TitleMiss  \n",
        "               -2.698e+01                 -2.917e+01  \n",
        "                  TitleMr                   TitleMrs  \n",
        "               -2.822e+00                 -2.725e+01  \n",
        "               TitleNoble                    FamSize  \n",
        "               -3.994e+00                         NA  \n",
        "\n",
        "Degrees of Freedom: 713 Total (i.e. Null);  517 Residual\n",
        "Null Deviance:\t    950.9 \n",
        "Residual Deviance: 373.3 \tAIC: 767.3\n"
       ]
      }
     ],
     "prompt_number": 26
    },
    {
     "cell_type": "code",
     "collapsed": false,
     "input": [
      "%%R\n",
      "anova(Titan.logit.2, test=\"Chisq\")"
     ],
     "language": "python",
     "metadata": {},
     "outputs": [
      {
       "metadata": {},
       "output_type": "display_data",
       "text": [
        "Analysis of Deviance Table\n",
        "\n",
        "Model: binomial, link: logit\n",
        "\n",
        "Response: Survived\n",
        "\n",
        "Terms added sequentially (first to last)\n",
        "\n",
        "\n",
        "           Df Deviance Resid. Df Resid. Dev  Pr(>Chi)    \n",
        "NULL                         713     950.86              \n",
        "Sex         1  206.206       712     744.66 < 2.2e-16 ***\n",
        "Pclass      2   77.642       710     667.02 < 2.2e-16 ***\n",
        "Age         1   18.755       709     648.26 1.486e-05 ***\n",
        "SibSp       1    8.977       708     639.29 0.0027343 ** \n",
        "Embarked    2    4.742       706     634.54 0.0933863 .  \n",
        "FareGroup   3    1.034       703     633.51 0.7930468    \n",
        "FamID     182  248.620       521     384.89 0.0007554 ***\n",
        "Title       4   11.591       517     373.30 0.0206677 *  \n",
        "FamSize     0    0.000       517     373.30              \n",
        "---\n",
        "Signif. codes:  0 \u2018***\u2019 0.001 \u2018**\u2019 0.01 \u2018*\u2019 0.05 \u2018.\u2019 0.1 \u2018 \u2019 1\n"
       ]
      }
     ],
     "prompt_number": 27
    },
    {
     "cell_type": "markdown",
     "metadata": {},
     "source": [
      "Looks like FamID and to an extent FareGroup contribute well to the model. Although looking at the extraordinarily high deviance and df for FamID, I am suspicious that this might cause overfitting - meaning we've modeled in extreme based on the training set hence won't generalize very well on new examples. This can be addressed by resampling and hypertuning parameters based on crossvalidation. We essentially split the training set further into train and cv, then hypertune parameters against the cv set. This is repeated multiple times, each with a different sample of train/cv.\n",
      "\n",
      "OK let's proceed to use the train method of the caret package to train a logistic regression model. We'll use one of the most common crossvalidation methods namely the 3x 10-fold CV. That is 10 folds of data to split train and cv repeated 3 times. "
     ]
    },
    {
     "cell_type": "code",
     "collapsed": false,
     "input": [
      "%%R\n",
      "#Define the 3x 10 fold cv control using the traincontrol method of caret.\n",
      "tenfoldcv<-trainControl(method='repeatedcv', number=10, repeats=3)"
     ],
     "language": "python",
     "metadata": {},
     "outputs": [],
     "prompt_number": 28
    },
    {
     "cell_type": "code",
     "collapsed": false,
     "input": [
      "%%R\n",
      "#Train a logistic regression classifier using the train method of the caret package. Everything is same as before except\n",
      "#we use the train function and pass glm as the method.\n",
      "\n",
      "#Install the doSNOW package to leverage multiple cores - parallelization\n",
      "#install.packages(doSNOW)\n",
      "library(doSNOW)\n",
      "\n",
      "#Set 4 below to the number of cores you'd like to run in parallel. I have 4 and using 3 of them!\n",
      "cl <- makeCluster(3, type=\"SOCK\")\n",
      "registerDoSNOW(cl)\n",
      "\n",
      "#Note that I've also added options below to normalize the features (Feature Scaling)\n",
      "set.seed(35) \n",
      "logit.tune1<-train(Survived ~ Sex + Pclass + Age + SibSp + Embarked + FareGroup + FamID + Title,\n",
      "                data=train.set,\n",
      "                method='glm',\n",
      "                preProcess = c(\"center\", \"scale\"),\n",
      "                trControl=tenfoldcv)\n",
      "\n",
      "logit.tune1\n",
      "\n",
      "#May need to install a dependency for caret train\n",
      "#install.packages('e1071', dependencies=TRUE)"
     ],
     "language": "python",
     "metadata": {},
     "outputs": [
      {
       "metadata": {},
       "output_type": "display_data",
       "text": [
        "Generalized Linear Model \n",
        "\n",
        "714 samples\n",
        " 14 predictors\n",
        "  2 classes: '0', '1' \n",
        "\n",
        "Pre-processing: centered, scaled \n",
        "Resampling: Cross-Validated (10 fold, repeated 3 times) \n",
        "\n",
        "Summary of sample sizes: 643, 643, 643, 642, 643, 643, ... \n",
        "\n",
        "Resampling results\n",
        "\n",
        "  Accuracy   Kappa      Accuracy SD  Kappa SD \n",
        "  0.7829812  0.5332698  0.05484398   0.1230111\n",
        "\n",
        " \n"
       ]
      }
     ],
     "prompt_number": 283
    },
    {
     "cell_type": "code",
     "collapsed": false,
     "input": [
      "%%R\n",
      "summary(logit.tune1)"
     ],
     "language": "python",
     "metadata": {},
     "outputs": [
      {
       "metadata": {},
       "output_type": "display_data",
       "text": [
        "\n",
        "Call:\n",
        "NULL\n",
        "\n",
        "Deviance Residuals: \n",
        "     Min        1Q    Median        3Q       Max  \n",
        "-2.28940  -0.43374  -0.00008   0.00010   2.42885  \n",
        "\n",
        "Coefficients: (45 not defined because of singularities)\n",
        "                              Estimate Std. Error z value Pr(>|z|)  \n",
        "(Intercept)                 -6.178e-01  2.122e+02  -0.003   0.9977  \n",
        "Sexmale                     -1.065e+01  3.540e+03  -0.003   0.9976  \n",
        "Pclass2                     -4.784e-01  2.887e-01  -1.657   0.0975 .\n",
        "Pclass3                     -5.451e-01  3.414e-01  -1.597   0.1103  \n",
        "Age                         -3.162e-01  1.743e-01  -1.814   0.0697 .\n",
        "SibSp                        2.275e-01  6.706e-01   0.339   0.7344  \n",
        "EmbarkedQ                    8.080e-02  1.658e-01   0.487   0.6259  \n",
        "EmbarkedS                   -1.214e-01  1.804e-01  -0.673   0.5010  \n",
        "`FareGroup10-20`             2.253e-01  2.610e-01   0.863   0.3880  \n",
        "`FareGroup20-40`             5.179e-01  2.891e-01   1.792   0.0732 .\n",
        "`FareGroup40+`               4.250e-01  2.883e-01   1.474   0.1404  \n",
        "FamIDAbelson2               -6.050e-03  1.922e-01  -0.031   0.9749  \n",
        "FamIDAhlin2                         NA         NA      NA       NA  \n",
        "FamIDAks2                    6.886e-01  4.025e+02   0.002   0.9986  \n",
        "FamIDAllison4               -1.184e+00  3.883e+02  -0.003   0.9976  \n",
        "`FamIDAndersen-Jensen2`      7.532e-01  4.025e+02   0.002   0.9985  \n",
        "FamIDAndersson7             -1.938e-01  2.168e-01  -0.894   0.3714  \n",
        "FamIDAndrews2                7.125e-01  4.025e+02   0.002   0.9986  \n",
        "FamIDAngle2                         NA         NA      NA       NA  \n",
        "FamIDAppleton3               6.236e-01  4.025e+02   0.002   0.9988  \n",
        "`FamIDArnold-Franchi2`      -1.073e+00  3.092e+02  -0.003   0.9972  \n",
        "FamIDAsplund7               -6.470e-02  1.963e-01  -0.330   0.7417  \n",
        "FamIDAstor2                         NA         NA      NA       NA  \n",
        "FamIDBackstrom2             -6.092e-01  4.025e+02  -0.002   0.9988  \n",
        "FamIDBackstrom4              6.570e-01  4.025e+02   0.002   0.9987  \n",
        "FamIDBaclini4                9.648e-01  3.949e+02   0.002   0.9981  \n",
        "FamIDBarbara2               -1.079e+00  3.893e+02  -0.003   0.9978  \n",
        "FamIDBaxter2                -3.612e-02  1.847e-01  -0.195   0.8450  \n",
        "FamIDBeane2                  8.323e-01  4.025e+02   0.002   0.9983  \n",
        "FamIDBecker4                 6.907e-01  4.025e+02   0.002   0.9986  \n",
        "FamIDBeckwith3               1.070e+00  3.166e+02   0.003   0.9973  \n",
        "FamIDBishop2                 5.908e-01  4.025e+02   0.001   0.9988  \n",
        "FamIDBoulos3                -7.514e-01  4.025e+02  -0.002   0.9985  \n",
        "FamIDBourke3                -1.310e+00  3.150e+02  -0.004   0.9967  \n",
        "FamIDBowerman2               6.835e-01  4.025e+02   0.002   0.9986  \n",
        "FamIDBraund2                        NA         NA      NA       NA  \n",
        "FamIDBrown3                  3.510e-02  2.015e-01   0.174   0.8617  \n",
        "FamIDBryhl2                 -6.385e-01  4.025e+02  -0.002   0.9987  \n",
        "FamIDCaldwell3               9.659e-01  3.860e+02   0.003   0.9980  \n",
        "FamIDCaram2                 -8.114e-01  4.025e+02  -0.002   0.9984  \n",
        "FamIDCardeza2                7.973e-01  4.025e+02   0.002   0.9984  \n",
        "FamIDCarter2                -1.066e+00  2.916e+02  -0.004   0.9971  \n",
        "FamIDCarter4                 1.284e+00  3.196e+02   0.004   0.9968  \n",
        "FamIDCavendish2             -6.651e-01  4.025e+02  -0.002   0.9987  \n",
        "FamIDChaffee2                       NA         NA      NA       NA  \n",
        "FamIDChambers2               1.056e+00  3.148e+02   0.003   0.9973  \n",
        "FamIDChapman2                       NA         NA      NA       NA  \n",
        "FamIDChibnall2                      NA         NA      NA       NA  \n",
        "FamIDChristy3                7.147e-01  4.025e+02   0.002   0.9986  \n",
        "FamIDChronopoulos2          -6.247e-01  4.025e+02  -0.002   0.9988  \n",
        "FamIDClark2                         NA         NA      NA       NA  \n",
        "FamIDClarke2                 6.457e-01  4.025e+02   0.002   0.9987  \n",
        "FamIDCollyer3                7.236e-02  2.007e-01   0.361   0.7184  \n",
        "FamIDCompton3                6.806e-01  4.025e+02   0.002   0.9987  \n",
        "FamIDCornell3                       NA         NA      NA       NA  \n",
        "FamIDCoutts3                 7.235e-01  4.025e+02   0.002   0.9986  \n",
        "FamIDCribb2                 -5.903e-01  4.025e+02  -0.001   0.9988  \n",
        "FamIDCrosby3                 4.363e-02  1.757e-01   0.248   0.8038  \n",
        "FamIDCumings2                6.080e-01  4.025e+02   0.002   0.9988  \n",
        "FamIDDanbom3                -1.061e+00  3.096e+02  -0.003   0.9973  \n",
        "FamIDDavidson2              -6.696e-01  4.025e+02  -0.002   0.9987  \n",
        "FamIDDavidson4                      NA         NA      NA       NA  \n",
        "FamIDDavies3                 3.880e-02  1.637e-01   0.237   0.8126  \n",
        "FamIDDavison2                6.632e-01  4.025e+02   0.002   0.9987  \n",
        "FamIDDean4                   3.940e-02  1.691e-01   0.233   0.8157  \n",
        "FamIDdelCarlo2              -6.450e-01  4.025e+02  -0.002   0.9987  \n",
        "FamIDdeMessemaeker2          6.759e-01  4.025e+02   0.002   0.9987  \n",
        "FamIDDick2                   1.058e+00  3.063e+02   0.003   0.9972  \n",
        "FamIDDodge3                  6.729e-01  4.025e+02   0.002   0.9987  \n",
        "FamIDDoling2                 7.164e-01  4.025e+02   0.002   0.9986  \n",
        "FamIDDouglas2               -6.626e-01  4.025e+02  -0.002   0.9987  \n",
        "FamIDDouglas3                       NA         NA      NA       NA  \n",
        "FamIDDrew3                          NA         NA      NA       NA  \n",
        "FamIDDuffGordon2             1.068e+00  3.094e+02   0.003   0.9972  \n",
        "`FamIDDurany More2`          7.320e-01  4.025e+02   0.002   0.9985  \n",
        "FamIDDyker2                         NA         NA      NA       NA  \n",
        "FamIDEarnshaw2                      NA         NA      NA       NA  \n",
        "FamIDElias3                 -6.119e-01  4.025e+02  -0.002   0.9988  \n",
        "FamIDEustis2                 6.942e-01  4.025e+02   0.002   0.9986  \n",
        "FamIDFaunthorpe2             6.466e-01  4.025e+02   0.002   0.9987  \n",
        "FamIDFord5                  -1.315e+00  3.334e+02  -0.004   0.9969  \n",
        "FamIDFortune6               -4.048e-02  2.085e-01  -0.194   0.8460  \n",
        "FamIDFrauenthal2             6.037e-01  4.025e+02   0.001   0.9988  \n",
        "FamIDFrauenthal3             8.479e-01  4.025e+02   0.002   0.9983  \n",
        "FamIDFrolicher3              6.733e-01  4.025e+02   0.002   0.9987  \n",
        "`FamIDFrolicher-Stehli3`     8.109e-01  4.025e+02   0.002   0.9984  \n",
        "FamIDFutrelle2              -3.445e-02  1.937e-01  -0.178   0.8588  \n",
        "FamIDGale2                  -6.303e-01  4.025e+02  -0.002   0.9988  \n",
        "FamIDGibson2                        NA         NA      NA       NA  \n",
        "FamIDGiles2                 -6.164e-01  4.025e+02  -0.002   0.9988  \n",
        "FamIDGoldenberg2             1.065e+00  3.013e+02   0.004   0.9972  \n",
        "FamIDGoldsmith3              6.457e-01  4.025e+02   0.002   0.9987  \n",
        "FamIDGoodwin8               -1.580e+00  3.994e+02  -0.004   0.9968  \n",
        "FamIDGraham2                 6.443e-01  4.025e+02   0.002   0.9987  \n",
        "FamIDGreenfield2             7.856e-01  4.025e+02   0.002   0.9984  \n",
        "FamIDGustafsson3            -8.422e-01  4.018e+02  -0.002   0.9983  \n",
        "FamIDHagland2               -6.182e-01  4.025e+02  -0.002   0.9988  \n",
        "FamIDHakkarainen2                   NA         NA      NA       NA  \n",
        "FamIDHamalainen3             9.970e-01  3.930e+02   0.003   0.9980  \n",
        "FamIDHansen2                -5.936e-01  4.025e+02  -0.001   0.9988  \n",
        "FamIDHansen3                -6.091e-01  4.025e+02  -0.002   0.9988  \n",
        "FamIDHarder2                 7.793e-01  4.025e+02   0.002   0.9985  \n",
        "FamIDHarper2                 2.212e-01  2.270e-01   0.974   0.3300  \n",
        "FamIDHarris2                -2.934e-02  1.980e-01  -0.148   0.8822  \n",
        "FamIDHart3                   8.346e-02  2.031e-01   0.411   0.6811  \n",
        "FamIDHays3                   6.308e-01  4.025e+02   0.002   0.9987  \n",
        "FamIDHerman4                 7.208e-01  4.025e+02   0.002   0.9986  \n",
        "FamIDHickman3               -9.069e-01  4.021e+02  -0.002   0.9982  \n",
        "FamIDHiltunen3                      NA         NA      NA       NA  \n",
        "FamIDHippach2                9.173e-01  3.896e+02   0.002   0.9981  \n",
        "FamIDHirvonen2               7.249e-01  4.025e+02   0.002   0.9986  \n",
        "FamIDHirvonen3                      NA         NA      NA       NA  \n",
        "FamIDHocking4               -6.227e-01  4.025e+02  -0.002   0.9988  \n",
        "FamIDHocking5                       NA         NA      NA       NA  \n",
        "FamIDHogeboom2                      NA         NA      NA       NA  \n",
        "FamIDHold2                  -6.213e-01  4.025e+02  -0.002   0.9988  \n",
        "FamIDHolverson2             -6.597e-01  4.025e+02  -0.002   0.9987  \n",
        "FamIDHoward2                        NA         NA      NA       NA  \n",
        "FamIDHoyt2                   6.154e-01  4.025e+02   0.002   0.9988  \n",
        "FamIDIlmakangas2            -7.058e-01  4.025e+02  -0.002   0.9986  \n",
        "FamIDJacobsohn2             -6.231e-01  4.025e+02  -0.002   0.9988  \n",
        "FamIDJacobsohn4              6.340e-01  4.025e+02   0.002   0.9987  \n",
        "FamIDJefferys3                      NA         NA      NA       NA  \n",
        "FamIDJensen2                -6.017e-01  4.025e+02  -0.001   0.9988  \n",
        "FamIDJohnson3                1.017e+00  3.989e+02   0.003   0.9980  \n",
        "FamIDJohnston4              -7.552e-01  4.025e+02  -0.002   0.9985  \n",
        "FamIDJussila2               -1.003e+00  4.022e+02  -0.002   0.9980  \n",
        "FamIDKantor2                 8.279e-03  1.951e-01   0.042   0.9661  \n",
        "FamIDKarun2                         NA         NA      NA       NA  \n",
        "FamIDKenyon2                 6.037e-01  4.025e+02   0.001   0.9988  \n",
        "FamIDKhalil2                        NA         NA      NA       NA  \n",
        "FamIDKiernan2               -6.183e-01  4.025e+02  -0.002   0.9988  \n",
        "FamIDKimball2                8.048e-01  4.025e+02   0.002   0.9984  \n",
        "FamIDKink3                  -6.017e-01  4.025e+02  -0.001   0.9988  \n",
        "`FamIDKink-Heilmann3`        7.011e-01  4.025e+02   0.002   0.9986  \n",
        "`FamIDKink-Heilmann5`               NA         NA      NA       NA  \n",
        "FamIDKlasen3                -6.008e-01  4.025e+02  -0.001   0.9988  \n",
        "FamIDLahtinen3              -8.206e-01  4.025e+02  -0.002   0.9984  \n",
        "FamIDLaroche4                5.211e-02  2.064e-01   0.252   0.8007  \n",
        "FamIDLefebre5               -1.330e+00  3.994e+02  -0.003   0.9973  \n",
        "FamIDLennon2                -6.393e-01  4.025e+02  -0.002   0.9987  \n",
        "FamIDLindell2               -6.056e-01  4.025e+02  -0.002   0.9988  \n",
        "FamIDLindqvist2              8.655e-01  4.025e+02   0.002   0.9983  \n",
        "FamIDLines2                  6.710e-01  4.025e+02   0.002   0.9987  \n",
        "FamIDLobb2                  -6.110e-01  4.025e+02  -0.002   0.9988  \n",
        "FamIDLouch2                  6.583e-01  4.025e+02   0.002   0.9987  \n",
        "FamIDMadill2                 6.771e-01  4.025e+02   0.002   0.9987  \n",
        "FamIDMallet3                 3.776e-02  1.753e-01   0.215   0.8294  \n",
        "FamIDMarvin2                -6.804e-01  4.025e+02  -0.002   0.9987  \n",
        "FamIDMcCoy3                  1.063e+00  3.296e+02   0.003   0.9974  \n",
        "FamIDMcNamee2               -6.164e-01  4.025e+02  -0.002   0.9988  \n",
        "FamIDMellinger2                     NA         NA      NA       NA  \n",
        "FamIDMeyer2                 -6.282e-02  1.958e-01  -0.321   0.7484  \n",
        "FamIDMinahan2                6.642e-01  4.025e+02   0.002   0.9987  \n",
        "FamIDMinahan3               -6.432e-01  4.025e+02  -0.002   0.9987  \n",
        "FamIDMock2                          NA         NA      NA       NA  \n",
        "FamIDMoor2                   1.008e+00  3.892e+02   0.003   0.9979  \n",
        "FamIDMoran2                  1.637e-02  1.617e-01   0.101   0.9193  \n",
        "FamIDMoubarek3               1.032e+00  4.022e+02   0.003   0.9980  \n",
        "FamIDMurphy2                 7.138e-01  4.025e+02   0.002   0.9986  \n",
        "FamIDNakid3                  1.121e+00  3.216e+02   0.003   0.9972  \n",
        "FamIDNasser2                -1.339e-02  2.015e-01  -0.066   0.9470  \n",
        "FamIDNatsch2                -6.733e-01  4.025e+02  -0.002   0.9987  \n",
        "FamIDNavratil3               7.005e-01  4.025e+02   0.002   0.9986  \n",
        "FamIDNewell2                 9.467e-01  4.019e+02   0.002   0.9981  \n",
        "FamIDNewell3                -6.473e-01  4.025e+02  -0.002   0.9987  \n",
        "FamIDNewsom3                 6.737e-01  4.025e+02   0.002   0.9987  \n",
        "FamIDNicholls3              -6.439e-01  4.025e+02  -0.002   0.9987  \n",
        "`FamIDNicola-Yarred2`        1.016e+00  3.995e+02   0.003   0.9980  \n",
        "`FamIDO'Brien2`              6.421e-01  4.025e+02   0.002   0.9987  \n",
        "FamIDOlsen2                 -5.711e-01  4.025e+02  -0.001   0.9989  \n",
        "FamIDOstby2                         NA         NA      NA       NA  \n",
        "FamIDPalsson5               -1.583e+00  3.966e+02  -0.004   0.9968  \n",
        "FamIDPanula6                -1.702e+00  3.394e+02  -0.005   0.9960  \n",
        "FamIDParrish2                6.736e-01  4.025e+02   0.002   0.9987  \n",
        "FamIDPeacock3                       NA         NA      NA       NA  \n",
        "FamIDPears2                 -4.786e-02  1.964e-01  -0.244   0.8074  \n",
        "`FamIDPenascoy Castellana2` -7.240e-02  1.934e-01  -0.374   0.7082  \n",
        "FamIDPersson2                8.700e-01  4.025e+02   0.002   0.9983  \n",
        "FamIDPeter3                  9.555e-01  3.847e+02   0.002   0.9980  \n",
        "FamIDPetterson2             -5.945e-01  4.025e+02  -0.001   0.9988  \n",
        "FamIDPhillips2                      NA         NA      NA       NA  \n",
        "FamIDPotter2                 6.323e-01  4.025e+02   0.002   0.9987  \n",
        "FamIDQuick3                  6.939e-01  4.025e+02   0.002   0.9986  \n",
        "FamIDRenouf2                        NA         NA      NA       NA  \n",
        "FamIDRenouf4                 6.314e-01  4.025e+02   0.002   0.9987  \n",
        "FamIDRice6                  -1.813e+00  4.006e+02  -0.005   0.9964  \n",
        "FamIDRichards3               7.262e-01  4.025e+02   0.002   0.9986  \n",
        "FamIDRichards6               6.597e-01  4.025e+02   0.002   0.9987  \n",
        "FamIDRobert2                 6.307e-01  4.025e+02   0.002   0.9987  \n",
        "FamIDRobins2                -7.787e-01  4.025e+02  -0.002   0.9985  \n",
        "FamIDRosblom3               -1.074e+00  3.243e+02  -0.003   0.9974  \n",
        "FamIDRothschild2                    NA         NA      NA       NA  \n",
        "FamIDRyerson5                6.536e-01  4.025e+02   0.002   0.9987  \n",
        "FamIDSage11                 -1.755e+00  3.590e+02  -0.005   0.9961  \n",
        "FamIDSamaan3                -6.621e-01  4.025e+02  -0.002   0.9987  \n",
        "FamIDSandstrom3              9.897e-01  3.910e+02   0.003   0.9980  \n",
        "FamIDSchabert2                      NA         NA      NA       NA  \n",
        "FamIDShelley2                6.510e-01  4.025e+02   0.002   0.9987  \n",
        "FamIDSilven3                 7.421e-01  4.025e+02   0.002   0.9985  \n",
        "FamIDSilvey2                -2.359e-02  1.986e-01  -0.119   0.9055  \n",
        "FamIDSkoog6                 -1.722e+00  3.458e+02  -0.005   0.9960  \n",
        "FamIDSmith2                         NA         NA      NA       NA  \n",
        "FamIDSnyder2                        NA         NA      NA       NA  \n",
        "FamIDSolo                    7.131e-01  1.282e+00   0.556   0.5781  \n",
        "FamIDSpedden3                       NA         NA      NA       NA  \n",
        "FamIDSpencer2                5.935e-01  4.025e+02   0.001   0.9988  \n",
        "FamIDStengel2                       NA         NA      NA       NA  \n",
        "FamIDStephenson2             6.207e-01  4.025e+02   0.002   0.9988  \n",
        "FamIDStraus2                        NA         NA      NA       NA  \n",
        "FamIDStrom2                 -7.396e-01  4.025e+02  -0.002   0.9985  \n",
        "FamIDStrom3                 -7.949e-01  4.025e+02  -0.002   0.9984  \n",
        "FamIDTaussig3                9.287e-01  3.840e+02   0.002   0.9981  \n",
        "FamIDTaylor2                 1.078e+00  3.017e+02   0.004   0.9971  \n",
        "FamIDThayer3                 1.042e+00  3.205e+02   0.003   0.9974  \n",
        "FamIDThomas2                 7.401e-01  4.025e+02   0.002   0.9985  \n",
        "FamIDThomas3                        NA         NA      NA       NA  \n",
        "FamIDThorneycroft2           3.180e-02  1.904e-01   0.167   0.8674  \n",
        "FamIDTouma3                         NA         NA      NA       NA  \n",
        "FamIDTurpin2                -1.095e+00  3.113e+02  -0.004   0.9972  \n",
        "FamIDvanBilliard3           -5.934e-01  4.025e+02  -0.001   0.9988  \n",
        "FamIDVanderPlanke2          -7.931e-01  4.025e+02  -0.002   0.9984  \n",
        "FamIDVanderPlanke3          -9.929e-01  3.306e+02  -0.003   0.9976  \n",
        "FamIDVanderPlanke4                  NA         NA      NA       NA  \n",
        "FamIDVanImpe3               -1.126e+00  3.838e+02  -0.003   0.9977  \n",
        "FamIDWare2                          NA         NA      NA       NA  \n",
        "FamIDWarren2                 6.279e-01  4.025e+02   0.002   0.9988  \n",
        "FamIDWeisz2                  6.466e-01  4.025e+02   0.002   0.9987  \n",
        "FamIDWells3                  6.957e-01  4.025e+02   0.002   0.9986  \n",
        "FamIDWest4                   6.913e-02  2.036e-01   0.340   0.7341  \n",
        "FamIDWhite2                 -6.408e-01  4.025e+02  -0.002   0.9987  \n",
        "FamIDWick3                   6.916e-01  4.025e+02   0.002   0.9986  \n",
        "FamIDWidener3               -6.753e-01  4.025e+02  -0.002   0.9987  \n",
        "FamIDWiklund2                       NA         NA      NA       NA  \n",
        "FamIDWilkes2                        NA         NA      NA       NA  \n",
        "FamIDWilliams2              -6.536e-01  4.025e+02  -0.002   0.9987  \n",
        "FamIDYasbeck2                       NA         NA      NA       NA  \n",
        "FamIDZabour2                -7.397e-01  4.025e+02  -0.002   0.9985  \n",
        "TitleMiss                   -8.997e+00  3.011e+03  -0.003   0.9976  \n",
        "TitleMr                     -1.393e+00  7.860e-01  -1.772   0.0764 .\n",
        "TitleMrs                    -7.105e+00  2.603e+03  -0.003   0.9978  \n",
        "TitleNoble                  -5.542e-01  2.803e-01  -1.977   0.0480 *\n",
        "---\n",
        "Signif. codes:  0 \u2018***\u2019 0.001 \u2018**\u2019 0.01 \u2018*\u2019 0.05 \u2018.\u2019 0.1 \u2018 \u2019 1\n",
        "\n",
        "(Dispersion parameter for binomial family taken to be 1)\n",
        "\n",
        "    Null deviance: 950.86  on 713  degrees of freedom\n",
        "Residual deviance: 373.30  on 517  degrees of freedom\n",
        "AIC: 767.3\n",
        "\n",
        "Number of Fisher Scoring iterations: 18\n",
        "\n"
       ]
      }
     ],
     "prompt_number": 284
    },
    {
     "cell_type": "markdown",
     "metadata": {},
     "source": [
      "Okay looks like we're doing (un)reasonably well. Let's try a couple of interesting ideas. **Class Compression** refers to collapsing some levels on a categorical variable. In layman terms, making a factor two-level. So for instance, we have Embarked, most of which has the value 'S' as we saw earlier. We can use the I() function when training to shrink this to S or otherwise. Let's do that."
     ]
    },
    {
     "cell_type": "code",
     "collapsed": false,
     "input": [
      "%%R\n",
      "#Let's set class compression on Embarked to 'S' or otherwise.\n",
      "set.seed(35) \n",
      "\n",
      "logit.tune2<-train(Survived ~ Sex + Pclass + Age + SibSp + I(Embarked=='S') + FareGroup + FamID + Title,\n",
      "                data=train.set,\n",
      "                method='glm',\n",
      "                preProcess = c(\"center\", \"scale\"),\n",
      "                trControl=tenfoldcv)\n",
      "\n",
      "logit.tune2\n"
     ],
     "language": "python",
     "metadata": {},
     "outputs": [
      {
       "metadata": {},
       "output_type": "display_data",
       "text": [
        "Generalized Linear Model \n",
        "\n",
        "714 samples\n",
        " 14 predictors\n",
        "  2 classes: '0', '1' \n",
        "\n",
        "Pre-processing: centered, scaled \n",
        "Resampling: Cross-Validated (10 fold, repeated 3 times) \n",
        "\n",
        "Summary of sample sizes: 643, 643, 643, 642, 643, 643, ... \n",
        "\n",
        "Resampling results\n",
        "\n",
        "  Accuracy   Kappa    Accuracy SD  Kappa SD \n",
        "  0.7820488  0.53063  0.05507752   0.1240941\n",
        "\n",
        " \n"
       ]
      }
     ],
     "prompt_number": 285
    },
    {
     "cell_type": "code",
     "collapsed": false,
     "input": [
      "%%R\n",
      "summary(logit.tune2)"
     ],
     "language": "python",
     "metadata": {},
     "outputs": [
      {
       "metadata": {},
       "output_type": "display_data",
       "text": [
        "\n",
        "Call:\n",
        "NULL\n",
        "\n",
        "Deviance Residuals: \n",
        "     Min        1Q    Median        3Q       Max  \n",
        "-2.34231  -0.43582  -0.00008   0.00010   2.42395  \n",
        "\n",
        "Coefficients: (45 not defined because of singularities)\n",
        "                              Estimate Std. Error z value Pr(>|z|)  \n",
        "(Intercept)                 -6.156e-01  2.122e+02  -0.003   0.9977  \n",
        "Sexmale                     -1.065e+01  3.548e+03  -0.003   0.9976  \n",
        "Pclass2                     -4.596e-01  2.869e-01  -1.602   0.1092  \n",
        "Pclass3                     -5.264e-01  3.407e-01  -1.545   0.1223  \n",
        "Age                         -3.148e-01  1.749e-01  -1.800   0.0718 .\n",
        "SibSp                        2.230e-01  6.716e-01   0.332   0.7398  \n",
        "`I(Embarked == \"S\")TRUE`    -1.728e-01  1.444e-01  -1.197   0.2315  \n",
        "`FareGroup10-20`             2.101e-01  2.593e-01   0.810   0.4177  \n",
        "`FareGroup20-40`             5.142e-01  2.900e-01   1.773   0.0762 .\n",
        "`FareGroup40+`               4.068e-01  2.876e-01   1.415   0.1572  \n",
        "FamIDAbelson2               -1.258e-02  1.918e-01  -0.066   0.9477  \n",
        "FamIDAhlin2                         NA         NA      NA       NA  \n",
        "FamIDAks2                    6.882e-01  4.025e+02   0.002   0.9986  \n",
        "FamIDAllison4               -1.181e+00  3.885e+02  -0.003   0.9976  \n",
        "`FamIDAndersen-Jensen2`      7.511e-01  4.025e+02   0.002   0.9985  \n",
        "FamIDAndersson7             -1.949e-01  2.170e-01  -0.898   0.3690  \n",
        "FamIDAndrews2                7.132e-01  4.025e+02   0.002   0.9986  \n",
        "FamIDAngle2                         NA         NA      NA       NA  \n",
        "FamIDAppleton3               6.264e-01  4.025e+02   0.002   0.9988  \n",
        "`FamIDArnold-Franchi2`      -1.072e+00  3.092e+02  -0.003   0.9972  \n",
        "FamIDAsplund7               -6.467e-02  1.965e-01  -0.329   0.7421  \n",
        "FamIDAstor2                         NA         NA      NA       NA  \n",
        "FamIDBackstrom2             -6.081e-01  4.025e+02  -0.002   0.9988  \n",
        "FamIDBackstrom4              6.584e-01  4.025e+02   0.002   0.9987  \n",
        "FamIDBaclini4                9.586e-01  3.950e+02   0.002   0.9981  \n",
        "FamIDBarbara2               -1.085e+00  3.895e+02  -0.003   0.9978  \n",
        "FamIDBaxter2                -3.857e-02  1.849e-01  -0.209   0.8347  \n",
        "FamIDBeane2                  8.320e-01  4.025e+02   0.002   0.9984  \n",
        "FamIDBecker4                 6.901e-01  4.025e+02   0.002   0.9986  \n",
        "FamIDBeckwith3               1.073e+00  3.164e+02   0.003   0.9973  \n",
        "FamIDBishop2                 5.893e-01  4.025e+02   0.001   0.9988  \n",
        "FamIDBoulos3                -7.564e-01  4.025e+02  -0.002   0.9985  \n",
        "FamIDBourke3                -1.297e+00  3.146e+02  -0.004   0.9967  \n",
        "FamIDBowerman2               6.842e-01  4.025e+02   0.002   0.9986  \n",
        "FamIDBraund2                        NA         NA      NA       NA  \n",
        "FamIDBrown3                  3.452e-02  2.015e-01   0.171   0.8640  \n",
        "FamIDBryhl2                 -6.388e-01  4.025e+02  -0.002   0.9987  \n",
        "FamIDCaldwell3               9.648e-01  3.862e+02   0.002   0.9980  \n",
        "FamIDCaram2                 -8.146e-01  4.025e+02  -0.002   0.9984  \n",
        "FamIDCardeza2                7.956e-01  4.025e+02   0.002   0.9984  \n",
        "FamIDCarter2                -1.067e+00  2.919e+02  -0.004   0.9971  \n",
        "FamIDCarter4                 1.289e+00  3.194e+02   0.004   0.9968  \n",
        "FamIDCavendish2             -6.623e-01  4.025e+02  -0.002   0.9987  \n",
        "FamIDChaffee2                       NA         NA      NA       NA  \n",
        "FamIDChambers2               1.060e+00  3.146e+02   0.003   0.9973  \n",
        "FamIDChapman2                       NA         NA      NA       NA  \n",
        "FamIDChibnall2                      NA         NA      NA       NA  \n",
        "FamIDChristy3                7.125e-01  4.025e+02   0.002   0.9986  \n",
        "FamIDChronopoulos2          -6.279e-01  4.025e+02  -0.002   0.9988  \n",
        "FamIDClark2                         NA         NA      NA       NA  \n",
        "FamIDClarke2                 6.453e-01  4.025e+02   0.002   0.9987  \n",
        "FamIDCollyer3                7.044e-02  2.012e-01   0.350   0.7262  \n",
        "FamIDCompton3                6.772e-01  4.025e+02   0.002   0.9987  \n",
        "FamIDCornell3                       NA         NA      NA       NA  \n",
        "FamIDCoutts3                 7.242e-01  4.025e+02   0.002   0.9986  \n",
        "FamIDCribb2                 -5.894e-01  4.025e+02  -0.001   0.9988  \n",
        "FamIDCrosby3                 4.598e-02  1.763e-01   0.261   0.7943  \n",
        "FamIDCumings2                6.064e-01  4.025e+02   0.002   0.9988  \n",
        "FamIDDanbom3                -1.059e+00  3.096e+02  -0.003   0.9973  \n",
        "FamIDDavidson2              -6.668e-01  4.025e+02  -0.002   0.9987  \n",
        "FamIDDavidson4                      NA         NA      NA       NA  \n",
        "FamIDDavies3                 3.841e-02  1.639e-01   0.234   0.8148  \n",
        "FamIDDavison2                6.643e-01  4.025e+02   0.002   0.9987  \n",
        "FamIDDean4                   3.913e-02  1.693e-01   0.231   0.8172  \n",
        "FamIDdelCarlo2              -6.496e-01  4.025e+02  -0.002   0.9987  \n",
        "FamIDdeMessemaeker2          6.769e-01  4.025e+02   0.002   0.9987  \n",
        "FamIDDick2                   1.062e+00  3.064e+02   0.003   0.9972  \n",
        "FamIDDodge3                  6.751e-01  4.025e+02   0.002   0.9987  \n",
        "FamIDDoling2                 7.141e-01  4.025e+02   0.002   0.9986  \n",
        "FamIDDouglas2               -6.642e-01  4.025e+02  -0.002   0.9987  \n",
        "FamIDDouglas3                       NA         NA      NA       NA  \n",
        "FamIDDrew3                          NA         NA      NA       NA  \n",
        "FamIDDuffGordon2             1.065e+00  3.082e+02   0.003   0.9972  \n",
        "`FamIDDurany More2`          7.266e-01  4.025e+02   0.002   0.9986  \n",
        "FamIDDyker2                         NA         NA      NA       NA  \n",
        "FamIDEarnshaw2                      NA         NA      NA       NA  \n",
        "FamIDElias3                 -6.165e-01  4.025e+02  -0.002   0.9988  \n",
        "FamIDEustis2                 6.907e-01  4.025e+02   0.002   0.9986  \n",
        "FamIDFaunthorpe2             6.462e-01  4.025e+02   0.002   0.9987  \n",
        "FamIDFord5                  -1.315e+00  3.326e+02  -0.004   0.9968  \n",
        "FamIDFortune6               -3.674e-02  2.089e-01  -0.176   0.8604  \n",
        "FamIDFrauenthal2             6.064e-01  4.025e+02   0.002   0.9988  \n",
        "FamIDFrauenthal3             8.513e-01  4.025e+02   0.002   0.9983  \n",
        "FamIDFrolicher3              6.698e-01  4.025e+02   0.002   0.9987  \n",
        "`FamIDFrolicher-Stehli3`     8.093e-01  4.025e+02   0.002   0.9984  \n",
        "FamIDFutrelle2              -3.060e-02  1.936e-01  -0.158   0.8744  \n",
        "FamIDGale2                  -6.307e-01  4.025e+02  -0.002   0.9987  \n",
        "FamIDGibson2                        NA         NA      NA       NA  \n",
        "FamIDGiles2                 -6.156e-01  4.025e+02  -0.002   0.9988  \n",
        "FamIDGoldenberg2             1.063e+00  3.015e+02   0.004   0.9972  \n",
        "FamIDGoldsmith3              6.456e-01  4.025e+02   0.002   0.9987  \n",
        "FamIDGoodwin8               -1.578e+00  3.993e+02  -0.004   0.9968  \n",
        "FamIDGraham2                 6.467e-01  4.025e+02   0.002   0.9987  \n",
        "FamIDGreenfield2             7.839e-01  4.025e+02   0.002   0.9984  \n",
        "FamIDGustafsson3            -8.424e-01  4.018e+02  -0.002   0.9983  \n",
        "FamIDHagland2               -6.171e-01  4.025e+02  -0.002   0.9988  \n",
        "FamIDHakkarainen2                   NA         NA      NA       NA  \n",
        "FamIDHamalainen3             9.976e-01  3.930e+02   0.003   0.9980  \n",
        "FamIDHansen2                -5.939e-01  4.025e+02  -0.001   0.9988  \n",
        "FamIDHansen3                -6.079e-01  4.025e+02  -0.002   0.9988  \n",
        "FamIDHarder2                 7.778e-01  4.025e+02   0.002   0.9985  \n",
        "FamIDHarper2                 2.196e-01  2.276e-01   0.965   0.3347  \n",
        "FamIDHarris2                -2.551e-02  1.979e-01  -0.129   0.8974  \n",
        "FamIDHart3                   8.158e-02  2.036e-01   0.401   0.6886  \n",
        "FamIDHays3                   6.334e-01  4.025e+02   0.002   0.9987  \n",
        "FamIDHerman4                 7.200e-01  4.025e+02   0.002   0.9986  \n",
        "FamIDHickman3               -9.052e-01  4.021e+02  -0.002   0.9982  \n",
        "FamIDHiltunen3                      NA         NA      NA       NA  \n",
        "FamIDHippach2                9.129e-01  3.897e+02   0.002   0.9981  \n",
        "FamIDHirvonen2               7.241e-01  4.025e+02   0.002   0.9986  \n",
        "FamIDHirvonen3                      NA         NA      NA       NA  \n",
        "FamIDHocking4               -6.217e-01  4.025e+02  -0.002   0.9988  \n",
        "FamIDHocking5                       NA         NA      NA       NA  \n",
        "FamIDHogeboom2                      NA         NA      NA       NA  \n",
        "FamIDHold2                  -6.217e-01  4.025e+02  -0.002   0.9988  \n",
        "FamIDHolverson2             -6.569e-01  4.025e+02  -0.002   0.9987  \n",
        "FamIDHoward2                        NA         NA      NA       NA  \n",
        "FamIDHoyt2                   6.181e-01  4.025e+02   0.002   0.9988  \n",
        "FamIDIlmakangas2            -7.080e-01  4.025e+02  -0.002   0.9986  \n",
        "FamIDJacobsohn2             -6.235e-01  4.025e+02  -0.002   0.9988  \n",
        "FamIDJacobsohn4              6.338e-01  4.025e+02   0.002   0.9987  \n",
        "FamIDJefferys3                      NA         NA      NA       NA  \n",
        "FamIDJensen2                -6.020e-01  4.025e+02  -0.001   0.9988  \n",
        "FamIDJohnson3                1.017e+00  3.987e+02   0.003   0.9980  \n",
        "FamIDJohnston4              -7.571e-01  4.025e+02  -0.002   0.9985  \n",
        "FamIDJussila2               -1.006e+00  4.022e+02  -0.003   0.9980  \n",
        "FamIDKantor2                 7.818e-03  1.951e-01   0.040   0.9680  \n",
        "FamIDKarun2                         NA         NA      NA       NA  \n",
        "FamIDKenyon2                 6.064e-01  4.025e+02   0.002   0.9988  \n",
        "FamIDKhalil2                        NA         NA      NA       NA  \n",
        "FamIDKiernan2               -6.120e-01  4.025e+02  -0.002   0.9988  \n",
        "FamIDKimball2                8.075e-01  4.025e+02   0.002   0.9984  \n",
        "FamIDKink3                  -6.018e-01  4.025e+02  -0.001   0.9988  \n",
        "`FamIDKink-Heilmann3`        6.991e-01  4.025e+02   0.002   0.9986  \n",
        "`FamIDKink-Heilmann5`               NA         NA      NA       NA  \n",
        "FamIDKlasen3                -6.011e-01  4.025e+02  -0.001   0.9988  \n",
        "FamIDLahtinen3              -8.210e-01  4.025e+02  -0.002   0.9984  \n",
        "FamIDLaroche4                4.529e-02  2.065e-01   0.219   0.8264  \n",
        "FamIDLefebre5               -1.332e+00  3.992e+02  -0.003   0.9973  \n",
        "FamIDLennon2                -6.315e-01  4.025e+02  -0.002   0.9987  \n",
        "FamIDLindell2               -6.045e-01  4.025e+02  -0.002   0.9988  \n",
        "FamIDLindqvist2              8.652e-01  4.025e+02   0.002   0.9983  \n",
        "FamIDLines2                  6.704e-01  4.025e+02   0.002   0.9987  \n",
        "FamIDLobb2                  -6.099e-01  4.025e+02  -0.002   0.9988  \n",
        "FamIDLouch2                  6.579e-01  4.025e+02   0.002   0.9987  \n",
        "FamIDMadill2                 6.779e-01  4.025e+02   0.002   0.9987  \n",
        "FamIDMallet3                 3.085e-02  1.749e-01   0.176   0.8600  \n",
        "FamIDMarvin2                -6.776e-01  4.025e+02  -0.002   0.9987  \n",
        "FamIDMcCoy3                  1.072e+00  3.278e+02   0.003   0.9974  \n",
        "FamIDMcNamee2               -6.153e-01  4.025e+02  -0.002   0.9988  \n",
        "FamIDMellinger2                     NA         NA      NA       NA  \n",
        "FamIDMeyer2                 -6.498e-02  1.959e-01  -0.332   0.7401  \n",
        "FamIDMinahan2                6.718e-01  4.025e+02   0.002   0.9987  \n",
        "FamIDMinahan3               -6.330e-01  4.025e+02  -0.002   0.9987  \n",
        "FamIDMock2                          NA         NA      NA       NA  \n",
        "FamIDMoor2                   1.008e+00  3.893e+02   0.003   0.9979  \n",
        "FamIDMoran2                  2.453e-02  1.613e-01   0.152   0.8791  \n",
        "FamIDMoubarek3               1.027e+00  4.022e+02   0.003   0.9980  \n",
        "FamIDMurphy2                 7.197e-01  4.025e+02   0.002   0.9986  \n",
        "FamIDNakid3                  1.116e+00  3.201e+02   0.003   0.9972  \n",
        "FamIDNasser2                -1.989e-02  2.010e-01  -0.099   0.9212  \n",
        "FamIDNatsch2                -6.764e-01  4.025e+02  -0.002   0.9987  \n",
        "FamIDNavratil3               6.998e-01  4.025e+02   0.002   0.9986  \n",
        "FamIDNewell2                 9.419e-01  4.019e+02   0.002   0.9981  \n",
        "FamIDNewell3                -6.491e-01  4.025e+02  -0.002   0.9987  \n",
        "FamIDNewsom3                 6.731e-01  4.025e+02   0.002   0.9987  \n",
        "FamIDNicholls3              -6.442e-01  4.025e+02  -0.002   0.9987  \n",
        "`FamIDNicola-Yarred2`        1.010e+00  3.993e+02   0.003   0.9980  \n",
        "`FamIDO'Brien2`              6.498e-01  4.025e+02   0.002   0.9987  \n",
        "FamIDOlsen2                 -5.716e-01  4.025e+02  -0.001   0.9989  \n",
        "FamIDOstby2                         NA         NA      NA       NA  \n",
        "FamIDPalsson5               -1.585e+00  3.966e+02  -0.004   0.9968  \n",
        "FamIDPanula6                -1.702e+00  3.386e+02  -0.005   0.9960  \n",
        "FamIDParrish2                6.730e-01  4.025e+02   0.002   0.9987  \n",
        "FamIDPeacock3                       NA         NA      NA       NA  \n",
        "FamIDPears2                 -4.395e-02  1.963e-01  -0.224   0.8228  \n",
        "`FamIDPenascoy Castellana2` -7.452e-02  1.935e-01  -0.385   0.7001  \n",
        "FamIDPersson2                8.697e-01  4.025e+02   0.002   0.9983  \n",
        "FamIDPeter3                  9.473e-01  3.850e+02   0.002   0.9980  \n",
        "FamIDPetterson2             -5.948e-01  4.025e+02  -0.001   0.9988  \n",
        "FamIDPhillips2                      NA         NA      NA       NA  \n",
        "FamIDPotter2                 6.305e-01  4.025e+02   0.002   0.9988  \n",
        "FamIDQuick3                  6.918e-01  4.025e+02   0.002   0.9986  \n",
        "FamIDRenouf2                        NA         NA      NA       NA  \n",
        "FamIDRenouf4                 6.313e-01  4.025e+02   0.002   0.9987  \n",
        "FamIDRice6                  -1.799e+00  4.005e+02  -0.004   0.9964  \n",
        "FamIDRichards3               7.265e-01  4.025e+02   0.002   0.9986  \n",
        "FamIDRichards6               6.606e-01  4.025e+02   0.002   0.9987  \n",
        "FamIDRobert2                 6.332e-01  4.025e+02   0.002   0.9987  \n",
        "FamIDRobins2                -7.777e-01  4.025e+02  -0.002   0.9985  \n",
        "FamIDRosblom3               -1.075e+00  3.238e+02  -0.003   0.9974  \n",
        "FamIDRothschild2                    NA         NA      NA       NA  \n",
        "FamIDRyerson5                6.504e-01  4.025e+02   0.002   0.9987  \n",
        "FamIDSage11                 -1.752e+00  3.578e+02  -0.005   0.9961  \n",
        "FamIDSamaan3                -6.662e-01  4.025e+02  -0.002   0.9987  \n",
        "FamIDSandstrom3              9.893e-01  3.912e+02   0.003   0.9980  \n",
        "FamIDSchabert2                      NA         NA      NA       NA  \n",
        "FamIDShelley2                6.505e-01  4.025e+02   0.002   0.9987  \n",
        "FamIDSilven3                 7.408e-01  4.025e+02   0.002   0.9985  \n",
        "FamIDSilvey2                -1.979e-02  1.986e-01  -0.100   0.9206  \n",
        "FamIDSkoog6                 -1.723e+00  3.454e+02  -0.005   0.9960  \n",
        "FamIDSmith2                         NA         NA      NA       NA  \n",
        "FamIDSnyder2                        NA         NA      NA       NA  \n",
        "FamIDSolo                    7.121e-01  1.284e+00   0.555   0.5791  \n",
        "FamIDSpedden3                       NA         NA      NA       NA  \n",
        "FamIDSpencer2                5.920e-01  4.025e+02   0.001   0.9988  \n",
        "FamIDStengel2                       NA         NA      NA       NA  \n",
        "FamIDStephenson2             6.190e-01  4.025e+02   0.002   0.9988  \n",
        "FamIDStraus2                        NA         NA      NA       NA  \n",
        "FamIDStrom2                 -7.404e-01  4.025e+02  -0.002   0.9985  \n",
        "FamIDStrom3                 -7.939e-01  4.025e+02  -0.002   0.9984  \n",
        "FamIDTaussig3                9.304e-01  3.843e+02   0.002   0.9981  \n",
        "FamIDTaylor2                 1.082e+00  3.019e+02   0.004   0.9971  \n",
        "FamIDThayer3                 1.040e+00  3.203e+02   0.003   0.9974  \n",
        "FamIDThomas2                 7.349e-01  4.025e+02   0.002   0.9985  \n",
        "FamIDThomas3                        NA         NA      NA       NA  \n",
        "FamIDThorneycroft2           3.334e-02  1.905e-01   0.175   0.8611  \n",
        "FamIDTouma3                         NA         NA      NA       NA  \n",
        "FamIDTurpin2                -1.096e+00  3.112e+02  -0.004   0.9972  \n",
        "FamIDvanBilliard3           -5.926e-01  4.025e+02  -0.001   0.9988  \n",
        "FamIDVanderPlanke2          -7.921e-01  4.025e+02  -0.002   0.9984  \n",
        "FamIDVanderPlanke3          -9.930e-01  3.288e+02  -0.003   0.9976  \n",
        "FamIDVanderPlanke4                  NA         NA      NA       NA  \n",
        "FamIDVanImpe3               -1.127e+00  3.840e+02  -0.003   0.9977  \n",
        "FamIDWare2                          NA         NA      NA       NA  \n",
        "FamIDWarren2                 6.262e-01  4.025e+02   0.002   0.9988  \n",
        "FamIDWeisz2                  6.462e-01  4.025e+02   0.002   0.9987  \n",
        "FamIDWells3                  6.936e-01  4.025e+02   0.002   0.9986  \n",
        "FamIDWest4                   6.739e-02  2.041e-01   0.330   0.7412  \n",
        "FamIDWhite2                 -6.383e-01  4.025e+02  -0.002   0.9987  \n",
        "FamIDWick3                   6.923e-01  4.025e+02   0.002   0.9986  \n",
        "FamIDWidener3               -6.770e-01  4.025e+02  -0.002   0.9987  \n",
        "FamIDWiklund2                       NA         NA      NA       NA  \n",
        "FamIDWilkes2                        NA         NA      NA       NA  \n",
        "FamIDWilliams2              -6.554e-01  4.025e+02  -0.002   0.9987  \n",
        "FamIDYasbeck2                       NA         NA      NA       NA  \n",
        "FamIDZabour2                -7.448e-01  4.025e+02  -0.002   0.9985  \n",
        "TitleMiss                   -8.980e+00  3.017e+03  -0.003   0.9976  \n",
        "TitleMr                     -1.399e+00  7.872e-01  -1.778   0.0755 .\n",
        "TitleMrs                    -7.107e+00  2.608e+03  -0.003   0.9978  \n",
        "TitleNoble                  -5.585e-01  2.807e-01  -1.989   0.0467 *\n",
        "---\n",
        "Signif. codes:  0 \u2018***\u2019 0.001 \u2018**\u2019 0.01 \u2018*\u2019 0.05 \u2018.\u2019 0.1 \u2018 \u2019 1\n",
        "\n",
        "(Dispersion parameter for binomial family taken to be 1)\n",
        "\n",
        "    Null deviance: 950.86  on 713  degrees of freedom\n",
        "Residual deviance: 373.54  on 518  degrees of freedom\n",
        "AIC: 765.54\n",
        "\n",
        "Number of Fisher Scoring iterations: 18\n",
        "\n"
       ]
      }
     ],
     "prompt_number": 286
    },
    {
     "cell_type": "markdown",
     "metadata": {},
     "source": [
      "So that didn't really help. Let's try one last trick, **Interaction**. Let's work in an interaction effect between passenger class and sex, as passenger class showed a much bigger difference in survival rate amongst the women compared to the men (i.e. Higher class women were much more likely to survive than lower class women, whereas first class Men were more likely to survive than 2nd or 3rd class men, but not by the same margin as amongst the women). We saw this during our initial visualizations. Besides Pclass and Sex have been the biggest determining factors so far."
     ]
    },
    {
     "cell_type": "code",
     "collapsed": false,
     "input": [
      "%%R\n",
      "#Let's work in an interaction between Pclass and Sex.\n",
      "set.seed(35) \n",
      "\n",
      "logit.tune3<-train(Survived ~ Sex + Pclass + Sex:Pclass + Age + SibSp + Embarked + FareGroup + FamID + Title,\n",
      "                data=train.set,\n",
      "                method='glm',\n",
      "                preProcess = c(\"center\", \"scale\"),\n",
      "                trControl=tenfoldcv)\n",
      "\n",
      "logit.tune3"
     ],
     "language": "python",
     "metadata": {},
     "outputs": [
      {
       "metadata": {},
       "output_type": "display_data",
       "text": [
        "Generalized Linear Model \n",
        "\n",
        "714 samples\n",
        " 14 predictors\n",
        "  2 classes: '0', '1' \n",
        "\n",
        "Pre-processing: centered, scaled \n",
        "Resampling: Cross-Validated (10 fold, repeated 3 times) \n",
        "\n",
        "Summary of sample sizes: 643, 643, 643, 642, 643, 643, ... \n",
        "\n",
        "Resampling results\n",
        "\n",
        "  Accuracy   Kappa      Accuracy SD  Kappa SD \n",
        "  0.7904864  0.5472096  0.05401862   0.1249195\n",
        "\n",
        " \n"
       ]
      }
     ],
     "prompt_number": 287
    },
    {
     "cell_type": "code",
     "collapsed": false,
     "input": [
      "%%R\n",
      "summary(logit.tune3)"
     ],
     "language": "python",
     "metadata": {},
     "outputs": [
      {
       "metadata": {},
       "output_type": "display_data",
       "text": [
        "\n",
        "Call:\n",
        "NULL\n",
        "\n",
        "Deviance Residuals: \n",
        "     Min        1Q    Median        3Q       Max  \n",
        "-2.85112  -0.46296  -0.00009   0.00009   2.54282  \n",
        "\n",
        "Coefficients: (45 not defined because of singularities)\n",
        "                              Estimate Std. Error z value Pr(>|z|)  \n",
        "(Intercept)                 -5.350e-01  2.135e+02  -0.003   0.9980  \n",
        "Sexmale                     -1.099e+01  3.407e+03  -0.003   0.9974  \n",
        "Pclass2                     -7.112e-01  6.345e-01  -1.121   0.2623  \n",
        "Pclass3                     -1.487e+00  7.122e-01  -2.088   0.0368 *\n",
        "Age                         -3.107e-01  1.799e-01  -1.727   0.0842 .\n",
        "SibSp                        2.551e-02  6.888e-01   0.037   0.9705  \n",
        "EmbarkedQ                    1.342e-01  1.615e-01   0.831   0.4058  \n",
        "EmbarkedS                   -1.049e-01  1.818e-01  -0.577   0.5640  \n",
        "`FareGroup10-20`             1.840e-01  2.615e-01   0.704   0.4816  \n",
        "`FareGroup20-40`             5.310e-01  2.953e-01   1.798   0.0721 .\n",
        "`FareGroup40+`               3.425e-01  3.013e-01   1.137   0.2556  \n",
        "FamIDAbelson2               -2.723e-02  1.935e-01  -0.141   0.8881  \n",
        "FamIDAhlin2                         NA         NA      NA       NA  \n",
        "FamIDAks2                    7.047e-01  4.025e+02   0.002   0.9986  \n",
        "FamIDAllison4               -1.250e+00  3.928e+02  -0.003   0.9975  \n",
        "`FamIDAndersen-Jensen2`      7.543e-01  4.025e+02   0.002   0.9985  \n",
        "FamIDAndersson7             -1.563e-01  1.910e-01  -0.818   0.4132  \n",
        "FamIDAndrews2                6.498e-01  4.025e+02   0.002   0.9987  \n",
        "FamIDAngle2                         NA         NA      NA       NA  \n",
        "FamIDAppleton3               5.904e-01  4.025e+02   0.001   0.9988  \n",
        "`FamIDArnold-Franchi2`      -1.044e+00  3.351e+02  -0.003   0.9975  \n",
        "FamIDAsplund7               -3.992e-02  1.723e-01  -0.232   0.8168  \n",
        "FamIDAstor2                         NA         NA      NA       NA  \n",
        "FamIDBackstrom2             -6.261e-01  4.025e+02  -0.002   0.9988  \n",
        "FamIDBackstrom4              6.981e-01  4.025e+02   0.002   0.9986  \n",
        "FamIDBaclini4                9.878e-01  3.963e+02   0.002   0.9980  \n",
        "FamIDBarbara2               -1.059e+00  3.933e+02  -0.003   0.9979  \n",
        "FamIDBaxter2                -7.557e-02  1.924e-01  -0.393   0.6945  \n",
        "FamIDBeane2                  8.272e-01  4.025e+02   0.002   0.9984  \n",
        "FamIDBecker4                 7.046e-01  4.025e+02   0.002   0.9986  \n",
        "FamIDBeckwith3               1.064e+00  3.177e+02   0.003   0.9973  \n",
        "FamIDBishop2                 5.524e-01  4.025e+02   0.001   0.9989  \n",
        "FamIDBoulos3                -7.450e-01  4.025e+02  -0.002   0.9985  \n",
        "FamIDBourke3                -1.292e+00  3.411e+02  -0.004   0.9970  \n",
        "FamIDBowerman2               6.143e-01  4.025e+02   0.002   0.9988  \n",
        "FamIDBraund2                        NA         NA      NA       NA  \n",
        "FamIDBrown3                  1.151e-02  2.058e-01   0.056   0.9554  \n",
        "FamIDBryhl2                 -6.435e-01  4.025e+02  -0.002   0.9987  \n",
        "FamIDCaldwell3               9.558e-01  3.665e+02   0.003   0.9979  \n",
        "FamIDCaram2                 -7.831e-01  4.025e+02  -0.002   0.9984  \n",
        "FamIDCardeza2                7.874e-01  4.025e+02   0.002   0.9984  \n",
        "FamIDCarter2                -1.102e+00  2.822e+02  -0.004   0.9969  \n",
        "FamIDCarter4                 1.278e+00  3.216e+02   0.004   0.9968  \n",
        "FamIDCavendish2             -6.692e-01  4.025e+02  -0.002   0.9987  \n",
        "FamIDChaffee2                       NA         NA      NA       NA  \n",
        "FamIDChambers2               1.051e+00  3.161e+02   0.003   0.9973  \n",
        "FamIDChapman2                       NA         NA      NA       NA  \n",
        "FamIDChibnall2                      NA         NA      NA       NA  \n",
        "FamIDChristy3                6.650e-01  4.025e+02   0.002   0.9987  \n",
        "FamIDChronopoulos2          -6.402e-01  4.025e+02  -0.002   0.9987  \n",
        "FamIDClark2                         NA         NA      NA       NA  \n",
        "FamIDClarke2                 6.180e-01  4.025e+02   0.002   0.9988  \n",
        "FamIDCollyer3                2.449e-02  2.003e-01   0.122   0.9027  \n",
        "FamIDCompton3                6.197e-01  4.025e+02   0.002   0.9988  \n",
        "FamIDCornell3                       NA         NA      NA       NA  \n",
        "FamIDCoutts3                 7.184e-01  4.025e+02   0.002   0.9986  \n",
        "FamIDCribb2                 -6.146e-01  4.025e+02  -0.002   0.9988  \n",
        "FamIDCrosby3                -8.693e-03  1.950e-01  -0.045   0.9644  \n",
        "FamIDCumings2                5.693e-01  4.025e+02   0.001   0.9989  \n",
        "FamIDDanbom3                -1.032e+00  3.356e+02  -0.003   0.9975  \n",
        "FamIDDavidson2              -6.737e-01  4.025e+02  -0.002   0.9987  \n",
        "FamIDDavidson4                      NA         NA      NA       NA  \n",
        "FamIDDavies3                 3.311e-02  1.406e-01   0.235   0.8138  \n",
        "FamIDDavison2                6.902e-01  4.025e+02   0.002   0.9986  \n",
        "FamIDDean4                   1.679e-02  1.481e-01   0.113   0.9097  \n",
        "FamIDdelCarlo2              -6.487e-01  4.025e+02  -0.002   0.9987  \n",
        "FamIDdeMessemaeker2          7.026e-01  4.025e+02   0.002   0.9986  \n",
        "FamIDDick2                   1.053e+00  3.083e+02   0.003   0.9973  \n",
        "FamIDDodge3                  6.735e-01  4.025e+02   0.002   0.9987  \n",
        "FamIDDoling2                 6.597e-01  4.025e+02   0.002   0.9987  \n",
        "FamIDDouglas2               -6.656e-01  4.025e+02  -0.002   0.9987  \n",
        "FamIDDouglas3                       NA         NA      NA       NA  \n",
        "FamIDDrew3                          NA         NA      NA       NA  \n",
        "FamIDDuffGordon2             1.063e+00  3.093e+02   0.003   0.9973  \n",
        "`FamIDDurany More2`          6.887e-01  4.025e+02   0.002   0.9986  \n",
        "FamIDDyker2                         NA         NA      NA       NA  \n",
        "FamIDEarnshaw2                      NA         NA      NA       NA  \n",
        "FamIDElias3                 -6.311e-01  4.025e+02  -0.002   0.9987  \n",
        "FamIDEustis2                 6.331e-01  4.025e+02   0.002   0.9987  \n",
        "FamIDFaunthorpe2             6.189e-01  4.025e+02   0.002   0.9988  \n",
        "FamIDFord5                  -1.295e+00  3.571e+02  -0.004   0.9971  \n",
        "FamIDFortune6               -7.440e-02  2.115e-01  -0.352   0.7250  \n",
        "FamIDFrauenthal2             5.638e-01  4.025e+02   0.001   0.9989  \n",
        "FamIDFrauenthal3             8.475e-01  4.025e+02   0.002   0.9983  \n",
        "FamIDFrolicher3              6.055e-01  4.025e+02   0.002   0.9988  \n",
        "`FamIDFrolicher-Stehli3`     8.078e-01  4.025e+02   0.002   0.9984  \n",
        "FamIDFutrelle2              -6.571e-02  2.075e-01  -0.317   0.7515  \n",
        "FamIDGale2                  -6.355e-01  4.025e+02  -0.002   0.9987  \n",
        "FamIDGibson2                        NA         NA      NA       NA  \n",
        "FamIDGiles2                 -6.164e-01  4.025e+02  -0.002   0.9988  \n",
        "FamIDGoldenberg2             1.061e+00  3.036e+02   0.003   0.9972  \n",
        "FamIDGoldsmith3              6.675e-01  4.025e+02   0.002   0.9987  \n",
        "FamIDGoodwin8               -1.520e+00  3.999e+02  -0.004   0.9970  \n",
        "FamIDGraham2                 5.967e-01  4.025e+02   0.001   0.9988  \n",
        "FamIDGreenfield2             7.758e-01  4.025e+02   0.002   0.9985  \n",
        "FamIDGustafsson3            -8.615e-01  4.018e+02  -0.002   0.9983  \n",
        "FamIDHagland2               -6.350e-01  4.025e+02  -0.002   0.9987  \n",
        "FamIDHakkarainen2                   NA         NA      NA       NA  \n",
        "FamIDHamalainen3             9.973e-01  3.640e+02   0.003   0.9978  \n",
        "FamIDHansen2                -6.143e-01  4.025e+02  -0.002   0.9988  \n",
        "FamIDHansen3                -6.191e-01  4.025e+02  -0.002   0.9988  \n",
        "FamIDHarder2                 7.767e-01  4.025e+02   0.002   0.9985  \n",
        "FamIDHarper2                 1.991e-01  2.017e-01   0.987   0.3236  \n",
        "FamIDHarris2                -6.069e-02  2.139e-01  -0.284   0.7766  \n",
        "FamIDHart3                   3.698e-02  2.039e-01   0.181   0.8561  \n",
        "FamIDHays3                   5.905e-01  4.025e+02   0.001   0.9988  \n",
        "FamIDHerman4                 6.800e-01  4.025e+02   0.002   0.9987  \n",
        "FamIDHickman3               -8.913e-01  4.021e+02  -0.002   0.9982  \n",
        "FamIDHiltunen3                      NA         NA      NA       NA  \n",
        "FamIDHippach2                8.313e-01  3.934e+02   0.002   0.9983  \n",
        "FamIDHirvonen2               7.229e-01  4.025e+02   0.002   0.9986  \n",
        "FamIDHirvonen3                      NA         NA      NA       NA  \n",
        "FamIDHocking4               -6.155e-01  4.025e+02  -0.002   0.9988  \n",
        "FamIDHocking5                       NA         NA      NA       NA  \n",
        "FamIDHogeboom2                      NA         NA      NA       NA  \n",
        "FamIDHold2                  -6.266e-01  4.025e+02  -0.002   0.9988  \n",
        "FamIDHolverson2             -6.639e-01  4.025e+02  -0.002   0.9987  \n",
        "FamIDHoward2                        NA         NA      NA       NA  \n",
        "FamIDHoyt2                   5.754e-01  4.025e+02   0.001   0.9989  \n",
        "FamIDIlmakangas2            -7.049e-01  4.025e+02  -0.002   0.9986  \n",
        "FamIDJacobsohn2             -6.284e-01  4.025e+02  -0.002   0.9988  \n",
        "FamIDJacobsohn4              6.136e-01  4.025e+02   0.002   0.9988  \n",
        "FamIDJefferys3                      NA         NA      NA       NA  \n",
        "FamIDJensen2                -6.223e-01  4.025e+02  -0.002   0.9988  \n",
        "FamIDJohnson3                1.018e+00  4.013e+02   0.003   0.9980  \n",
        "FamIDJohnston4              -7.554e-01  4.025e+02  -0.002   0.9985  \n",
        "FamIDJussila2               -1.002e+00  4.022e+02  -0.002   0.9980  \n",
        "FamIDKantor2                -1.484e-02  1.977e-01  -0.075   0.9401  \n",
        "FamIDKarun2                         NA         NA      NA       NA  \n",
        "FamIDKenyon2                 5.638e-01  4.025e+02   0.001   0.9989  \n",
        "FamIDKhalil2                        NA         NA      NA       NA  \n",
        "FamIDKiernan2               -6.449e-01  4.025e+02  -0.002   0.9987  \n",
        "FamIDKimball2                8.006e-01  4.025e+02   0.002   0.9984  \n",
        "FamIDKink3                  -6.152e-01  4.025e+02  -0.002   0.9988  \n",
        "`FamIDKink-Heilmann3`        6.940e-01  4.025e+02   0.002   0.9986  \n",
        "`FamIDKink-Heilmann5`               NA         NA      NA       NA  \n",
        "FamIDKlasen3                -6.214e-01  4.025e+02  -0.002   0.9988  \n",
        "FamIDLahtinen3              -8.482e-01  4.025e+02  -0.002   0.9983  \n",
        "FamIDLaroche4                2.688e-02  2.057e-01   0.131   0.8960  \n",
        "FamIDLefebre5               -1.312e+00  4.011e+02  -0.003   0.9974  \n",
        "FamIDLennon2                -6.620e-01  4.025e+02  -0.002   0.9987  \n",
        "FamIDLindell2               -6.226e-01  4.025e+02  -0.002   0.9988  \n",
        "FamIDLindqvist2              8.448e-01  4.025e+02   0.002   0.9983  \n",
        "FamIDLines2                  5.931e-01  4.025e+02   0.001   0.9988  \n",
        "FamIDLobb2                  -6.279e-01  4.025e+02  -0.002   0.9988  \n",
        "FamIDLouch2                  6.305e-01  4.025e+02   0.002   0.9988  \n",
        "FamIDMadill2                 6.081e-01  4.025e+02   0.002   0.9988  \n",
        "FamIDMallet3                 3.582e-02  1.574e-01   0.228   0.8200  \n",
        "FamIDMarvin2                -6.843e-01  4.025e+02  -0.002   0.9986  \n",
        "FamIDMcCoy3                  1.042e+00  3.470e+02   0.003   0.9976  \n",
        "FamIDMcNamee2               -6.332e-01  4.025e+02  -0.002   0.9987  \n",
        "FamIDMellinger2                     NA         NA      NA       NA  \n",
        "FamIDMeyer2                 -9.190e-02  2.106e-01  -0.436   0.6625  \n",
        "FamIDMinahan2                5.962e-01  4.025e+02   0.001   0.9988  \n",
        "FamIDMinahan3               -6.493e-01  4.025e+02  -0.002   0.9987  \n",
        "FamIDMock2                          NA         NA      NA       NA  \n",
        "FamIDMoor2                   1.003e+00  3.969e+02   0.003   0.9980  \n",
        "FamIDMoran2                 -7.498e-03  1.385e-01  -0.054   0.9568  \n",
        "FamIDMoubarek3               1.027e+00  4.022e+02   0.003   0.9980  \n",
        "FamIDMurphy2                 7.128e-01  4.025e+02   0.002   0.9986  \n",
        "FamIDNakid3                  1.104e+00  3.350e+02   0.003   0.9974  \n",
        "FamIDNasser2                -3.445e-02  2.056e-01  -0.168   0.8669  \n",
        "FamIDNatsch2                -6.921e-01  4.025e+02  -0.002   0.9986  \n",
        "FamIDNavratil3               7.073e-01  4.025e+02   0.002   0.9986  \n",
        "FamIDNewell2                 8.609e-01  4.019e+02   0.002   0.9983  \n",
        "FamIDNewell3                -6.576e-01  4.025e+02  -0.002   0.9987  \n",
        "FamIDNewsom3                 5.957e-01  4.025e+02   0.001   0.9988  \n",
        "FamIDNicholls3              -6.488e-01  4.025e+02  -0.002   0.9987  \n",
        "`FamIDNicola-Yarred2`        1.019e+00  4.013e+02   0.003   0.9980  \n",
        "`FamIDO'Brien2`              6.632e-01  4.025e+02   0.002   0.9987  \n",
        "FamIDOlsen2                 -5.992e-01  4.025e+02  -0.001   0.9988  \n",
        "FamIDOstby2                         NA         NA      NA       NA  \n",
        "FamIDPalsson5               -1.559e+00  3.981e+02  -0.004   0.9969  \n",
        "FamIDPanula6                -1.680e+00  3.489e+02  -0.005   0.9962  \n",
        "FamIDParrish2                6.385e-01  4.025e+02   0.002   0.9987  \n",
        "FamIDPeacock3                       NA         NA      NA       NA  \n",
        "FamIDPears2                 -7.889e-02  2.114e-01  -0.373   0.7090  \n",
        "`FamIDPenascoy Castellana2` -1.013e-01  2.069e-01  -0.490   0.6243  \n",
        "FamIDPersson2                8.493e-01  4.025e+02   0.002   0.9983  \n",
        "FamIDPeter3                  9.624e-01  3.894e+02   0.002   0.9980  \n",
        "FamIDPetterson2             -6.152e-01  4.025e+02  -0.002   0.9988  \n",
        "FamIDPhillips2                      NA         NA      NA       NA  \n",
        "FamIDPotter2                 5.861e-01  4.025e+02   0.001   0.9988  \n",
        "FamIDQuick3                  6.446e-01  4.025e+02   0.002   0.9987  \n",
        "FamIDRenouf2                        NA         NA      NA       NA  \n",
        "FamIDRenouf4                 6.180e-01  4.025e+02   0.002   0.9988  \n",
        "FamIDRice6                  -1.800e+00  4.008e+02  -0.004   0.9964  \n",
        "FamIDRichards3               7.379e-01  4.025e+02   0.002   0.9985  \n",
        "FamIDRichards6               6.443e-01  4.025e+02   0.002   0.9987  \n",
        "FamIDRobert2                 5.834e-01  4.025e+02   0.001   0.9988  \n",
        "FamIDRobins2                -7.521e-01  4.025e+02  -0.002   0.9985  \n",
        "FamIDRosblom3               -1.063e+00  3.483e+02  -0.003   0.9976  \n",
        "FamIDRothschild2                    NA         NA      NA       NA  \n",
        "FamIDRyerson5                6.002e-01  4.025e+02   0.001   0.9988  \n",
        "FamIDSage11                 -1.635e+00  3.694e+02  -0.004   0.9965  \n",
        "FamIDSamaan3                -6.754e-01  4.025e+02  -0.002   0.9987  \n",
        "FamIDSandstrom3              1.003e+00  3.942e+02   0.003   0.9980  \n",
        "FamIDSchabert2                      NA         NA      NA       NA  \n",
        "FamIDShelley2                6.163e-01  4.025e+02   0.002   0.9988  \n",
        "FamIDSilven3                 6.904e-01  4.025e+02   0.002   0.9986  \n",
        "FamIDSilvey2                -5.504e-02  2.148e-01  -0.256   0.7977  \n",
        "FamIDSkoog6                 -1.697e+00  3.623e+02  -0.005   0.9963  \n",
        "FamIDSmith2                         NA         NA      NA       NA  \n",
        "FamIDSnyder2                        NA         NA      NA       NA  \n",
        "FamIDSolo                    4.404e-01  1.094e+00   0.403   0.6872  \n",
        "FamIDSpedden3                       NA         NA      NA       NA  \n",
        "FamIDSpencer2                5.550e-01  4.025e+02   0.001   0.9989  \n",
        "FamIDStengel2                       NA         NA      NA       NA  \n",
        "FamIDStephenson2             5.817e-01  4.025e+02   0.001   0.9988  \n",
        "FamIDStraus2                        NA         NA      NA       NA  \n",
        "FamIDStrom2                 -7.416e-01  4.025e+02  -0.002   0.9985  \n",
        "FamIDStrom3                 -7.681e-01  4.025e+02  -0.002   0.9985  \n",
        "FamIDTaussig3                8.421e-01  3.904e+02   0.002   0.9983  \n",
        "FamIDTaylor2                 1.073e+00  3.040e+02   0.004   0.9972  \n",
        "FamIDThayer3                 1.030e+00  3.244e+02   0.003   0.9975  \n",
        "FamIDThomas2                 7.254e-01  4.025e+02   0.002   0.9986  \n",
        "FamIDThomas3                        NA         NA      NA       NA  \n",
        "FamIDThorneycroft2           3.898e-02  1.546e-01   0.252   0.8010  \n",
        "FamIDTouma3                         NA         NA      NA       NA  \n",
        "FamIDTurpin2                -1.127e+00  2.917e+02  -0.004   0.9969  \n",
        "FamIDvanBilliard3           -6.177e-01  4.025e+02  -0.002   0.9988  \n",
        "FamIDVanderPlanke2          -7.663e-01  4.025e+02  -0.002   0.9985  \n",
        "FamIDVanderPlanke3          -9.833e-01  3.480e+02  -0.003   0.9977  \n",
        "FamIDVanderPlanke4                  NA         NA      NA       NA  \n",
        "FamIDVanImpe3               -1.106e+00  3.902e+02  -0.003   0.9977  \n",
        "FamIDWare2                          NA         NA      NA       NA  \n",
        "FamIDWarren2                 5.888e-01  4.025e+02   0.001   0.9988  \n",
        "FamIDWeisz2                  6.189e-01  4.025e+02   0.002   0.9988  \n",
        "FamIDWells3                  6.463e-01  4.025e+02   0.002   0.9987  \n",
        "FamIDWest4                   2.669e-02  2.030e-01   0.132   0.8954  \n",
        "FamIDWhite2                 -6.523e-01  4.025e+02  -0.002   0.9987  \n",
        "FamIDWick3                   6.223e-01  4.025e+02   0.002   0.9988  \n",
        "FamIDWidener3               -6.851e-01  4.025e+02  -0.002   0.9986  \n",
        "FamIDWiklund2                       NA         NA      NA       NA  \n",
        "FamIDWilkes2                        NA         NA      NA       NA  \n",
        "FamIDWilliams2              -6.638e-01  4.025e+02  -0.002   0.9987  \n",
        "FamIDYasbeck2                       NA         NA      NA       NA  \n",
        "FamIDZabour2                -7.335e-01  4.025e+02  -0.002   0.9985  \n",
        "TitleMiss                   -8.526e+00  2.897e+03  -0.003   0.9977  \n",
        "TitleMr                     -1.242e+00  7.618e-01  -1.630   0.1030  \n",
        "TitleMrs                    -6.906e+00  2.505e+03  -0.003   0.9978  \n",
        "TitleNoble                  -5.001e-01  2.775e-01  -1.802   0.0716 .\n",
        "`Sexmale:Pclass2`            1.211e-01  4.900e-01   0.247   0.8048  \n",
        "`Sexmale:Pclass3`            1.035e+00  6.352e-01   1.630   0.1031  \n",
        "---\n",
        "Signif. codes:  0 \u2018***\u2019 0.001 \u2018**\u2019 0.01 \u2018*\u2019 0.05 \u2018.\u2019 0.1 \u2018 \u2019 1\n",
        "\n",
        "(Dispersion parameter for binomial family taken to be 1)\n",
        "\n",
        "    Null deviance: 950.86  on 713  degrees of freedom\n",
        "Residual deviance: 366.58  on 515  degrees of freedom\n",
        "AIC: 764.58\n",
        "\n",
        "Number of Fisher Scoring iterations: 18\n",
        "\n"
       ]
      }
     ],
     "prompt_number": 288
    },
    {
     "cell_type": "markdown",
     "metadata": {},
     "source": [
      "So we did a little bit better. I would just like to test a theory. We manufactured the FamilyID and have been doing well so far. What happens if we take it out? Will we do worse or better? Let's check it out."
     ]
    },
    {
     "cell_type": "code",
     "collapsed": false,
     "input": [
      "%%R\n",
      "#Let's work in an interaction between Pclass and Sex.\n",
      "set.seed(35) \n",
      "\n",
      "logit.tune4<-train(Survived ~ Sex + Pclass + Sex:Pclass + Age + SibSp + Embarked + FareGroup + Title,\n",
      "                data=train.set,\n",
      "                method='glm',\n",
      "                preProcess = c(\"center\", \"scale\"),\n",
      "                trControl=tenfoldcv)\n",
      "\n",
      "logit.tune4"
     ],
     "language": "python",
     "metadata": {},
     "outputs": [
      {
       "metadata": {},
       "output_type": "display_data",
       "text": [
        "Generalized Linear Model \n",
        "\n",
        "714 samples\n",
        " 14 predictors\n",
        "  2 classes: '0', '1' \n",
        "\n",
        "Pre-processing: centered, scaled \n",
        "Resampling: Cross-Validated (10 fold, repeated 3 times) \n",
        "\n",
        "Summary of sample sizes: 643, 643, 643, 642, 643, 643, ... \n",
        "\n",
        "Resampling results\n",
        "\n",
        "  Accuracy   Kappa      Accuracy SD  Kappa SD  \n",
        "  0.8123305  0.5934912  0.04130739   0.09243173\n",
        "\n",
        " \n"
       ]
      }
     ],
     "prompt_number": 289
    },
    {
     "cell_type": "code",
     "collapsed": false,
     "input": [
      "%%R\n",
      "summary(logit.tune4)"
     ],
     "language": "python",
     "metadata": {},
     "outputs": [
      {
       "metadata": {},
       "output_type": "display_data",
       "text": [
        "\n",
        "Call:\n",
        "NULL\n",
        "\n",
        "Deviance Residuals: \n",
        "    Min       1Q   Median       3Q      Max  \n",
        "-2.6591  -0.5397  -0.4099   0.3937   2.4194  \n",
        "\n",
        "Coefficients:\n",
        "                   Estimate Std. Error z value Pr(>|z|)    \n",
        "(Intercept)        -0.56336    0.12309  -4.577 4.72e-06 ***\n",
        "Sexmale            -8.13159  278.33333  -0.029 0.976693    \n",
        "Pclass2            -0.36485    0.33842  -1.078 0.280987    \n",
        "Pclass3            -1.62269    0.37865  -4.285 1.82e-05 ***\n",
        "Age                -0.30128    0.13506  -2.231 0.025693 *  \n",
        "SibSp              -0.62972    0.17467  -3.605 0.000312 ***\n",
        "EmbarkedQ           0.04973    0.11805   0.421 0.673568    \n",
        "EmbarkedS          -0.17619    0.12541  -1.405 0.160047    \n",
        "`FareGroup10-20`    0.07364    0.14908   0.494 0.621326    \n",
        "`FareGroup20-40`   -0.01342    0.17629  -0.076 0.939314    \n",
        "`FareGroup40+`      0.11277    0.22144   0.509 0.610572    \n",
        "TitleMiss          -6.75940  236.67998  -0.029 0.977216    \n",
        "TitleMr            -1.55762    0.29962  -5.199 2.01e-07 ***\n",
        "TitleMrs           -5.78595  204.63657  -0.028 0.977443    \n",
        "TitleNoble         -0.46573    0.14315  -3.253 0.001140 ** \n",
        "`Sexmale:Pclass2`  -0.32045    0.29394  -1.090 0.275630    \n",
        "`Sexmale:Pclass3`   0.65008    0.35598   1.826 0.067823 .  \n",
        "---\n",
        "Signif. codes:  0 \u2018***\u2019 0.001 \u2018**\u2019 0.01 \u2018*\u2019 0.05 \u2018.\u2019 0.1 \u2018 \u2019 1\n",
        "\n",
        "(Dispersion parameter for binomial family taken to be 1)\n",
        "\n",
        "    Null deviance: 950.86  on 713  degrees of freedom\n",
        "Residual deviance: 576.85  on 697  degrees of freedom\n",
        "AIC: 610.85\n",
        "\n",
        "Number of Fisher Scoring iterations: 13\n",
        "\n"
       ]
      }
     ],
     "prompt_number": 290
    },
    {
     "cell_type": "markdown",
     "metadata": {},
     "source": [
      "So we actually did **much** better. So lesson learnt, engineering new features is a great idea but may or may not positively impact your model. In fact, if we don't get it right, it could have an adverse impact. Let's see if we can make anymore tiny improvements with the Title. We have 4 possible values and I am going to class compress each."
     ]
    },
    {
     "cell_type": "code",
     "collapsed": false,
     "input": [
      "%%R\n",
      "#Let's work in an interaction between Pclass and Sex.\n",
      "set.seed(35) \n",
      "\n",
      "logit.tune5<-train(Survived ~ Sex + Pclass + Sex:Pclass + Age + SibSp + Embarked + FareGroup + I(Title=='Mr') +\n",
      "                   I(Title=='Mrs') + I(Title=='Miss') + I(Title=='Noble'),\n",
      "                data=train.set,\n",
      "                method='glm',\n",
      "                preProcess = c(\"center\", \"scale\"),\n",
      "                trControl=tenfoldcv)\n",
      "\n",
      "logit.tune5"
     ],
     "language": "python",
     "metadata": {},
     "outputs": [
      {
       "metadata": {},
       "output_type": "display_data",
       "text": [
        "Generalized Linear Model \n",
        "\n",
        "714 samples\n",
        " 14 predictors\n",
        "  2 classes: '0', '1' \n",
        "\n",
        "Pre-processing: centered, scaled \n",
        "Resampling: Cross-Validated (10 fold, repeated 3 times) \n",
        "\n",
        "Summary of sample sizes: 643, 643, 643, 642, 643, 643, ... \n",
        "\n",
        "Resampling results\n",
        "\n",
        "  Accuracy   Kappa      Accuracy SD  Kappa SD  \n",
        "  0.8123305  0.5934912  0.04130739   0.09243173\n",
        "\n",
        " \n"
       ]
      }
     ],
     "prompt_number": 291
    },
    {
     "cell_type": "code",
     "collapsed": false,
     "input": [
      "%%R\n",
      "summary(logit.tune5)"
     ],
     "language": "python",
     "metadata": {},
     "outputs": [
      {
       "metadata": {},
       "output_type": "display_data",
       "text": [
        "\n",
        "Call:\n",
        "NULL\n",
        "\n",
        "Deviance Residuals: \n",
        "    Min       1Q   Median       3Q      Max  \n",
        "-2.6591  -0.5397  -0.4099   0.3937   2.4194  \n",
        "\n",
        "Coefficients:\n",
        "                           Estimate Std. Error z value Pr(>|z|)    \n",
        "(Intercept)                -0.56336    0.12309  -4.577 4.72e-06 ***\n",
        "Sexmale                    -8.13159  278.33333  -0.029 0.976693    \n",
        "Pclass2                    -0.36485    0.33842  -1.078 0.280987    \n",
        "Pclass3                    -1.62269    0.37865  -4.285 1.82e-05 ***\n",
        "Age                        -0.30128    0.13506  -2.231 0.025693 *  \n",
        "SibSp                      -0.62972    0.17467  -3.605 0.000312 ***\n",
        "EmbarkedQ                   0.04973    0.11805   0.421 0.673568    \n",
        "EmbarkedS                  -0.17619    0.12541  -1.405 0.160047    \n",
        "`FareGroup10-20`            0.07364    0.14908   0.494 0.621326    \n",
        "`FareGroup20-40`           -0.01342    0.17629  -0.076 0.939314    \n",
        "`FareGroup40+`              0.11277    0.22144   0.509 0.610572    \n",
        "`I(Title == \"Mr\")TRUE`     -1.55762    0.29962  -5.199 2.01e-07 ***\n",
        "`I(Title == \"Mrs\")TRUE`    -5.78595  204.63657  -0.028 0.977443    \n",
        "`I(Title == \"Miss\")TRUE`   -6.75940  236.67998  -0.029 0.977216    \n",
        "`I(Title == \"Noble\")TRUE`  -0.46573    0.14315  -3.253 0.001140 ** \n",
        "`Sexmale:Pclass2`          -0.32045    0.29394  -1.090 0.275630    \n",
        "`Sexmale:Pclass3`           0.65008    0.35598   1.826 0.067823 .  \n",
        "---\n",
        "Signif. codes:  0 \u2018***\u2019 0.001 \u2018**\u2019 0.01 \u2018*\u2019 0.05 \u2018.\u2019 0.1 \u2018 \u2019 1\n",
        "\n",
        "(Dispersion parameter for binomial family taken to be 1)\n",
        "\n",
        "    Null deviance: 950.86  on 713  degrees of freedom\n",
        "Residual deviance: 576.85  on 697  degrees of freedom\n",
        "AIC: 610.85\n",
        "\n",
        "Number of Fisher Scoring iterations: 13\n",
        "\n"
       ]
      }
     ],
     "prompt_number": 292
    },
    {
     "cell_type": "markdown",
     "metadata": {},
     "source": [
      "Hmm, didn't really make a difference. Let's try one last thing, adding Child, which we derived during the feature engineering exercise."
     ]
    },
    {
     "cell_type": "code",
     "collapsed": false,
     "input": [
      "%%R\n",
      "#Let's add Child to the mix.\n",
      "set.seed(35) \n",
      "\n",
      "logit.tune6<-train(Survived ~ Sex + Pclass + Sex:Pclass + Age + SibSp + Embarked + FareGroup + Title + Child,\n",
      "                data=train.set,\n",
      "                method='glm',\n",
      "                preProcess = c(\"center\", \"scale\"),\n",
      "                trControl=tenfoldcv)\n",
      "\n",
      "logit.tune6"
     ],
     "language": "python",
     "metadata": {},
     "outputs": [
      {
       "metadata": {},
       "output_type": "display_data",
       "text": [
        "Generalized Linear Model \n",
        "\n",
        "714 samples\n",
        " 14 predictors\n",
        "  2 classes: '0', '1' \n",
        "\n",
        "Pre-processing: centered, scaled \n",
        "Resampling: Cross-Validated (10 fold, repeated 3 times) \n",
        "\n",
        "Summary of sample sizes: 643, 643, 643, 642, 643, 643, ... \n",
        "\n",
        "Resampling results\n",
        "\n",
        "  Accuracy   Kappa      Accuracy SD  Kappa SD\n",
        "  0.8144806  0.5969237  0.04436537   0.101153\n",
        "\n",
        " \n"
       ]
      }
     ],
     "prompt_number": 120
    },
    {
     "cell_type": "code",
     "collapsed": false,
     "input": [
      "%%R\n",
      "summary(logit.tune6)"
     ],
     "language": "python",
     "metadata": {},
     "outputs": [
      {
       "metadata": {},
       "output_type": "display_data",
       "text": [
        "\n",
        "Call:\n",
        "NULL\n",
        "\n",
        "Deviance Residuals: \n",
        "    Min       1Q   Median       3Q      Max  \n",
        "-2.7285  -0.5465  -0.4164   0.4031   2.4338  \n",
        "\n",
        "Coefficients:\n",
        "                   Estimate Std. Error z value Pr(>|z|)    \n",
        "(Intercept)        -0.56186    0.12306  -4.566 4.98e-06 ***\n",
        "Sexmale            -8.16008  276.99294  -0.029 0.976498    \n",
        "Pclass2            -0.36500    0.33876  -1.077 0.281271    \n",
        "Pclass3            -1.62927    0.37881  -4.301 1.70e-05 ***\n",
        "Age                -0.25715    0.14521  -1.771 0.076581 .  \n",
        "SibSp              -0.64181    0.17585  -3.650 0.000262 ***\n",
        "EmbarkedQ           0.05690    0.11859   0.480 0.631327    \n",
        "EmbarkedS          -0.17477    0.12575  -1.390 0.164569    \n",
        "`FareGroup10-20`    0.05529    0.15150   0.365 0.715165    \n",
        "`FareGroup20-40`   -0.03809    0.17965  -0.212 0.832083    \n",
        "`FareGroup40+`      0.09460    0.22321   0.424 0.671714    \n",
        "TitleMiss          -6.73181  235.54018  -0.029 0.977199    \n",
        "TitleMr            -1.47297    0.31722  -4.643 3.43e-06 ***\n",
        "TitleMrs           -5.73725  203.65108  -0.028 0.977525    \n",
        "TitleNoble         -0.44396    0.14534  -3.055 0.002254 ** \n",
        "Child               0.11549    0.14579   0.792 0.428237    \n",
        "`Sexmale:Pclass2`  -0.31971    0.29422  -1.087 0.277200    \n",
        "`Sexmale:Pclass3`   0.64601    0.35560   1.817 0.069267 .  \n",
        "---\n",
        "Signif. codes:  0 \u2018***\u2019 0.001 \u2018**\u2019 0.01 \u2018*\u2019 0.05 \u2018.\u2019 0.1 \u2018 \u2019 1\n",
        "\n",
        "(Dispersion parameter for binomial family taken to be 1)\n",
        "\n",
        "    Null deviance: 950.86  on 713  degrees of freedom\n",
        "Residual deviance: 576.23  on 696  degrees of freedom\n",
        "AIC: 612.23\n",
        "\n",
        "Number of Fisher Scoring iterations: 13\n",
        "\n"
       ]
      }
     ],
     "prompt_number": 294
    },
    {
     "cell_type": "markdown",
     "metadata": {},
     "source": [
      "So we got that tiny push we were looking for. Let's now go ahead and try this model on our test set as well as submit to Kaggle.  \n",
      "\n",
      "**Model Evaluation - Logistic Regression**  \n",
      "We can now begin to evaluate model performance by putting together some cross-tabulations of the observed and predicted Survival for the passengers in the test.set data. caret makes this easy with the confusionMatrix function."
     ]
    },
    {
     "cell_type": "code",
     "collapsed": false,
     "input": [
      "%%R\n",
      "#Derive predictions using our final LR model on the test set (this is NOT the test.csv file from Kaggle)\n",
      "logit.pred<-predict(logit.tune6, test.set)\n",
      "\n",
      "#Generate the confusion matrix\n",
      "confusionMatrix(logit.pred, test.set$Survived)"
     ],
     "language": "python",
     "metadata": {},
     "outputs": [
      {
       "metadata": {},
       "output_type": "display_data",
       "text": [
        "Confusion Matrix and Statistics\n",
        "\n",
        "          Reference\n",
        "Prediction  0  1\n",
        "         0 99 18\n",
        "         1 10 50\n",
        "                                          \n",
        "               Accuracy : 0.8418          \n",
        "                 95% CI : (0.7795, 0.8922)\n",
        "    No Information Rate : 0.6158          \n",
        "    P-Value [Acc > NIR] : 4.229e-11       \n",
        "                                          \n",
        "                  Kappa : 0.6581          \n",
        " Mcnemar's Test P-Value : 0.1859          \n",
        "                                          \n",
        "            Sensitivity : 0.9083          \n",
        "            Specificity : 0.7353          \n",
        "         Pos Pred Value : 0.8462          \n",
        "         Neg Pred Value : 0.8333          \n",
        "             Prevalence : 0.6158          \n",
        "         Detection Rate : 0.5593          \n",
        "   Detection Prevalence : 0.6610          \n",
        "      Balanced Accuracy : 0.8218          \n",
        "                                          \n",
        "       'Positive' Class : 0               \n",
        "                                          \n"
       ]
      }
     ],
     "prompt_number": 295
    },
    {
     "cell_type": "markdown",
     "metadata": {},
     "source": [
      "The metric we're looking for here is called Specificity. It basically is, out of all that actually survived how many we predicted will survive. So, it's 50/68 = 73.53%. Not too shabby though I'd like to do better. Let's anyway try to make a submission and find out for real.  \n",
      "\n",
      "**Submit Results to Kaggle**  \n",
      "Let's now submit the results from the LR model to Kaggle to see how we fare."
     ]
    },
    {
     "cell_type": "code",
     "collapsed": false,
     "input": [
      "%%R\n",
      "#Generate predictions and write as a dataframe, then include PassengerID\n",
      "Survived<-predict(logit.tune6, kaggletest)\n",
      "lr.predictions<-as.data.frame(Survived)\n",
      "lr.predictions$PassengerId<-kaggletest$PassengerId\n",
      "\n",
      "#Write results as a CSV file\n",
      "write.csv(lr.predictions[,c('PassengerId','Survived')], file=\"LR_Titanic_Predictions.csv\", row.names=FALSE, quote=FALSE)"
     ],
     "language": "python",
     "metadata": {},
     "outputs": [],
     "prompt_number": 356
    },
    {
     "cell_type": "markdown",
     "metadata": {},
     "source": [
      "The model scored **0.76555** which put us ahead of only about 1/4th of the teams on the leaderboard. Let us keep trying to improve."
     ]
    },
    {
     "cell_type": "markdown",
     "metadata": {},
     "source": [
      "**Support Vector Machines**  \n",
      "Support Vector Machines (SVMs) are a powerful supervised learning algorithm used for classification or for regression. SVMs are a discriminative classifier: that is, they draw a boundary between clusters of data. The process of fitting an SVM based model to our dataset is very similar to what we just did with glm but involves an additional step to hypertune parameters. The key parameter for SVM is C, which can be considered as 1/lambda where lambda is the regularization term. We talked about overfitting previously, regularization is the process of offsetting it. If there is overfitting, we would increase lambda, so conversely decrease C.\n",
      "\n",
      "The caret package automatically selects the best C value by hypertuning it during crossvalidation. But we need to supply a range of C values for the train method to try. For SVMs, this could be handled by updating the parameter, tunelength (or tunegrid). By default, the length is 3 and the values tried are 0.25, 0.5 and 1. Setting it to 6 would try 0.25 - 8. Let's get started."
     ]
    },
    {
     "cell_type": "code",
     "collapsed": false,
     "input": [
      "%%R\n",
      "set.seed(35) \n",
      "\n",
      "#Training an SVM model with the RBF kernel - Radial Basis Function\n",
      "svm.tune1<-train(Survived ~ Sex + Pclass +  Sex:Pclass + Age + SibSp + Embarked + FareGroup + Title + Child,\n",
      "                data=train.set,\n",
      "                method='svmRadial',\n",
      "                tuneLength=9,\n",
      "                preProcess = c(\"center\", \"scale\"),\n",
      "                trControl=tenfoldcv)\n",
      "\n",
      "svm.tune1"
     ],
     "language": "python",
     "metadata": {},
     "outputs": [
      {
       "metadata": {},
       "output_type": "display_data",
       "text": [
        "Support Vector Machines with Radial Basis Function Kernel \n",
        "\n",
        "714 samples\n",
        " 14 predictors\n",
        "  2 classes: '0', '1' \n",
        "\n",
        "Pre-processing: centered, scaled \n",
        "Resampling: Cross-Validated (10 fold, repeated 3 times) \n",
        "\n",
        "Summary of sample sizes: 643, 643, 643, 642, 643, 643, ... \n",
        "\n",
        "Resampling results across tuning parameters:\n",
        "\n",
        "  C      Accuracy   Kappa      Accuracy SD  Kappa SD \n",
        "   0.25  0.8049426  0.5722555  0.05162691   0.1132959\n",
        "   0.50  0.8117884  0.5843046  0.05585971   0.1259916\n",
        "   1.00  0.8226591  0.6100882  0.05152085   0.1165301\n",
        "   2.00  0.8249804  0.6164518  0.05146277   0.1156968\n",
        "   4.00  0.8160650  0.5986011  0.05477380   0.1213830\n",
        "   8.00  0.8131307  0.5934170  0.04906936   0.1095503\n",
        "  16.00  0.8131172  0.5940660  0.05068143   0.1116418\n",
        "  32.00  0.8150599  0.5995714  0.05261309   0.1151817\n",
        "  64.00  0.8092588  0.5876340  0.05748809   0.1249829\n",
        "\n",
        "Tuning parameter 'sigma' was held constant at a value of 0.07616343\n",
        "Accuracy was used to select the optimal model using  the largest value.\n",
        "The final values used for the model were sigma = 0.07616343 and C = 2. \n"
       ]
      }
     ],
     "prompt_number": 124
    },
    {
     "cell_type": "markdown",
     "metadata": {},
     "source": [
      "Great, so SVM automatically tried 9 different values of C while holding the other parameter Sigma constant and picked the values that gave the best results. We really didn't have to do much there. Let's go ahead and evaluate the model as well as submit to Kaggle.  \n",
      "\n",
      "**Model Evaluation - SVM**  "
     ]
    },
    {
     "cell_type": "code",
     "collapsed": false,
     "input": [
      "%%R\n",
      "#Derive predictions using our final LR model on the test set (this is NOT the test.csv file from Kaggle)\n",
      "svm.pred<-predict(svm.tune1, test.set)\n",
      "\n",
      "#Generate the confusion matrix\n",
      "confusionMatrix(svm.pred, test.set$Survived)"
     ],
     "language": "python",
     "metadata": {},
     "outputs": [
      {
       "metadata": {},
       "output_type": "display_data",
       "text": [
        "Confusion Matrix and Statistics\n",
        "\n",
        "          Reference\n",
        "Prediction   0   1\n",
        "         0 100  20\n",
        "         1   9  48\n",
        "                                          \n",
        "               Accuracy : 0.8362          \n",
        "                 95% CI : (0.7732, 0.8874)\n",
        "    No Information Rate : 0.6158          \n",
        "    P-Value [Acc > NIR] : 1.38e-10        \n",
        "                                          \n",
        "                  Kappa : 0.6429          \n",
        " Mcnemar's Test P-Value : 0.06332         \n",
        "                                          \n",
        "            Sensitivity : 0.9174          \n",
        "            Specificity : 0.7059          \n",
        "         Pos Pred Value : 0.8333          \n",
        "         Neg Pred Value : 0.8421          \n",
        "             Prevalence : 0.6158          \n",
        "         Detection Rate : 0.5650          \n",
        "   Detection Prevalence : 0.6780          \n",
        "      Balanced Accuracy : 0.8117          \n",
        "                                          \n",
        "       'Positive' Class : 0               \n",
        "                                          \n"
       ]
      }
     ],
     "prompt_number": 312
    },
    {
     "cell_type": "markdown",
     "metadata": {},
     "source": [
      "The specificity is actually a bit down from the LR model, we're at 70%. Other than that eveyrthing looks pretty similar.  I also just discovered that a Support Vector Machine automatically captures interaction between variables. So the Pclass:Sex interaction we put in has no importance to this model. We'll remove it going forward since Random Forests also automatically identifies interactions.  \n",
      "\n",
      "**Submit to Kaggle**"
     ]
    },
    {
     "cell_type": "code",
     "collapsed": false,
     "input": [
      "%%R\n",
      "#Generate predictions and write as a dataframe, then include PassengerID\n",
      "Survived<-predict(svm.tune1, kaggletest)\n",
      "svm.predictions<-as.data.frame(Survived)\n",
      "svm.predictions$PassengerId<-kaggletest$PassengerId\n",
      "\n",
      "#Write results as a CSV file\n",
      "write.csv(svm.predictions[,c('PassengerId','Survived')], file=\"SVM_Titanic_Predictions.csv\", row.names=FALSE, quote=FALSE)"
     ],
     "language": "python",
     "metadata": {},
     "outputs": [],
     "prompt_number": 355
    },
    {
     "cell_type": "markdown",
     "metadata": {},
     "source": [
      "We scored **0.77512**, an improvement over the Logistic Regression model that took us up the leaderboard a few notches. We're not going to let this go!"
     ]
    },
    {
     "cell_type": "markdown",
     "metadata": {},
     "source": [
      "**Random Forests**  \n",
      "Next up, a very popular and easy to use model, Random Forests. RF builds on the concept of decision trees and expands it by growing multiple trees and averaging out the results to find the best fit. The parameter we need to tune is mtry, that number of features to try at each node. The best recommended value for this parameter is typically the square root of the number of features. Let's give this a shot."
     ]
    },
    {
     "cell_type": "code",
     "collapsed": false,
     "input": [
      "%%R\n",
      "set.seed(35) \n",
      "\n",
      "rfgrid<-data.frame(.mtry=c(2,3,4))\n",
      "\n",
      "#Training a Random Forest model\n",
      "rf.tune1<-train(Survived ~ Sex + Pclass + Age + SibSp + Embarked + FareGroup + Title + Child,\n",
      "                data=train.set,\n",
      "                method='rf',\n",
      "                tuneGrid=rfgrid,\n",
      "                trControl=tenfoldcv)\n",
      "\n",
      "rf.tune1"
     ],
     "language": "python",
     "metadata": {},
     "outputs": [
      {
       "metadata": {},
       "output_type": "display_data",
       "text": [
        "Random Forest \n",
        "\n",
        "714 samples\n",
        " 14 predictors\n",
        "  2 classes: '0', '1' \n",
        "\n",
        "No pre-processing\n",
        "Resampling: Cross-Validated (10 fold, repeated 3 times) \n",
        "\n",
        "Summary of sample sizes: 643, 643, 643, 642, 643, 643, ... \n",
        "\n",
        "Resampling results across tuning parameters:\n",
        "\n",
        "  mtry  Accuracy   Kappa      Accuracy SD  Kappa SD \n",
        "  2     0.8096114  0.5868040  0.05614486   0.1231515\n",
        "  3     0.8120599  0.5869056  0.05485173   0.1228654\n",
        "  4     0.8151139  0.5951016  0.05099510   0.1145908\n",
        "\n",
        "Accuracy was used to select the optimal model using  the largest value.\n",
        "The final value used for the model was mtry = 4. \n"
       ]
      }
     ],
     "prompt_number": 365
    },
    {
     "cell_type": "markdown",
     "metadata": {},
     "source": [
      "Looks like the best mtry value found was 4. Let's complete the formalities.  \n",
      "\n",
      "**Model Evaluation - Random Forests**"
     ]
    },
    {
     "cell_type": "code",
     "collapsed": false,
     "input": [
      "%%R\n",
      "#Derive predictions using our final LR model on the test set (this is NOT the test.csv file from Kaggle)\n",
      "rf.pred<-predict(rf.tune1, test.set)\n",
      "\n",
      "#Generate the confusion matrix\n",
      "confusionMatrix(rf.pred, test.set$Survived)"
     ],
     "language": "python",
     "metadata": {},
     "outputs": [
      {
       "metadata": {},
       "output_type": "display_data",
       "text": [
        "Confusion Matrix and Statistics\n",
        "\n",
        "          Reference\n",
        "Prediction   0   1\n",
        "         0 101  20\n",
        "         1   8  48\n",
        "                                          \n",
        "               Accuracy : 0.8418          \n",
        "                 95% CI : (0.7795, 0.8922)\n",
        "    No Information Rate : 0.6158          \n",
        "    P-Value [Acc > NIR] : 4.229e-11       \n",
        "                                          \n",
        "                  Kappa : 0.6542          \n",
        " Mcnemar's Test P-Value : 0.03764         \n",
        "                                          \n",
        "            Sensitivity : 0.9266          \n",
        "            Specificity : 0.7059          \n",
        "         Pos Pred Value : 0.8347          \n",
        "         Neg Pred Value : 0.8571          \n",
        "             Prevalence : 0.6158          \n",
        "         Detection Rate : 0.5706          \n",
        "   Detection Prevalence : 0.6836          \n",
        "      Balanced Accuracy : 0.8162          \n",
        "                                          \n",
        "       'Positive' Class : 0               \n",
        "                                          \n"
       ]
      }
     ],
     "prompt_number": 353
    },
    {
     "cell_type": "markdown",
     "metadata": {},
     "source": [
      "Well, the specificity is exactly the same, at 70%. I doubt this is going to give us a different result with Kaggle but let's try anyway.\n",
      "\n",
      "**Submit to Kaggle**"
     ]
    },
    {
     "cell_type": "code",
     "collapsed": false,
     "input": [
      "%%R\n",
      "#Generate predictions and write as a dataframe, then include PassengerID\n",
      "Survived<-predict(rf.tune1, kaggletest)\n",
      "rf.predictions<-as.data.frame(Survived)\n",
      "rf.predictions$PassengerId<-kaggletest$PassengerId\n",
      "\n",
      "#Write results as a CSV file\n",
      "write.csv(rf.predictions[,c('PassengerId','Survived')], file=\"RF_Titanic_Predictions.csv\", row.names=FALSE, quote=FALSE)"
     ],
     "language": "python",
     "metadata": {},
     "outputs": [],
     "prompt_number": 357
    },
    {
     "cell_type": "markdown",
     "metadata": {},
     "source": [
      "Surprise, we scored **0.78469** bringing us midway on the leaderboard. So we're definitely making headway!\n",
      "\n",
      "**Feature Importances**  \n",
      "Before we move ahead let's look at a key statistic that comes from running a tree based model. It's called feature importances, which tells us how much of an impact each of the features we're feeding to the model has to the final outcome."
     ]
    },
    {
     "cell_type": "code",
     "collapsed": false,
     "input": [
      "%%R\n",
      "#Print variable importan\n",
      "varImp(rf.tune1$finalModel)"
     ],
     "language": "python",
     "metadata": {},
     "outputs": [
      {
       "metadata": {},
       "output_type": "display_data",
       "text": [
        "                 Overall\n",
        "Sexmale        41.576129\n",
        "Pclass2         6.801074\n",
        "Pclass3        21.558667\n",
        "Age            36.931313\n",
        "SibSp          15.046491\n",
        "EmbarkedQ       2.972848\n",
        "EmbarkedS       6.683872\n",
        "FareGroup10-20  3.980921\n",
        "FareGroup20-40  6.418674\n",
        "FareGroup40+   10.203688\n",
        "TitleMiss      11.145308\n",
        "TitleMr        36.630889\n",
        "TitleMrs       10.509372\n",
        "TitleNoble      2.862573\n",
        "Child           4.153887\n"
       ]
      }
     ],
     "prompt_number": 370
    },
    {
     "cell_type": "markdown",
     "metadata": {},
     "source": [
      "That's very interesting. We always knew that Gender was the most important variable. Sexmale by the way shows up there because it's the class that suffered the most. We see here that Age and \"Mr.\" Title take the second spot. That is a revelation of sorts. SibSp also seems quite important compared to say Embarked.\n",
      "\n",
      "Before we move ahead with other models, I am really curious to try a few more things out with RF. I would like to measure the impact of adding a couple of features we've left out, Family Size and Parch and see how they pan out in terms of importance. Offline I tried adding FamID and it again created a negative impact so I am leaving it out for good"
     ]
    },
    {
     "cell_type": "code",
     "collapsed": false,
     "input": [
      "%%R\n",
      "set.seed(35) \n",
      "\n",
      "#Notice how we're trying out 2-5 features at each node now since we're adding a couple of features to train.\n",
      "rfgrid<-data.frame(.mtry=c(2,3,4,5))\n",
      "\n",
      "#Training a Random Forest model\n",
      "rf.tune2<-train(Survived ~ Sex + Pclass + Age + SibSp + Embarked + FareGroup + Title + Child + FamSize + Parch,\n",
      "                data=train.set,\n",
      "                method='rf',\n",
      "                tuneGrid=rfgrid,\n",
      "                trControl=tenfoldcv)\n",
      "\n",
      "rf.tune2"
     ],
     "language": "python",
     "metadata": {},
     "outputs": [
      {
       "metadata": {},
       "output_type": "display_data",
       "text": [
        "Random Forest \n",
        "\n",
        "714 samples\n",
        " 14 predictors\n",
        "  2 classes: '0', '1' \n",
        "\n",
        "No pre-processing\n",
        "Resampling: Cross-Validated (10 fold, repeated 3 times) \n",
        "\n",
        "Summary of sample sizes: 643, 643, 643, 642, 643, 643, ... \n",
        "\n",
        "Resampling results across tuning parameters:\n",
        "\n",
        "  mtry  Accuracy   Kappa      Accuracy SD  Kappa SD  \n",
        "  2     0.8161450  0.6018844  0.05130416   0.11229173\n",
        "  3     0.8114502  0.5872835  0.05293296   0.11855522\n",
        "  4     0.8133020  0.5920896  0.04751211   0.10699385\n",
        "  5     0.8221049  0.6147302  0.04405445   0.09805046\n",
        "\n",
        "Accuracy was used to select the optimal model using  the largest value.\n",
        "The final value used for the model was mtry = 5. \n"
       ]
      }
     ],
     "prompt_number": 41
    },
    {
     "cell_type": "markdown",
     "metadata": {},
     "source": [
      "As expected, the best mtry value this time was 5. Let's look at the feature importances."
     ]
    },
    {
     "cell_type": "code",
     "collapsed": false,
     "input": [
      "%%R\n",
      "varImp(rf.tune2$finalModel)"
     ],
     "language": "python",
     "metadata": {},
     "outputs": [
      {
       "metadata": {},
       "output_type": "display_data",
       "text": [
        "                 Overall\n",
        "Sexmale        43.453469\n",
        "Pclass2         6.453174\n",
        "Pclass3        19.967399\n",
        "Age            42.531124\n",
        "SibSp          10.604394\n",
        "EmbarkedQ       2.998889\n",
        "EmbarkedS       6.815784\n",
        "FareGroup10-20  4.111547\n",
        "FareGroup20-40  6.365776\n",
        "FareGroup40+    9.403774\n",
        "TitleMiss      10.173660\n",
        "TitleMr        38.239391\n",
        "TitleMrs        8.937783\n",
        "TitleNoble      2.831949\n",
        "Child           3.719191\n",
        "FamSize        19.145703\n",
        "Parch           7.960594\n"
       ]
      }
     ],
     "prompt_number": 73
    },
    {
     "cell_type": "markdown",
     "metadata": {},
     "source": [
      "So it worked out well. Parch and especially FamSize seem to be reasonably important. I believe feature selection plays a very important role in Tree based on models (not that they don't in others but perhaps even more important in this case). OK let's run predictions then re-submit to Kaggle to see if we can improve the score."
     ]
    },
    {
     "cell_type": "code",
     "collapsed": false,
     "input": [
      "%%R\n",
      "#Derive predictions using our final LR model on the test set (this is NOT the test.csv file from Kaggle)\n",
      "rf.pred<-predict(rf.tune2, test.set)\n",
      "\n",
      "#Generate the confusion matrix\n",
      "confusionMatrix(rf.pred, test.set$Survived)"
     ],
     "language": "python",
     "metadata": {},
     "outputs": [
      {
       "metadata": {},
       "output_type": "display_data",
       "text": [
        "Confusion Matrix and Statistics\n",
        "\n",
        "          Reference\n",
        "Prediction  0  1\n",
        "         0 98 20\n",
        "         1 11 48\n",
        "                                          \n",
        "               Accuracy : 0.8249          \n",
        "                 95% CI : (0.7607, 0.8778)\n",
        "    No Information Rate : 0.6158          \n",
        "    P-Value [Acc > NIR] : 1.304e-09       \n",
        "                                          \n",
        "                  Kappa : 0.6204          \n",
        " Mcnemar's Test P-Value : 0.1508          \n",
        "                                          \n",
        "            Sensitivity : 0.8991          \n",
        "            Specificity : 0.7059          \n",
        "         Pos Pred Value : 0.8305          \n",
        "         Neg Pred Value : 0.8136          \n",
        "             Prevalence : 0.6158          \n",
        "         Detection Rate : 0.5537          \n",
        "   Detection Prevalence : 0.6667          \n",
        "      Balanced Accuracy : 0.8025          \n",
        "                                          \n",
        "       'Positive' Class : 0               \n",
        "                                          \n"
       ]
      }
     ],
     "prompt_number": 43
    },
    {
     "cell_type": "markdown",
     "metadata": {},
     "source": [
      "No difference on predictions in our Test set. The sensitivity is the same. But let's try submitting to Kaggle anyway."
     ]
    },
    {
     "cell_type": "code",
     "collapsed": false,
     "input": [
      "%%R\n",
      "#Generate predictions and write as a dataframe, then include PassengerID\n",
      "Survived<-predict(rf.tune2, kaggletest)\n",
      "rf.predictions<-as.data.frame(Survived)\n",
      "rf.predictions$PassengerId<-kaggletest$PassengerId\n",
      "\n",
      "#Write results as a CSV file\n",
      "write.csv(rf.predictions[,c('PassengerId','Survived')], file=\"RF_Titanic_Predictions.csv\", row.names=FALSE, quote=FALSE)"
     ],
     "language": "python",
     "metadata": {},
     "outputs": [],
     "prompt_number": 44
    },
    {
     "cell_type": "markdown",
     "metadata": {},
     "source": [
      "Guess what, we did make an improvement to the Kaggle score. This model scored **0.78947** bringing us to the top 1/3rd of the leaderboard. Since tree based models are giving us great results let's try one more, a very interesting model called *Conditional Trees*.  \n",
      "\n",
      "**Conditional Trees**  \n",
      "Conditional Tree based models supposedly tend to select variables that have many possible splits or many missing values. So instead of Random Forests which tries to find out which variables are important, using an information measure, these models perform sort of a significance test to see which features will yield the best results at each split. Let's give this a whirl. \n",
      "\n",
      "Note that there are two Conditional Tree packages in caret (ctree, ctree2). We will be using ctree2 which allows us to tune the Max Depth, how deep the trees can grow."
     ]
    },
    {
     "cell_type": "code",
     "collapsed": false,
     "input": [
      "%%R\n",
      "set.seed(35) \n",
      "\n",
      "ctrgrid<-data.frame(.maxdepth=c(2,3,4,5,6))\n",
      "\n",
      "#Training a Conditional Tree model\n",
      "ctr.tune1<-train(Survived ~ Sex + Pclass + Age + SibSp + Embarked + FareGroup + Title + Child + FamSize + Parch,\n",
      "                data=train.set,\n",
      "                method='ctree2',\n",
      "                tuneGrid=ctrgrid,\n",
      "                trControl=tenfoldcv)\n",
      "\n",
      "ctr.tune1"
     ],
     "language": "python",
     "metadata": {},
     "outputs": [
      {
       "metadata": {},
       "output_type": "display_data",
       "text": [
        "Conditional Inference Tree \n",
        "\n",
        "714 samples\n",
        " 14 predictors\n",
        "  2 classes: '0', '1' \n",
        "\n",
        "No pre-processing\n",
        "Resampling: Cross-Validated (10 fold, repeated 3 times) \n",
        "\n",
        "Summary of sample sizes: 643, 643, 643, 642, 643, 643, ... \n",
        "\n",
        "Resampling results across tuning parameters:\n",
        "\n",
        "  maxdepth  Accuracy   Kappa      Accuracy SD  Kappa SD \n",
        "  2         0.7707812  0.4755401  0.04604332   0.1104954\n",
        "  3         0.8077726  0.5855616  0.05702946   0.1237835\n",
        "  4         0.8236502  0.6130369  0.05491988   0.1236674\n",
        "  5         0.8194444  0.6055659  0.04897090   0.1102774\n",
        "  6         0.8152061  0.5960590  0.05126715   0.1141253\n",
        "\n",
        "Accuracy was used to select the optimal model using  the largest value.\n",
        "The final value used for the model was maxdepth = 4. \n"
       ]
      }
     ],
     "prompt_number": 75
    },
    {
     "cell_type": "markdown",
     "metadata": {},
     "source": [
      "OK that did give us a better accuracy at Max Depth 4. Before we run predictions, let's visualize the tree that was built for the final model."
     ]
    },
    {
     "cell_type": "code",
     "collapsed": false,
     "input": [
      "%%R\n",
      "plot(ctr.tune1$finalModel)"
     ],
     "language": "python",
     "metadata": {},
     "outputs": [
      {
       "metadata": {},
       "output_type": "display_data",
       "png": "[encoded data removed]"
      }
     ],
     "prompt_number": 115
    },
    {
     "cell_type": "markdown",
     "metadata": {},
     "source": [
      "We can observe here that Sexmale as expected was the starting node. From then on, Pclass and TitleMr took the honors for level 2 leading further then to the other variables. We're now ready to evaluate the model and run the predictions.  \n",
      "\n",
      "**Model Evaluation - Conditional Trees**  "
     ]
    },
    {
     "cell_type": "code",
     "collapsed": false,
     "input": [
      "%%R\n",
      "#Derive predictions using our final LR model on the test set (this is NOT the test.csv file from Kaggle)\n",
      "ctr.pred<-predict(ctr.tune1, test.set)\n",
      "\n",
      "#Generate the confusion matrix\n",
      "confusionMatrix(ctr.pred, test.set$Survived)"
     ],
     "language": "python",
     "metadata": {},
     "outputs": [
      {
       "metadata": {},
       "output_type": "display_data",
       "text": [
        "Confusion Matrix and Statistics\n",
        "\n",
        "          Reference\n",
        "Prediction   0   1\n",
        "         0 102  19\n",
        "         1   7  49\n",
        "                                          \n",
        "               Accuracy : 0.8531          \n",
        "                 95% CI : (0.7922, 0.9017)\n",
        "    No Information Rate : 0.6158          \n",
        "    P-Value [Acc > NIR] : 3.506e-12       \n",
        "                                          \n",
        "                  Kappa : 0.6789          \n",
        " Mcnemar's Test P-Value : 0.03098         \n",
        "                                          \n",
        "            Sensitivity : 0.9358          \n",
        "            Specificity : 0.7206          \n",
        "         Pos Pred Value : 0.8430          \n",
        "         Neg Pred Value : 0.8750          \n",
        "             Prevalence : 0.6158          \n",
        "         Detection Rate : 0.5763          \n",
        "   Detection Prevalence : 0.6836          \n",
        "      Balanced Accuracy : 0.8282          \n",
        "                                          \n",
        "       'Positive' Class : 0               \n",
        "                                          \n"
       ]
      }
     ],
     "prompt_number": 76
    },
    {
     "cell_type": "markdown",
     "metadata": {},
     "source": [
      "So that gave us a better Specificity on the Test set at 72.06%. I am interested to see how this tests out at Kaggle.  \n",
      "\n",
      "**Submit to Kaggle**"
     ]
    },
    {
     "cell_type": "code",
     "collapsed": false,
     "input": [
      "%%R\n",
      "#Generate predictions and write as a dataframe, then include PassengerID\n",
      "Survived<-predict(ctr.tune1, kaggletest)\n",
      "ctr.predictions<-as.data.frame(Survived)\n",
      "ctr.predictions$PassengerId<-kaggletest$PassengerId\n",
      "\n",
      "#Write results as a CSV file\n",
      "write.csv(ctr.predictions[,c('PassengerId','Survived')], file=\"CTR_Titanic_Predictions.csv\", row.names=FALSE, quote=FALSE)"
     ],
     "language": "python",
     "metadata": {},
     "outputs": [],
     "prompt_number": 91
    },
    {
     "cell_type": "markdown",
     "metadata": {},
     "source": [
      "The model scored **0.77512** which is actually slightly worse than how Random Forests did. So the best model in terms of the Kaggle leaderboard has been Random Forests. But let's run a formal comparison of all the models we've built so far."
     ]
    },
    {
     "cell_type": "markdown",
     "metadata": {},
     "source": [
      "**Model Comparison**  \n",
      "The resamples method in the caret package makes it easy to compare results between different models."
     ]
    },
    {
     "cell_type": "code",
     "collapsed": false,
     "input": [
      "%%R\n",
      "modelcompare<-resamples(list(Logit = logit.tune6, SVM = svm.tune1, RF = rf.tune2, CTREE = ctr.tune1 ))\n",
      "summary(modelcompare)"
     ],
     "language": "python",
     "metadata": {},
     "outputs": [
      {
       "metadata": {},
       "output_type": "display_data",
       "text": [
        "\n",
        "Call:\n",
        "summary.resamples(object = modelcompare)\n",
        "\n",
        "Models: Logit, SVM, RF, CTREE \n",
        "Number of resamples: 24 \n",
        "\n",
        "Accuracy \n",
        "        Min. 1st Qu. Median   Mean 3rd Qu.   Max. NA's\n",
        "Logit 0.7465  0.7887 0.8042 0.8145  0.8333 0.9437    0\n",
        "SVM   0.7606  0.7778 0.8042 0.8244  0.8677 0.9296    0\n",
        "RF    0.7606  0.7917 0.8182 0.8250  0.8592 0.9155    0\n",
        "CTREE 0.7361  0.7770 0.8099 0.8216  0.8502 0.9577    0\n",
        "\n",
        "Kappa \n",
        "        Min. 1st Qu. Median   Mean 3rd Qu.   Max. NA's\n",
        "Logit 0.4295  0.5334 0.5747 0.5969  0.6505 0.8787    0\n",
        "SVM   0.4570  0.5146 0.5612 0.6149  0.7173 0.8495    0\n",
        "RF    0.4652  0.5392 0.6140 0.6195  0.7012 0.8232    0\n",
        "CTREE 0.4338  0.5003 0.5771 0.6083  0.6847 0.9097    0\n",
        "\n"
       ]
      }
     ],
     "prompt_number": 126
    },
    {
     "cell_type": "markdown",
     "metadata": {},
     "source": [
      "We can see that for the metric we chose (Accuracy), Random Forests outperformed the other models. Note here that we could've chosen ROC (Receiver Operating Characteristic) as the metric in which case, we'd have needed to generate class probabilties - that is, probability for survived/not survived for every data item rather than letting crossvalidation generate predictions automatically. I intend to learn and demonstrate these concepts in a seperate session. For now, let's plot the results in a couple of different ways.\n",
      "\n",
      "**Box Plot of Model Comparison Results**"
     ]
    },
    {
     "cell_type": "code",
     "collapsed": false,
     "input": [
      "%%R\n",
      "bwplot(modelcompare)"
     ],
     "language": "python",
     "metadata": {},
     "outputs": [
      {
       "metadata": {},
       "output_type": "display_data",
       "png": "[encoded data removed]"
      }
     ],
     "prompt_number": 128
    },
    {
     "cell_type": "markdown",
     "metadata": {},
     "source": [
      "**Dot Plot of Model Comparison Results**"
     ]
    },
    {
     "cell_type": "code",
     "collapsed": false,
     "input": [
      "%%R\n",
      "dotplot(modelcompare)"
     ],
     "language": "python",
     "metadata": {},
     "outputs": [
      {
       "metadata": {},
       "output_type": "display_data",
       "png": "[encoded data removed]"
      }
     ],
     "prompt_number": 129
    },
    {
     "cell_type": "markdown",
     "metadata": {},
     "source": [
      "So there you have it. We took the Titanic dataset presented by Kaggle, imported and visualized the data in a series of plots, munged the data to address gaps and fitted 4 different models with varying results, all in R, special thanks to the caret package. We only managed to get up to 0.7894 on the Kaggle leaderboard but the point of this exercise was to learn and demonstrate machine learning concepts in R. Hope we've achieved that objective.\n",
      "\n",
      "I will be happy to receive your feedback positive or negative but try to be nice, I am just learning :-)"
     ]
    }
   ],
   "metadata": {}
  }
 ]
}